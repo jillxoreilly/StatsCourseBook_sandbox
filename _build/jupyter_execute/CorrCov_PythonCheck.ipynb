{
 "cells": [
  {
   "cell_type": "markdown",
   "id": "5acb658a",
   "metadata": {},
   "source": [
    "# Python skills check\n",
    "\n",
    "You should work through this before the tutorial. The idea is for you to find the relevant code snippets int he worked examples you have just read, and modify them to work for your requirements here\n",
    "\n",
    "## Oxford weather station data\n",
    "\n",
    "We will work with historical data from the Oxford weather station\n",
    "\n",
    "<img src= \"https://raw.githubusercontent.com/jillxoreilly/StatsCourseBook/main/images/OxfordSnow.jpg\" width=\"50%\"  />"
   ]
  },
  {
   "cell_type": "markdown",
   "id": "c368db3e",
   "metadata": {},
   "source": [
    "### Set up Python libraries\n",
    "\n",
    "As usual, run the code cell below to import the relevant Python libraries"
   ]
  },
  {
   "cell_type": "code",
   "execution_count": 1,
   "id": "159964a1",
   "metadata": {},
   "outputs": [],
   "source": [
    "# Set-up Python libraries - you need to run this but you don't need to change it\n",
    "import numpy as np\n",
    "import matplotlib.pyplot as plt\n",
    "import scipy.stats as stats\n",
    "import pandas \n",
    "import seaborn as sns\n",
    "sns.set_theme()"
   ]
  },
  {
   "cell_type": "markdown",
   "id": "d9ce162e",
   "metadata": {},
   "source": [
    "### Load and inspect the data\n",
    "\n",
    "Let's load some historical data about the weather in Oxford, from the file \"OxfordWeather.csv\""
   ]
  },
  {
   "cell_type": "code",
   "execution_count": 2,
   "id": "0691586e",
   "metadata": {},
   "outputs": [
    {
     "data": {
      "text/html": [
       "<div>\n",
       "<style scoped>\n",
       "    .dataframe tbody tr th:only-of-type {\n",
       "        vertical-align: middle;\n",
       "    }\n",
       "\n",
       "    .dataframe tbody tr th {\n",
       "        vertical-align: top;\n",
       "    }\n",
       "\n",
       "    .dataframe thead th {\n",
       "        text-align: right;\n",
       "    }\n",
       "</style>\n",
       "<table border=\"1\" class=\"dataframe\">\n",
       "  <thead>\n",
       "    <tr style=\"text-align: right;\">\n",
       "      <th></th>\n",
       "      <th>YYYY</th>\n",
       "      <th>MM</th>\n",
       "      <th>DD</th>\n",
       "      <th>Tmax</th>\n",
       "      <th>Tmin</th>\n",
       "      <th>Tmean</th>\n",
       "      <th>Trange</th>\n",
       "      <th>Rainfall_mm</th>\n",
       "    </tr>\n",
       "  </thead>\n",
       "  <tbody>\n",
       "    <tr>\n",
       "      <th>0</th>\n",
       "      <td>1827</td>\n",
       "      <td>1</td>\n",
       "      <td>1</td>\n",
       "      <td>8.3</td>\n",
       "      <td>5.6</td>\n",
       "      <td>7.0</td>\n",
       "      <td>2.7</td>\n",
       "      <td>0.0</td>\n",
       "    </tr>\n",
       "    <tr>\n",
       "      <th>1</th>\n",
       "      <td>1827</td>\n",
       "      <td>1</td>\n",
       "      <td>2</td>\n",
       "      <td>2.2</td>\n",
       "      <td>0.0</td>\n",
       "      <td>1.1</td>\n",
       "      <td>2.2</td>\n",
       "      <td>0.0</td>\n",
       "    </tr>\n",
       "    <tr>\n",
       "      <th>2</th>\n",
       "      <td>1827</td>\n",
       "      <td>1</td>\n",
       "      <td>3</td>\n",
       "      <td>-2.2</td>\n",
       "      <td>-8.3</td>\n",
       "      <td>-5.3</td>\n",
       "      <td>6.1</td>\n",
       "      <td>9.7</td>\n",
       "    </tr>\n",
       "    <tr>\n",
       "      <th>3</th>\n",
       "      <td>1827</td>\n",
       "      <td>1</td>\n",
       "      <td>4</td>\n",
       "      <td>-1.7</td>\n",
       "      <td>-7.8</td>\n",
       "      <td>-4.8</td>\n",
       "      <td>6.1</td>\n",
       "      <td>0.0</td>\n",
       "    </tr>\n",
       "    <tr>\n",
       "      <th>4</th>\n",
       "      <td>1827</td>\n",
       "      <td>1</td>\n",
       "      <td>5</td>\n",
       "      <td>0.0</td>\n",
       "      <td>-10.6</td>\n",
       "      <td>-5.3</td>\n",
       "      <td>10.6</td>\n",
       "      <td>0.0</td>\n",
       "    </tr>\n",
       "    <tr>\n",
       "      <th>...</th>\n",
       "      <td>...</td>\n",
       "      <td>...</td>\n",
       "      <td>...</td>\n",
       "      <td>...</td>\n",
       "      <td>...</td>\n",
       "      <td>...</td>\n",
       "      <td>...</td>\n",
       "      <td>...</td>\n",
       "    </tr>\n",
       "    <tr>\n",
       "      <th>71338</th>\n",
       "      <td>2022</td>\n",
       "      <td>4</td>\n",
       "      <td>26</td>\n",
       "      <td>15.2</td>\n",
       "      <td>4.1</td>\n",
       "      <td>9.7</td>\n",
       "      <td>11.1</td>\n",
       "      <td>0.0</td>\n",
       "    </tr>\n",
       "    <tr>\n",
       "      <th>71339</th>\n",
       "      <td>2022</td>\n",
       "      <td>4</td>\n",
       "      <td>27</td>\n",
       "      <td>10.7</td>\n",
       "      <td>2.6</td>\n",
       "      <td>6.7</td>\n",
       "      <td>8.1</td>\n",
       "      <td>0.0</td>\n",
       "    </tr>\n",
       "    <tr>\n",
       "      <th>71340</th>\n",
       "      <td>2022</td>\n",
       "      <td>4</td>\n",
       "      <td>28</td>\n",
       "      <td>12.7</td>\n",
       "      <td>3.9</td>\n",
       "      <td>8.3</td>\n",
       "      <td>8.8</td>\n",
       "      <td>0.0</td>\n",
       "    </tr>\n",
       "    <tr>\n",
       "      <th>71341</th>\n",
       "      <td>2022</td>\n",
       "      <td>4</td>\n",
       "      <td>29</td>\n",
       "      <td>11.7</td>\n",
       "      <td>6.7</td>\n",
       "      <td>9.2</td>\n",
       "      <td>5.0</td>\n",
       "      <td>0.0</td>\n",
       "    </tr>\n",
       "    <tr>\n",
       "      <th>71342</th>\n",
       "      <td>2022</td>\n",
       "      <td>4</td>\n",
       "      <td>30</td>\n",
       "      <td>17.6</td>\n",
       "      <td>1.0</td>\n",
       "      <td>9.3</td>\n",
       "      <td>16.6</td>\n",
       "      <td>0.0</td>\n",
       "    </tr>\n",
       "  </tbody>\n",
       "</table>\n",
       "<p>71343 rows × 8 columns</p>\n",
       "</div>"
      ],
      "text/plain": [
       "       YYYY  MM  DD  Tmax  Tmin  Tmean  Trange  Rainfall_mm\n",
       "0      1827   1   1   8.3   5.6    7.0     2.7          0.0\n",
       "1      1827   1   2   2.2   0.0    1.1     2.2          0.0\n",
       "2      1827   1   3  -2.2  -8.3   -5.3     6.1          9.7\n",
       "3      1827   1   4  -1.7  -7.8   -4.8     6.1          0.0\n",
       "4      1827   1   5   0.0 -10.6   -5.3    10.6          0.0\n",
       "...     ...  ..  ..   ...   ...    ...     ...          ...\n",
       "71338  2022   4  26  15.2   4.1    9.7    11.1          0.0\n",
       "71339  2022   4  27  10.7   2.6    6.7     8.1          0.0\n",
       "71340  2022   4  28  12.7   3.9    8.3     8.8          0.0\n",
       "71341  2022   4  29  11.7   6.7    9.2     5.0          0.0\n",
       "71342  2022   4  30  17.6   1.0    9.3    16.6          0.0\n",
       "\n",
       "[71343 rows x 8 columns]"
      ]
     },
     "metadata": {},
     "output_type": "display_data"
    }
   ],
   "source": [
    "weather = pandas.read_csv(\"https://raw.githubusercontent.com/jillxoreilly/StatsCourseBook/main/data/OxfordWeather.csv\")\n",
    "display(weather)"
   ]
  },
  {
   "cell_type": "markdown",
   "id": "aa79cb0b",
   "metadata": {},
   "source": [
    "### Correlation and covariance\n",
    "\n",
    "Create a plot to show the relationship between mean temp (Tmean) and rainfall"
   ]
  },
  {
   "cell_type": "code",
   "execution_count": 3,
   "id": "535be313",
   "metadata": {},
   "outputs": [],
   "source": [
    "# your code here"
   ]
  },
  {
   "cell_type": "markdown",
   "id": "ef47d1cd",
   "metadata": {},
   "source": [
    "If I want to measure the correlation between Tmean and rainfall, which method should I use?\n",
    "\n",
    "Using the appropriate method, obtain the full correlation matrix for the <tt>weather</tt> dataframe"
   ]
  },
  {
   "cell_type": "code",
   "execution_count": 4,
   "id": "e017632d",
   "metadata": {},
   "outputs": [],
   "source": [
    "# your code here"
   ]
  },
  {
   "cell_type": "markdown",
   "id": "524e7172",
   "metadata": {},
   "source": [
    "... and just the correlation between Tmean and rainfall"
   ]
  },
  {
   "cell_type": "code",
   "execution_count": 5,
   "id": "71d876a2",
   "metadata": {},
   "outputs": [],
   "source": [
    "# your code here"
   ]
  },
  {
   "cell_type": "markdown",
   "id": "90284f79",
   "metadata": {},
   "source": [
    "Obtain the covariance between Tmin and Tmax"
   ]
  },
  {
   "cell_type": "code",
   "execution_count": 6,
   "id": "200aeac4",
   "metadata": {},
   "outputs": [],
   "source": [
    "# your code here"
   ]
  },
  {
   "cell_type": "markdown",
   "id": "dc243e3d",
   "metadata": {},
   "source": [
    "### The end!"
   ]
  },
  {
   "cell_type": "code",
   "execution_count": null,
   "id": "8743fd88",
   "metadata": {},
   "outputs": [],
   "source": []
  }
 ],
 "metadata": {
  "kernelspec": {
   "display_name": "Python 3 (ipykernel)",
   "language": "python",
   "name": "python3"
  },
  "language_info": {
   "codemirror_mode": {
    "name": "ipython",
    "version": 3
   },
   "file_extension": ".py",
   "mimetype": "text/x-python",
   "name": "python",
   "nbconvert_exporter": "python",
   "pygments_lexer": "ipython3",
   "version": "3.9.13"
  }
 },
 "nbformat": 4,
 "nbformat_minor": 5
}