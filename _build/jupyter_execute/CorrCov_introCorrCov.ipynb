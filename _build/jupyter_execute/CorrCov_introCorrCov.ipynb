{
 "cells": [
  {
   "cell_type": "markdown",
   "id": "8501b536",
   "metadata": {},
   "source": [
    "# Covariance and Correlation"
   ]
  },
  {
   "cell_type": "markdown",
   "id": "06a3540a",
   "metadata": {},
   "source": [
    "## Example\n",
    "\n",
    "We will look at a dataset containing of measurements of heights and middle finger lengths for 3000 men (this is adapted from a dataset bizarrely recorded for jail inmates 1902 - W. R. MacDonell (Biometrika, Vol. I., p. 219)). \n",
    "\n",
    "\n",
    "### Set up Python libraries\n",
    "\n",
    "As usual, run the code cell below to import the relevant Python libraries"
   ]
  },
  {
   "cell_type": "code",
   "execution_count": 1,
   "id": "7f1d34e0",
   "metadata": {},
   "outputs": [],
   "source": [
    "# Set-up Python libraries - you need to run this but you don't need to change it\n",
    "import numpy as np\n",
    "import matplotlib.pyplot as plt\n",
    "import scipy.stats as stats\n",
    "import pandas \n",
    "import seaborn as sns\n",
    "sns.set_theme() # use pretty defaults"
   ]
  },
  {
   "cell_type": "markdown",
   "id": "36ec0b2a",
   "metadata": {},
   "source": [
    "### Load and inspect the data\n",
    "\n",
    "Load the data from the file HeightFinger.csv"
   ]
  },
  {
   "cell_type": "code",
   "execution_count": 2,
   "id": "5bf8d8ff",
   "metadata": {},
   "outputs": [
    {
     "data": {
      "text/html": [
       "<div>\n",
       "<style scoped>\n",
       "    .dataframe tbody tr th:only-of-type {\n",
       "        vertical-align: middle;\n",
       "    }\n",
       "\n",
       "    .dataframe tbody tr th {\n",
       "        vertical-align: top;\n",
       "    }\n",
       "\n",
       "    .dataframe thead th {\n",
       "        text-align: right;\n",
       "    }\n",
       "</style>\n",
       "<table border=\"1\" class=\"dataframe\">\n",
       "  <thead>\n",
       "    <tr style=\"text-align: right;\">\n",
       "      <th></th>\n",
       "      <th>Height</th>\n",
       "      <th>FingerLength</th>\n",
       "    </tr>\n",
       "  </thead>\n",
       "  <tbody>\n",
       "    <tr>\n",
       "      <th>0</th>\n",
       "      <td>56</td>\n",
       "      <td>3.875</td>\n",
       "    </tr>\n",
       "    <tr>\n",
       "      <th>1</th>\n",
       "      <td>57</td>\n",
       "      <td>4.000</td>\n",
       "    </tr>\n",
       "    <tr>\n",
       "      <th>2</th>\n",
       "      <td>58</td>\n",
       "      <td>3.875</td>\n",
       "    </tr>\n",
       "    <tr>\n",
       "      <th>3</th>\n",
       "      <td>58</td>\n",
       "      <td>4.000</td>\n",
       "    </tr>\n",
       "    <tr>\n",
       "      <th>4</th>\n",
       "      <td>58</td>\n",
       "      <td>4.000</td>\n",
       "    </tr>\n",
       "    <tr>\n",
       "      <th>...</th>\n",
       "      <td>...</td>\n",
       "      <td>...</td>\n",
       "    </tr>\n",
       "    <tr>\n",
       "      <th>2995</th>\n",
       "      <td>74</td>\n",
       "      <td>4.875</td>\n",
       "    </tr>\n",
       "    <tr>\n",
       "      <th>2996</th>\n",
       "      <td>74</td>\n",
       "      <td>5.000</td>\n",
       "    </tr>\n",
       "    <tr>\n",
       "      <th>2997</th>\n",
       "      <td>74</td>\n",
       "      <td>5.000</td>\n",
       "    </tr>\n",
       "    <tr>\n",
       "      <th>2998</th>\n",
       "      <td>74</td>\n",
       "      <td>5.250</td>\n",
       "    </tr>\n",
       "    <tr>\n",
       "      <th>2999</th>\n",
       "      <td>77</td>\n",
       "      <td>4.375</td>\n",
       "    </tr>\n",
       "  </tbody>\n",
       "</table>\n",
       "<p>3000 rows × 2 columns</p>\n",
       "</div>"
      ],
      "text/plain": [
       "      Height  FingerLength\n",
       "0         56         3.875\n",
       "1         57         4.000\n",
       "2         58         3.875\n",
       "3         58         4.000\n",
       "4         58         4.000\n",
       "...      ...           ...\n",
       "2995      74         4.875\n",
       "2996      74         5.000\n",
       "2997      74         5.000\n",
       "2998      74         5.250\n",
       "2999      77         4.375\n",
       "\n",
       "[3000 rows x 2 columns]"
      ]
     },
     "metadata": {},
     "output_type": "display_data"
    }
   ],
   "source": [
    "heightFinger = pandas.read_csv('https://raw.githubusercontent.com/jillxoreilly/StatsCourseBook/main/data/HeightFingerInches.csv')\n",
    "display(heightFinger)"
   ]
  },
  {
   "cell_type": "markdown",
   "id": "b9c1eaba",
   "metadata": {},
   "source": [
    "The height data are in inches and are rounded to the nearest inch. \n",
    "\n",
    "Finger lengths are in inches and rounded to the nearest 1/8 of an inch.\n",
    "\n",
    "### Plot the data\n",
    "\n",
    "Let's plot the data. A scatterplot is usually a good choice for bivariate data such as these."
   ]
  },
  {
   "cell_type": "code",
   "execution_count": 3,
   "id": "7dd85335",
   "metadata": {},
   "outputs": [
    {
     "data": {
      "text/plain": [
       "<AxesSubplot:xlabel='Height', ylabel='FingerLength'>"
      ]
     },
     "execution_count": 3,
     "metadata": {},
     "output_type": "execute_result"
    },
    {
     "data": {
      "image/png": "[encoded data removed]",
      "text/plain": [
       "<Figure size 640x480 with 1 Axes>"
      ]
     },
     "metadata": {
      "filenames": {
       "image/png": "/Users/joreilly/Desktop/JupyterNotebooks/StatsCourseBook/StatsCourseBook_sandbox/_build/jupyter_execute/CorrCov_introCorrCov_6_1.png"
      }
     },
     "output_type": "display_data"
    }
   ],
   "source": [
    "sns.scatterplot(data=heightFinger, x='Height', y='FingerLength')"
   ]
  },
  {
   "cell_type": "markdown",
   "id": "5a41e12d",
   "metadata": {},
   "source": [
    "Hm, that looks strange. Because data were rounded to the nearest inch or 1/8th inch, the data points appear to be on a regular grid. \n",
    "\n",
    "One consequence of this is that some datapoints will fall exactly on top of each other! You can see this if I make the data points a bit transparent (by using the alpha parameter) so that the dots appear darker where several fall on top of eachother"
   ]
  },
  {
   "cell_type": "code",
   "execution_count": 4,
   "id": "47bac5dd",
   "metadata": {},
   "outputs": [
    {
     "data": {
      "text/plain": [
       "<AxesSubplot:xlabel='Height', ylabel='FingerLength'>"
      ]
     },
     "execution_count": 4,
     "metadata": {},
     "output_type": "execute_result"
    },
    {
     "data": {
      "image/png": "[encoded data removed]",
      "text/plain": [
       "<Figure size 640x480 with 1 Axes>"
      ]
     },
     "metadata": {
      "filenames": {
       "image/png": "/Users/joreilly/Desktop/JupyterNotebooks/StatsCourseBook/StatsCourseBook_sandbox/_build/jupyter_execute/CorrCov_introCorrCov_8_1.png"
      }
     },
     "output_type": "display_data"
    }
   ],
   "source": [
    "sns.scatterplot(data=heightFinger, x='Height', y='FingerLength', alpha=0.1)"
   ]
  },
  {
   "cell_type": "markdown",
   "id": "ed73b14d",
   "metadata": {},
   "source": [
    "Alternatively, we can visualise the data using another type of plot such as a 2D KDE plot - this is a good solution if the dataset is very large"
   ]
  },
  {
   "cell_type": "code",
   "execution_count": 5,
   "id": "f5268cf5",
   "metadata": {},
   "outputs": [
    {
     "data": {
      "text/plain": [
       "<AxesSubplot:xlabel='Height', ylabel='FingerLength'>"
      ]
     },
     "execution_count": 5,
     "metadata": {},
     "output_type": "execute_result"
    },
    {
     "data": {
      "image/png": "[encoded data removed]",
      "text/plain": [
       "<Figure size 640x480 with 1 Axes>"
      ]
     },
     "metadata": {
      "filenames": {
       "image/png": "/Users/joreilly/Desktop/JupyterNotebooks/StatsCourseBook/StatsCourseBook_sandbox/_build/jupyter_execute/CorrCov_introCorrCov_10_1.png"
      }
     },
     "output_type": "display_data"
    }
   ],
   "source": [
    "sns.kdeplot(data=heightFinger, x='Height', y='FingerLength')"
   ]
  },
  {
   "cell_type": "markdown",
   "id": "ad8cde74",
   "metadata": {},
   "source": [
    "## Covariance\n",
    "\n",
    "We can see there is probably some covariance between height and middle finger length, as tall people tend to have long fingers.\n",
    "\n",
    "We can calculate the covariance using a built in function from <tt>pandas</tt>"
   ]
  },
  {
   "cell_type": "code",
   "execution_count": 6,
   "id": "e6ddcfdd",
   "metadata": {},
   "outputs": [
    {
     "data": {
      "text/html": [
       "<div>\n",
       "<style scoped>\n",
       "    .dataframe tbody tr th:only-of-type {\n",
       "        vertical-align: middle;\n",
       "    }\n",
       "\n",
       "    .dataframe tbody tr th {\n",
       "        vertical-align: top;\n",
       "    }\n",
       "\n",
       "    .dataframe thead th {\n",
       "        text-align: right;\n",
       "    }\n",
       "</style>\n",
       "<table border=\"1\" class=\"dataframe\">\n",
       "  <thead>\n",
       "    <tr style=\"text-align: right;\">\n",
       "      <th></th>\n",
       "      <th>Height</th>\n",
       "      <th>FingerLength</th>\n",
       "    </tr>\n",
       "  </thead>\n",
       "  <tbody>\n",
       "    <tr>\n",
       "      <th>Height</th>\n",
       "      <td>6.542118</td>\n",
       "      <td>0.359824</td>\n",
       "    </tr>\n",
       "    <tr>\n",
       "      <th>FingerLength</th>\n",
       "      <td>0.359824</td>\n",
       "      <td>0.046754</td>\n",
       "    </tr>\n",
       "  </tbody>\n",
       "</table>\n",
       "</div>"
      ],
      "text/plain": [
       "                Height  FingerLength\n",
       "Height        6.542118      0.359824\n",
       "FingerLength  0.359824      0.046754"
      ]
     },
     "execution_count": 6,
     "metadata": {},
     "output_type": "execute_result"
    }
   ],
   "source": [
    "heightFinger.cov()"
   ]
  },
  {
   "cell_type": "markdown",
   "id": "0d662c0a",
   "metadata": {},
   "source": [
    "This calculates the <b>covariance matrix</b>\n",
    "\n",
    "<ul>\n",
    "<li>The entry for height vs height (top left) is simply the variance of the distribution of heights\n",
    "<li>The entry for FingerLength vs FingerLength (bottom right) is simply the variance of the distribution of finger lengths\n",
    "<li>The (identical) entries for height vs finger length are the covariance between the two. \n",
    "</ul>\n",
    "\n",
    "You can check that the Height-Height and FingerLength-FingerLength entries are indeed the relevant variances, using the function <tt>std</tt> to obtain the standard deviation $s$ - the variance is then $s^2$"
   ]
  },
  {
   "cell_type": "code",
   "execution_count": 7,
   "id": "11949307",
   "metadata": {},
   "outputs": [
    {
     "data": {
      "text/plain": [
       "6.542118372790553"
      ]
     },
     "execution_count": 7,
     "metadata": {},
     "output_type": "execute_result"
    }
   ],
   "source": [
    "heightFinger['Height'].std()**2"
   ]
  },
  {
   "cell_type": "markdown",
   "id": "8cc50118",
   "metadata": {},
   "source": [
    "### Use the formula\n",
    "\n",
    "Just for our own understanding, let's calculate the covariance ourselves using the formula:\n",
    "\n",
    "$$ s_{xy} = \\sum{\\frac{(x_i - \\bar{x})(y_i - \\bar{y})}{n-1}} $$"
   ]
  },
  {
   "cell_type": "code",
   "execution_count": 8,
   "id": "f23a462a",
   "metadata": {},
   "outputs": [
    {
     "name": "stdout",
     "output_type": "stream",
     "text": [
      "mean height = 65.473 inches\n",
      "mean finger length = 4.547666666666666 mm\n"
     ]
    },
    {
     "data": {
      "text/html": [
       "<div>\n",
       "<style scoped>\n",
       "    .dataframe tbody tr th:only-of-type {\n",
       "        vertical-align: middle;\n",
       "    }\n",
       "\n",
       "    .dataframe tbody tr th {\n",
       "        vertical-align: top;\n",
       "    }\n",
       "\n",
       "    .dataframe thead th {\n",
       "        text-align: right;\n",
       "    }\n",
       "</style>\n",
       "<table border=\"1\" class=\"dataframe\">\n",
       "  <thead>\n",
       "    <tr style=\"text-align: right;\">\n",
       "      <th></th>\n",
       "      <th>Height</th>\n",
       "      <th>FingerLength</th>\n",
       "      <th>devHeight</th>\n",
       "      <th>devFinger</th>\n",
       "    </tr>\n",
       "  </thead>\n",
       "  <tbody>\n",
       "    <tr>\n",
       "      <th>0</th>\n",
       "      <td>56</td>\n",
       "      <td>3.875</td>\n",
       "      <td>-9.473</td>\n",
       "      <td>-0.672667</td>\n",
       "    </tr>\n",
       "    <tr>\n",
       "      <th>1</th>\n",
       "      <td>57</td>\n",
       "      <td>4.000</td>\n",
       "      <td>-8.473</td>\n",
       "      <td>-0.547667</td>\n",
       "    </tr>\n",
       "    <tr>\n",
       "      <th>2</th>\n",
       "      <td>58</td>\n",
       "      <td>3.875</td>\n",
       "      <td>-7.473</td>\n",
       "      <td>-0.672667</td>\n",
       "    </tr>\n",
       "    <tr>\n",
       "      <th>3</th>\n",
       "      <td>58</td>\n",
       "      <td>4.000</td>\n",
       "      <td>-7.473</td>\n",
       "      <td>-0.547667</td>\n",
       "    </tr>\n",
       "    <tr>\n",
       "      <th>4</th>\n",
       "      <td>58</td>\n",
       "      <td>4.000</td>\n",
       "      <td>-7.473</td>\n",
       "      <td>-0.547667</td>\n",
       "    </tr>\n",
       "    <tr>\n",
       "      <th>...</th>\n",
       "      <td>...</td>\n",
       "      <td>...</td>\n",
       "      <td>...</td>\n",
       "      <td>...</td>\n",
       "    </tr>\n",
       "    <tr>\n",
       "      <th>2995</th>\n",
       "      <td>74</td>\n",
       "      <td>4.875</td>\n",
       "      <td>8.527</td>\n",
       "      <td>0.327333</td>\n",
       "    </tr>\n",
       "    <tr>\n",
       "      <th>2996</th>\n",
       "      <td>74</td>\n",
       "      <td>5.000</td>\n",
       "      <td>8.527</td>\n",
       "      <td>0.452333</td>\n",
       "    </tr>\n",
       "    <tr>\n",
       "      <th>2997</th>\n",
       "      <td>74</td>\n",
       "      <td>5.000</td>\n",
       "      <td>8.527</td>\n",
       "      <td>0.452333</td>\n",
       "    </tr>\n",
       "    <tr>\n",
       "      <th>2998</th>\n",
       "      <td>74</td>\n",
       "      <td>5.250</td>\n",
       "      <td>8.527</td>\n",
       "      <td>0.702333</td>\n",
       "    </tr>\n",
       "    <tr>\n",
       "      <th>2999</th>\n",
       "      <td>77</td>\n",
       "      <td>4.375</td>\n",
       "      <td>11.527</td>\n",
       "      <td>-0.172667</td>\n",
       "    </tr>\n",
       "  </tbody>\n",
       "</table>\n",
       "<p>3000 rows × 4 columns</p>\n",
       "</div>"
      ],
      "text/plain": [
       "      Height  FingerLength  devHeight  devFinger\n",
       "0         56         3.875     -9.473  -0.672667\n",
       "1         57         4.000     -8.473  -0.547667\n",
       "2         58         3.875     -7.473  -0.672667\n",
       "3         58         4.000     -7.473  -0.547667\n",
       "4         58         4.000     -7.473  -0.547667\n",
       "...      ...           ...        ...        ...\n",
       "2995      74         4.875      8.527   0.327333\n",
       "2996      74         5.000      8.527   0.452333\n",
       "2997      74         5.000      8.527   0.452333\n",
       "2998      74         5.250      8.527   0.702333\n",
       "2999      77         4.375     11.527  -0.172667\n",
       "\n",
       "[3000 rows x 4 columns]"
      ]
     },
     "metadata": {},
     "output_type": "display_data"
    }
   ],
   "source": [
    "# Work out the mean in x and y\n",
    "mx = heightFinger['Height'].mean()\n",
    "my = heightFinger['FingerLength'].mean()\n",
    "\n",
    "print('mean height = ' + str(mx) + ' inches')\n",
    "print('mean finger length = ' + str(my) + ' mm')\n",
    "\n",
    "# Make new columns in the data frame for the deviations in x and y\n",
    "heightFinger['devHeight'] = heightFinger['Height']-mx\n",
    "heightFinger['devFinger'] = heightFinger['FingerLength']-my\n",
    "\n",
    "display(heightFinger)"
   ]
  },
  {
   "cell_type": "markdown",
   "id": "dc53a275",
   "metadata": {},
   "source": [
    "Check you understand what the deviations are. For example:\n",
    "<ul>\n",
    "    <li>the person in row 1 has height 57 inches, which is below the mean of 65.473 inches, so his deviation in height is -8.473\n",
    "    <li>the person in row 2999 has height 77 inches, which is above the mean of 65.473 inches, so his deviation in height is 11.527\n",
    "</ul>\n",
    "\n",
    "Now we can apply the equation:"
   ]
  },
  {
   "cell_type": "code",
   "execution_count": 9,
   "id": "5952136d",
   "metadata": {},
   "outputs": [
    {
     "name": "stdout",
     "output_type": "stream",
     "text": [
      "covariance = 0.3598236078692932\n"
     ]
    }
   ],
   "source": [
    "# get n\n",
    "n = len(heightFinger)\n",
    "\n",
    "# Equation for covariance\n",
    "s_xy =  sum(heightFinger['devHeight']*heightFinger['devFinger'])/(n-1)\n",
    "print('covariance = ' + str(s_xy))"
   ]
  },
  {
   "cell_type": "markdown",
   "id": "ece7408a",
   "metadata": {},
   "source": [
    "Ta-daa! This should match what you got with the built in function <tt>df.covariance</tt> above"
   ]
  },
  {
   "cell_type": "markdown",
   "id": "2f5c7822",
   "metadata": {},
   "source": [
    "## Correlation\n",
    "\n",
    "Correlation is a scaled or normalized form of covariance, that does not change if the units of the variables $x$ and $y$ changes\n",
    "\n",
    "We can calulate the correlation using a built in function of <tt>pandas</tt>:"
   ]
  },
  {
   "cell_type": "code",
   "execution_count": 10,
   "id": "c467ffa6",
   "metadata": {},
   "outputs": [
    {
     "data": {
      "text/html": [
       "<div>\n",
       "<style scoped>\n",
       "    .dataframe tbody tr th:only-of-type {\n",
       "        vertical-align: middle;\n",
       "    }\n",
       "\n",
       "    .dataframe tbody tr th {\n",
       "        vertical-align: top;\n",
       "    }\n",
       "\n",
       "    .dataframe thead th {\n",
       "        text-align: right;\n",
       "    }\n",
       "</style>\n",
       "<table border=\"1\" class=\"dataframe\">\n",
       "  <thead>\n",
       "    <tr style=\"text-align: right;\">\n",
       "      <th></th>\n",
       "      <th>Height</th>\n",
       "      <th>FingerLength</th>\n",
       "    </tr>\n",
       "  </thead>\n",
       "  <tbody>\n",
       "    <tr>\n",
       "      <th>Height</th>\n",
       "      <td>1.000000</td>\n",
       "      <td>0.650611</td>\n",
       "    </tr>\n",
       "    <tr>\n",
       "      <th>FingerLength</th>\n",
       "      <td>0.650611</td>\n",
       "      <td>1.000000</td>\n",
       "    </tr>\n",
       "  </tbody>\n",
       "</table>\n",
       "</div>"
      ],
      "text/plain": [
       "                Height  FingerLength\n",
       "Height        1.000000      0.650611\n",
       "FingerLength  0.650611      1.000000"
      ]
     },
     "execution_count": 10,
     "metadata": {},
     "output_type": "execute_result"
    }
   ],
   "source": [
    "# reload the data to get rid of the extra columns we added just now\n",
    "heightFinger = pandas.read_csv('https://raw.githubusercontent.com/jillxoreilly/StatsCourseBook/main/data/HeightFingerInches.csv')\n",
    "heightFinger.corr()"
   ]
  },
  {
   "cell_type": "markdown",
   "id": "a36e5635",
   "metadata": {},
   "source": [
    "The correlation between height and finger length is $r$=0.65 (We usually use the symbol $r$ for correlation)"
   ]
  },
  {
   "cell_type": "markdown",
   "id": "7453cb05",
   "metadata": {},
   "source": [
    "Once again we can check that this matches what we should get with the formula:\n",
    "\n",
    "$$ r = \\frac{s_{xy}}{s_x s_y} $$\n",
    "\n",
    "where $s_{xy}$ is the covariance as above:\n",
    "    \n",
    "$$ s_{xy} = \\sum{\\frac{(x_i - \\bar{x})(y_i - \\bar{y})}{n-1}} $$\n",
    "\n",
    "... and $s_x$, $s_y$ are the standard deviations of the two datasets (height and finger length)"
   ]
  },
  {
   "cell_type": "code",
   "execution_count": 11,
   "id": "0d47f0be",
   "metadata": {},
   "outputs": [
    {
     "name": "stdout",
     "output_type": "stream",
     "text": [
      "The correlation is 0.6506112650191417\n"
     ]
    }
   ],
   "source": [
    "s_x = heightFinger['Height'].std()\n",
    "s_y = heightFinger['FingerLength'].std()\n",
    "# s_xy, the covariance, was calculated above\n",
    "\n",
    "r = s_xy/(s_x * s_y)\n",
    "print('The correlation is ' + str(r))"
   ]
  },
  {
   "cell_type": "markdown",
   "id": "02c71de3",
   "metadata": {},
   "source": [
    "Ta-daa, hopefully this matches the output of the built in function above."
   ]
  },
  {
   "cell_type": "markdown",
   "id": "347bba3e",
   "metadata": {},
   "source": [
    "# Corr vs Cov\n",
    "\n",
    "When should you use the correlation, when would you use the covariance?\n",
    "\n",
    "### Changing units\n",
    "\n",
    "If we change the units of one of our variables, this changes the covariance but not the correlation.\n",
    "\n",
    "Let's convert the finger length data to cm using the conversion 1 inch = 2.54 cm"
   ]
  },
  {
   "cell_type": "code",
   "execution_count": 12,
   "id": "91f0e297",
   "metadata": {},
   "outputs": [
    {
     "data": {
      "text/html": [
       "<div>\n",
       "<style scoped>\n",
       "    .dataframe tbody tr th:only-of-type {\n",
       "        vertical-align: middle;\n",
       "    }\n",
       "\n",
       "    .dataframe tbody tr th {\n",
       "        vertical-align: top;\n",
       "    }\n",
       "\n",
       "    .dataframe thead th {\n",
       "        text-align: right;\n",
       "    }\n",
       "</style>\n",
       "<table border=\"1\" class=\"dataframe\">\n",
       "  <thead>\n",
       "    <tr style=\"text-align: right;\">\n",
       "      <th></th>\n",
       "      <th>Height</th>\n",
       "      <th>FingerLength</th>\n",
       "    </tr>\n",
       "  </thead>\n",
       "  <tbody>\n",
       "    <tr>\n",
       "      <th>0</th>\n",
       "      <td>56</td>\n",
       "      <td>9.8425</td>\n",
       "    </tr>\n",
       "    <tr>\n",
       "      <th>1</th>\n",
       "      <td>57</td>\n",
       "      <td>10.1600</td>\n",
       "    </tr>\n",
       "    <tr>\n",
       "      <th>2</th>\n",
       "      <td>58</td>\n",
       "      <td>9.8425</td>\n",
       "    </tr>\n",
       "    <tr>\n",
       "      <th>3</th>\n",
       "      <td>58</td>\n",
       "      <td>10.1600</td>\n",
       "    </tr>\n",
       "    <tr>\n",
       "      <th>4</th>\n",
       "      <td>58</td>\n",
       "      <td>10.1600</td>\n",
       "    </tr>\n",
       "    <tr>\n",
       "      <th>...</th>\n",
       "      <td>...</td>\n",
       "      <td>...</td>\n",
       "    </tr>\n",
       "    <tr>\n",
       "      <th>2995</th>\n",
       "      <td>74</td>\n",
       "      <td>12.3825</td>\n",
       "    </tr>\n",
       "    <tr>\n",
       "      <th>2996</th>\n",
       "      <td>74</td>\n",
       "      <td>12.7000</td>\n",
       "    </tr>\n",
       "    <tr>\n",
       "      <th>2997</th>\n",
       "      <td>74</td>\n",
       "      <td>12.7000</td>\n",
       "    </tr>\n",
       "    <tr>\n",
       "      <th>2998</th>\n",
       "      <td>74</td>\n",
       "      <td>13.3350</td>\n",
       "    </tr>\n",
       "    <tr>\n",
       "      <th>2999</th>\n",
       "      <td>77</td>\n",
       "      <td>11.1125</td>\n",
       "    </tr>\n",
       "  </tbody>\n",
       "</table>\n",
       "<p>3000 rows × 2 columns</p>\n",
       "</div>"
      ],
      "text/plain": [
       "      Height  FingerLength\n",
       "0         56        9.8425\n",
       "1         57       10.1600\n",
       "2         58        9.8425\n",
       "3         58       10.1600\n",
       "4         58       10.1600\n",
       "...      ...           ...\n",
       "2995      74       12.3825\n",
       "2996      74       12.7000\n",
       "2997      74       12.7000\n",
       "2998      74       13.3350\n",
       "2999      77       11.1125\n",
       "\n",
       "[3000 rows x 2 columns]"
      ]
     },
     "metadata": {},
     "output_type": "display_data"
    }
   ],
   "source": [
    "heightFinger['FingerLength'] = heightFinger['FingerLength']*2.54 \n",
    "display(heightFinger)"
   ]
  },
  {
   "cell_type": "markdown",
   "id": "93542c43",
   "metadata": {},
   "source": [
    "Now we recalculate the covariance"
   ]
  },
  {
   "cell_type": "code",
   "execution_count": 13,
   "id": "d06abc62",
   "metadata": {},
   "outputs": [
    {
     "data": {
      "text/html": [
       "<div>\n",
       "<style scoped>\n",
       "    .dataframe tbody tr th:only-of-type {\n",
       "        vertical-align: middle;\n",
       "    }\n",
       "\n",
       "    .dataframe tbody tr th {\n",
       "        vertical-align: top;\n",
       "    }\n",
       "\n",
       "    .dataframe thead th {\n",
       "        text-align: right;\n",
       "    }\n",
       "</style>\n",
       "<table border=\"1\" class=\"dataframe\">\n",
       "  <thead>\n",
       "    <tr style=\"text-align: right;\">\n",
       "      <th></th>\n",
       "      <th>Height</th>\n",
       "      <th>FingerLength</th>\n",
       "    </tr>\n",
       "  </thead>\n",
       "  <tbody>\n",
       "    <tr>\n",
       "      <th>Height</th>\n",
       "      <td>6.542118</td>\n",
       "      <td>0.913952</td>\n",
       "    </tr>\n",
       "    <tr>\n",
       "      <th>FingerLength</th>\n",
       "      <td>0.913952</td>\n",
       "      <td>0.301637</td>\n",
       "    </tr>\n",
       "  </tbody>\n",
       "</table>\n",
       "</div>"
      ],
      "text/plain": [
       "                Height  FingerLength\n",
       "Height        6.542118      0.913952\n",
       "FingerLength  0.913952      0.301637"
      ]
     },
     "execution_count": 13,
     "metadata": {},
     "output_type": "execute_result"
    }
   ],
   "source": [
    "heightFinger.cov()"
   ]
  },
  {
   "cell_type": "markdown",
   "id": "9c2d8379",
   "metadata": {},
   "source": [
    "... and the correlation"
   ]
  },
  {
   "cell_type": "code",
   "execution_count": 14,
   "id": "9312743f",
   "metadata": {},
   "outputs": [
    {
     "data": {
      "text/html": [
       "<div>\n",
       "<style scoped>\n",
       "    .dataframe tbody tr th:only-of-type {\n",
       "        vertical-align: middle;\n",
       "    }\n",
       "\n",
       "    .dataframe tbody tr th {\n",
       "        vertical-align: top;\n",
       "    }\n",
       "\n",
       "    .dataframe thead th {\n",
       "        text-align: right;\n",
       "    }\n",
       "</style>\n",
       "<table border=\"1\" class=\"dataframe\">\n",
       "  <thead>\n",
       "    <tr style=\"text-align: right;\">\n",
       "      <th></th>\n",
       "      <th>Height</th>\n",
       "      <th>FingerLength</th>\n",
       "    </tr>\n",
       "  </thead>\n",
       "  <tbody>\n",
       "    <tr>\n",
       "      <th>Height</th>\n",
       "      <td>1.000000</td>\n",
       "      <td>0.650611</td>\n",
       "    </tr>\n",
       "    <tr>\n",
       "      <th>FingerLength</th>\n",
       "      <td>0.650611</td>\n",
       "      <td>1.000000</td>\n",
       "    </tr>\n",
       "  </tbody>\n",
       "</table>\n",
       "</div>"
      ],
      "text/plain": [
       "                Height  FingerLength\n",
       "Height        1.000000      0.650611\n",
       "FingerLength  0.650611      1.000000"
      ]
     },
     "execution_count": 14,
     "metadata": {},
     "output_type": "execute_result"
    }
   ],
   "source": [
    "heightFinger.corr()"
   ]
  },
  {
   "cell_type": "markdown",
   "id": "c62a190a",
   "metadata": {},
   "source": [
    "We can see that the covariance changes when we change the units, but correlation doesn't change. "
   ]
  },
  {
   "cell_type": "markdown",
   "id": "01f4ad00",
   "metadata": {},
   "source": [
    "### Interpreting covariance - the slope\n",
    "\n",
    "You may be asking, why would we ever use covariance?\n",
    "\n",
    "The answer is that the covariance tells us something about how much $y$ increases with $x$ and vice versa.\n",
    "\n",
    "If we apply the equation\n",
    "\n",
    "$$ b = s_{xy}/s^2_{x} $$\n",
    "\n",
    "we get a coefficient $b$ which tells us how many units $y$ increases, for one unit increase in $x$."
   ]
  },
  {
   "cell_type": "code",
   "execution_count": 15,
   "id": "0b145b8f",
   "metadata": {},
   "outputs": [
    {
     "name": "stdout",
     "output_type": "stream",
     "text": [
      "0.055001084872729034\n"
     ]
    }
   ],
   "source": [
    "b = s_xy/(s_x**2)\n",
    "print(b)"
   ]
  },
  {
   "cell_type": "markdown",
   "id": "dc004651",
   "metadata": {},
   "source": [
    "For every extra 1 inch of height, finger length increases by 0.055 inches.\n",
    "\n",
    "This is actually a regression coefficient (there will be much more detail on this later in the course) and we can see if we plot a regression line that b is its slope:\n",
    "\n",
    "<img src= \"https://raw.githubusercontent.com/jillxoreilly/StatsCourseBook/main/images/regFingerHeight.png\" width=\"70%\"/>"
   ]
  },
  {
   "cell_type": "markdown",
   "id": "a1f72ae2",
   "metadata": {},
   "source": [
    "Conversely:"
   ]
  },
  {
   "cell_type": "code",
   "execution_count": 16,
   "id": "b349978c",
   "metadata": {},
   "outputs": [
    {
     "name": "stdout",
     "output_type": "stream",
     "text": [
      "7.6961212519589495\n"
     ]
    }
   ],
   "source": [
    "b = s_xy/(s_y**2)\n",
    "print(b)"
   ]
  },
  {
   "cell_type": "markdown",
   "id": "b947f8dc",
   "metadata": {},
   "source": [
    "for every extra inch in finger length, height increases by 7.70 inches.\n",
    "\n",
    "<img src= \"https://raw.githubusercontent.com/jillxoreilly/StatsCourseBook/main/images/regHeightFinger.png\" width=\"70%\"  />"
   ]
  },
  {
   "cell_type": "markdown",
   "id": "0bc1500e",
   "metadata": {},
   "source": [
    "Now, if we were to convert our finger measurements to cm instead of inches, the coviariance would change, and so would our slop - because a one cm increase in finger length is assocated with a smaller increase in height, than a 1 inch increase in finger length would be.\n",
    "\n",
    "There will be a whole block on regression later in the course."
   ]
  },
  {
   "cell_type": "code",
   "execution_count": null,
   "id": "1a280f64",
   "metadata": {},
   "outputs": [],
   "source": []
  }
 ],
 "metadata": {
  "kernelspec": {
   "display_name": "Python 3 (ipykernel)",
   "language": "python",
   "name": "python3"
  },
  "language_info": {
   "codemirror_mode": {
    "name": "ipython",
    "version": 3
   },
   "file_extension": ".py",
   "mimetype": "text/x-python",
   "name": "python",
   "nbconvert_exporter": "python",
   "pygments_lexer": "ipython3",
   "version": "3.9.13"
  }
 },
 "nbformat": 4,
 "nbformat_minor": 5
}