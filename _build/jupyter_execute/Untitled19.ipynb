{
 "cells": [
  {
   "cell_type": "markdown",
   "id": "cd1bf659",
   "metadata": {},
   "source": [
    "# Python skills check\n",
    "\n",
    "Here we will recap the main bibts of Python you encountered this week\n",
    "\n",
    "\n",
    "### Set up Python libraries\n",
    "\n",
    "As usual, run the code cell below to import the relevant Python libraries"
   ]
  },
  {
   "cell_type": "code",
   "execution_count": 1,
   "id": "8e268950",
   "metadata": {},
   "outputs": [],
   "source": [
    "# Set-up Python libraries - you need to run this but you don't need to change it\n",
    "import numpy as np\n",
    "import matplotlib.pyplot as plt\n",
    "import scipy.stats as stats\n",
    "import pandas \n",
    "import seaborn as sns\n",
    "sns.set_theme() # use pretty defaults"
   ]
  },
  {
   "cell_type": "markdown",
   "id": "d41cff5e",
   "metadata": {},
   "source": [
    "### Exercises"
   ]
  },
  {
   "cell_type": "code",
   "execution_count": 2,
   "id": "b6af74de",
   "metadata": {},
   "outputs": [
    {
     "ename": "SyntaxError",
     "evalue": "invalid syntax (1608705857.py, line 2)",
     "output_type": "error",
     "traceback": [
      "\u001b[0;36m  File \u001b[0;32m\"/var/folders/q4/twg1yll54y142rc02m5wwbt40000gr/T/ipykernel_58087/1608705857.py\"\u001b[0;36m, line \u001b[0;32m2\u001b[0m\n\u001b[0;31m    k = # your code here\u001b[0m\n\u001b[0m        ^\u001b[0m\n\u001b[0;31mSyntaxError\u001b[0m\u001b[0;31m:\u001b[0m invalid syntax\n"
     ]
    }
   ],
   "source": [
    "# 1. Draw a random sample from a binomial distriubtion with n=27 and p=0.4\n",
    "k = # your code here\n",
    "print('k = ' + str(k))"
   ]
  },
  {
   "cell_type": "code",
   "execution_count": 25,
   "id": "bea557c3",
   "metadata": {},
   "outputs": [
    {
     "data": {
      "text/plain": [
       "0.011248978720991624"
      ]
     },
     "execution_count": 25,
     "metadata": {},
     "output_type": "execute_result"
    }
   ],
   "source": [
    "# 2. For a binomial distribution k~B(100,0.8), find the probability that k<=70"
   ]
  },
  {
   "cell_type": "markdown",
   "id": "9d0236a1",
   "metadata": {},
   "source": [
    "The answer should be 0.0112"
   ]
  },
  {
   "cell_type": "code",
   "execution_count": 26,
   "id": "343a305f",
   "metadata": {},
   "outputs": [
    {
     "data": {
      "text/plain": [
       "0.00877447509573836"
      ]
     },
     "execution_count": 26,
     "metadata": {},
     "output_type": "execute_result"
    }
   ],
   "source": [
    "# 3. For a normal distribution x~N(80,4) find the probability that x<=70.5"
   ]
  },
  {
   "cell_type": "markdown",
   "id": "f0741d21",
   "metadata": {},
   "source": [
    "The answer should be 0.00877"
   ]
  },
  {
   "cell_type": "code",
   "execution_count": null,
   "id": "c41c0502",
   "metadata": {},
   "outputs": [],
   "source": [
    "# 4a. Make a for loop to draw 150 random samples from the distribution k~B(12,0.3) \n",
    "\n",
    "# 4b. Plot the values of k on a histogram"
   ]
  }
 ],
 "metadata": {
  "kernelspec": {
   "display_name": "Python 3 (ipykernel)",
   "language": "python",
   "name": "python3"
  },
  "language_info": {
   "codemirror_mode": {
    "name": "ipython",
    "version": 3
   },
   "file_extension": ".py",
   "mimetype": "text/x-python",
   "name": "python",
   "nbconvert_exporter": "python",
   "pygments_lexer": "ipython3",
   "version": "3.9.13"
  }
 },
 "nbformat": 4,
 "nbformat_minor": 5
}