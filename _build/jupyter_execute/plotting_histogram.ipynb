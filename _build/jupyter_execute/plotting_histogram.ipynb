{
 "cells": [
  {
   "cell_type": "markdown",
   "id": "8501b536",
   "metadata": {},
   "source": [
    "# Histogram\n",
    "\n",
    "If we want to see the shape of a data distribution, the histgram can be a good choice\n",
    "\n",
    "In this section we will see how to plot a histogram using Python and what choices we can make to show the data distribution clearly and accurately\n",
    "\n",
    "We will also consider some of the limitations of the histogram for small datasets. In the next section we meet a related plot, the Kernel Density Estimate plot, which can mitigate these limitations."
   ]
  },
  {
   "cell_type": "markdown",
   "id": "06a3540a",
   "metadata": {},
   "source": [
    "## Example\n",
    "\n",
    "We will look at a small sample of height data for brother-sister pairs.\n",
    "\n",
    "<img src= \"https://raw.githubusercontent.com/jillxoreilly/StatsCourseBook/main/images/tallVshort.jpg\" width=\"50%\" />\n",
    "\n",
    "### Set up Python libraries\n",
    "\n",
    "As usual, run the code cell below to import the relevant Python libraries"
   ]
  },
  {
   "cell_type": "code",
   "execution_count": 1,
   "id": "7f1d34e0",
   "metadata": {},
   "outputs": [],
   "source": [
    "# Set-up Python libraries - you need to run this but you don't need to change it\n",
    "import numpy as np\n",
    "import matplotlib.pyplot as plt\n",
    "import scipy.stats as stats\n",
    "import pandas \n",
    "import seaborn as sns\n",
    "sns.set_theme() # use pretty defaults"
   ]
  },
  {
   "cell_type": "markdown",
   "id": "fb218a2a",
   "metadata": {},
   "source": [
    "### Load and inspect the data"
   ]
  },
  {
   "cell_type": "markdown",
   "id": "3bbd70d4",
   "metadata": {},
   "source": [
    "Load the file brotherSisterData.csv which contains heights in cm for 25 brother-sister pairs"
   ]
  },
  {
   "cell_type": "code",
   "execution_count": 2,
   "id": "5b37c633",
   "metadata": {},
   "outputs": [
    {
     "data": {
      "text/html": [
       "<div>\n",
       "<style scoped>\n",
       "    .dataframe tbody tr th:only-of-type {\n",
       "        vertical-align: middle;\n",
       "    }\n",
       "\n",
       "    .dataframe tbody tr th {\n",
       "        vertical-align: top;\n",
       "    }\n",
       "\n",
       "    .dataframe thead th {\n",
       "        text-align: right;\n",
       "    }\n",
       "</style>\n",
       "<table border=\"1\" class=\"dataframe\">\n",
       "  <thead>\n",
       "    <tr style=\"text-align: right;\">\n",
       "      <th></th>\n",
       "      <th>brother</th>\n",
       "      <th>sister</th>\n",
       "    </tr>\n",
       "  </thead>\n",
       "  <tbody>\n",
       "    <tr>\n",
       "      <th>0</th>\n",
       "      <td>174</td>\n",
       "      <td>172</td>\n",
       "    </tr>\n",
       "    <tr>\n",
       "      <th>1</th>\n",
       "      <td>183</td>\n",
       "      <td>180</td>\n",
       "    </tr>\n",
       "    <tr>\n",
       "      <th>2</th>\n",
       "      <td>154</td>\n",
       "      <td>148</td>\n",
       "    </tr>\n",
       "    <tr>\n",
       "      <th>3</th>\n",
       "      <td>172</td>\n",
       "      <td>180</td>\n",
       "    </tr>\n",
       "    <tr>\n",
       "      <th>4</th>\n",
       "      <td>172</td>\n",
       "      <td>165</td>\n",
       "    </tr>\n",
       "    <tr>\n",
       "      <th>5</th>\n",
       "      <td>161</td>\n",
       "      <td>159</td>\n",
       "    </tr>\n",
       "    <tr>\n",
       "      <th>6</th>\n",
       "      <td>167</td>\n",
       "      <td>159</td>\n",
       "    </tr>\n",
       "    <tr>\n",
       "      <th>7</th>\n",
       "      <td>172</td>\n",
       "      <td>164</td>\n",
       "    </tr>\n",
       "    <tr>\n",
       "      <th>8</th>\n",
       "      <td>195</td>\n",
       "      <td>188</td>\n",
       "    </tr>\n",
       "    <tr>\n",
       "      <th>9</th>\n",
       "      <td>189</td>\n",
       "      <td>175</td>\n",
       "    </tr>\n",
       "    <tr>\n",
       "      <th>10</th>\n",
       "      <td>161</td>\n",
       "      <td>160</td>\n",
       "    </tr>\n",
       "    <tr>\n",
       "      <th>11</th>\n",
       "      <td>181</td>\n",
       "      <td>177</td>\n",
       "    </tr>\n",
       "    <tr>\n",
       "      <th>12</th>\n",
       "      <td>175</td>\n",
       "      <td>168</td>\n",
       "    </tr>\n",
       "    <tr>\n",
       "      <th>13</th>\n",
       "      <td>170</td>\n",
       "      <td>169</td>\n",
       "    </tr>\n",
       "    <tr>\n",
       "      <th>14</th>\n",
       "      <td>175</td>\n",
       "      <td>165</td>\n",
       "    </tr>\n",
       "    <tr>\n",
       "      <th>15</th>\n",
       "      <td>169</td>\n",
       "      <td>164</td>\n",
       "    </tr>\n",
       "    <tr>\n",
       "      <th>16</th>\n",
       "      <td>169</td>\n",
       "      <td>163</td>\n",
       "    </tr>\n",
       "    <tr>\n",
       "      <th>17</th>\n",
       "      <td>180</td>\n",
       "      <td>176</td>\n",
       "    </tr>\n",
       "    <tr>\n",
       "      <th>18</th>\n",
       "      <td>180</td>\n",
       "      <td>176</td>\n",
       "    </tr>\n",
       "    <tr>\n",
       "      <th>19</th>\n",
       "      <td>180</td>\n",
       "      <td>172</td>\n",
       "    </tr>\n",
       "    <tr>\n",
       "      <th>20</th>\n",
       "      <td>175</td>\n",
       "      <td>170</td>\n",
       "    </tr>\n",
       "    <tr>\n",
       "      <th>21</th>\n",
       "      <td>162</td>\n",
       "      <td>157</td>\n",
       "    </tr>\n",
       "    <tr>\n",
       "      <th>22</th>\n",
       "      <td>175</td>\n",
       "      <td>172</td>\n",
       "    </tr>\n",
       "    <tr>\n",
       "      <th>23</th>\n",
       "      <td>181</td>\n",
       "      <td>179</td>\n",
       "    </tr>\n",
       "    <tr>\n",
       "      <th>24</th>\n",
       "      <td>173</td>\n",
       "      <td>171</td>\n",
       "    </tr>\n",
       "  </tbody>\n",
       "</table>\n",
       "</div>"
      ],
      "text/plain": [
       "    brother  sister\n",
       "0       174     172\n",
       "1       183     180\n",
       "2       154     148\n",
       "3       172     180\n",
       "4       172     165\n",
       "5       161     159\n",
       "6       167     159\n",
       "7       172     164\n",
       "8       195     188\n",
       "9       189     175\n",
       "10      161     160\n",
       "11      181     177\n",
       "12      175     168\n",
       "13      170     169\n",
       "14      175     165\n",
       "15      169     164\n",
       "16      169     163\n",
       "17      180     176\n",
       "18      180     176\n",
       "19      180     172\n",
       "20      175     170\n",
       "21      162     157\n",
       "22      175     172\n",
       "23      181     179\n",
       "24      173     171"
      ]
     },
     "metadata": {},
     "output_type": "display_data"
    }
   ],
   "source": [
    "heightData = pandas.read_csv('https://raw.githubusercontent.com/jillxoreilly/StatsCourseBook/main/data/BrotherSisterData.csv')\n",
    "display(heightData)"
   ]
  },
  {
   "cell_type": "markdown",
   "id": "7006abed",
   "metadata": {},
   "source": [
    "In this section, we are going to focus just on the brothers.\n",
    "\n",
    "### Plot a histogram\n",
    "\n",
    "Let's start by plotting a histogram of the data to see what the distriubtion of heights is.\n",
    "\n",
    "In this course we will use plotting functions from the libraries <tt>matplotlib</tt> (imported as <tt>plt</tt>) and <tt>seaborn</tt> (imported as <tt>sns</tt>). \n",
    "\n",
    "Therefore all the plotting commands will be preceded by either <tt>plt.</tt> or <tt>sns</tt>."
   ]
  },
  {
   "cell_type": "code",
   "execution_count": 3,
   "id": "d1ee3ecd",
   "metadata": {},
   "outputs": [
    {
     "data": {
      "text/plain": [
       "Text(0, 0.5, 'frequency')"
      ]
     },
     "execution_count": 3,
     "metadata": {},
     "output_type": "execute_result"
    },
    {
     "data": {
      "image/png": "[encoded data removed]",
      "text/plain": [
       "<Figure size 640x480 with 1 Axes>"
      ]
     },
     "metadata": {
      "filenames": {
       "image/png": "/Users/joreilly/Desktop/JupyterNotebooks/StatsCourseBook/StatsCourseBook_sandbox/_build/jupyter_execute/plotting_histogram_7_1.png"
      }
     },
     "output_type": "display_data"
    }
   ],
   "source": [
    "sns.histplot(heightData[\"brother\"],  bins = range(150,200,5), color='b')\n",
    "plt.xlabel('brother\\'s height') \n",
    "plt.ylabel('frequency')"
   ]
  },
  {
   "cell_type": "markdown",
   "id": "5fcca7b0",
   "metadata": {},
   "source": [
    "### Bin size\n",
    "\n",
    "In a histogram, we bin data (in this case, we group the heights into 5cm-wide bins), and count how many data values fall in each bin\n",
    "\n",
    "I used bins of 5cm to group the heights, and used x-axis values from 150 to 200 cm. \n",
    "<ul>\n",
    "<li>Can you find where in the code this is specified?\n",
    "<li>In the code block below, change the width of the bins to 1cm. \n",
    "What do you notice? Can you see the shape of the distribution better or worse using the 1cm bins?\n",
    "</ul>"
   ]
  },
  {
   "cell_type": "code",
   "execution_count": 4,
   "id": "24afb36e",
   "metadata": {},
   "outputs": [
    {
     "data": {
      "text/plain": [
       "Text(0, 0.5, 'frequency')"
      ]
     },
     "execution_count": 4,
     "metadata": {},
     "output_type": "execute_result"
    },
    {
     "data": {
      "image/png": "[encoded data removed]",
      "text/plain": [
       "<Figure size 640x480 with 1 Axes>"
      ]
     },
     "metadata": {
      "filenames": {
       "image/png": "/Users/joreilly/Desktop/JupyterNotebooks/StatsCourseBook/StatsCourseBook_sandbox/_build/jupyter_execute/plotting_histogram_9_1.png"
      }
     },
     "output_type": "display_data"
    }
   ],
   "source": [
    "sns.histplot(heightData[\"brother\"],  bins = range(150,200,5), color='b') # hint - the numbers 150, 200 and 5 are the minimum/maximum x axis values and the bin size\n",
    "plt.xlabel('brother\\'s height') \n",
    "plt.ylabel('frequency')"
   ]
  },
  {
   "cell_type": "markdown",
   "id": "8d8d6e29",
   "metadata": {},
   "source": [
    "### Bin boundaries\n",
    "\n",
    "One problem with using a histogram when you have only a small number of data points is \n",
    "that the shape of the histogram can depend a lot on where the bin boundaries happen to fall. \n",
    "\n",
    "Look at the following plot of brothers' heights, again grouped into 5cm bins but with different bin boundaries: \n",
    "\n",
    "#### Exercises\n",
    "<ul>\n",
    "    <li> What change in the code moved the bin boundaries?\n",
    "    <li> What were the old bin boundaries? What are the new bin boundaries?\n",
    "    <li> Edit the code so that the in boundaries are at 153,158,163 etc\n",
    "</ul>"
   ]
  },
  {
   "cell_type": "code",
   "execution_count": 5,
   "id": "cc00f97d",
   "metadata": {},
   "outputs": [
    {
     "data": {
      "text/plain": [
       "Text(0, 0.5, 'frequency')"
      ]
     },
     "execution_count": 5,
     "metadata": {},
     "output_type": "execute_result"
    },
    {
     "data": {
      "image/png": "[encoded data removed]",
      "text/plain": [
       "<Figure size 640x480 with 1 Axes>"
      ]
     },
     "metadata": {
      "filenames": {
       "image/png": "/Users/joreilly/Desktop/JupyterNotebooks/StatsCourseBook/StatsCourseBook_sandbox/_build/jupyter_execute/plotting_histogram_11_1.png"
      }
     },
     "output_type": "display_data"
    }
   ],
   "source": [
    "sns.histplot(heightData[\"brother\"],  bins = range(152,202,5), color='b')\n",
    "plt.xlabel('brother\\'s height') \n",
    "plt.ylabel('frequency')"
   ]
  },
  {
   "cell_type": "markdown",
   "id": "efa1d4cf",
   "metadata": {},
   "source": [
    "The shape of the distribution looks quite different!\n",
    "\n",
    "We can see this more clearly if we plot both versions next to each other (this is achieved using the command <tt>subplot</tt> - we will revisit it later so don't worry too much about that)"
   ]
  },
  {
   "cell_type": "code",
   "execution_count": 6,
   "id": "2697f098",
   "metadata": {},
   "outputs": [
    {
     "data": {
      "image/png": "[encoded data removed]",
      "text/plain": [
       "<Figure size 640x480 with 2 Axes>"
      ]
     },
     "metadata": {
      "filenames": {
       "image/png": "/Users/joreilly/Desktop/JupyterNotebooks/StatsCourseBook/StatsCourseBook_sandbox/_build/jupyter_execute/plotting_histogram_13_0.png"
      }
     },
     "output_type": "display_data"
    }
   ],
   "source": [
    "plt.subplot(1,2,1)\n",
    "sns.histplot(heightData[\"brother\"],  bins = range(150,200,5), color='b')\n",
    "plt.xlabel('brother\\'s height') \n",
    "plt.ylabel('frequency')\n",
    "plt.ylim((0,10)) # this sets the y axis limits rather than letting the computer choose them automatically\n",
    "\n",
    "plt.subplot(1,2,2)\n",
    "sns.histplot(heightData[\"brother\"],  bins = range(152,202,5), color='b') \n",
    "plt.xlabel('brother\\'s height') \n",
    "plt.ylabel('frequency')\n",
    "plt.ylim((0,10))\n",
    "\n",
    "plt.subplots_adjust(wspace = 0.5) # shift the plots sideways so they don't overlap"
   ]
  },
  {
   "cell_type": "markdown",
   "id": "8fccd808",
   "metadata": {},
   "source": [
    "Originally (left) the bin boundaries were at 150cm, 155cm, 160cm etc.\n",
    "\n",
    "In the second histogram (right) the bin boundaries were at 152cm, 157cm, 162cm etc.\n",
    "\n",
    "Moving the bin boundaries changed how many observations fell in each bin and thus the shape of the histogram. This can happen easily when you have a small number of observations in each bin (check the y-axis in the above histogram - you can see that moving just one observation makes a big difference to the height of the bars).\n",
    "\n",
    "For this reason, a histogram may not be the best representation of the data for a small sample.\n",
    "\n",
    "#### Exercises\n",
    "<ul>\n",
    "    <li> I added a line of code to set the y axis limits to be [0,10] - why do you think I did this?\n",
    "    <li> Try removing or commenting it out and see how the two histograms change - is it easier to compare with fixed or automatic y-axis?\n",
    "</ul>"
   ]
  }
 ],
 "metadata": {
  "kernelspec": {
   "display_name": "Python 3 (ipykernel)",
   "language": "python",
   "name": "python3"
  },
  "language_info": {
   "codemirror_mode": {
    "name": "ipython",
    "version": 3
   },
   "file_extension": ".py",
   "mimetype": "text/x-python",
   "name": "python",
   "nbconvert_exporter": "python",
   "pygments_lexer": "ipython3",
   "version": "3.9.13"
  }
 },
 "nbformat": 4,
 "nbformat_minor": 5
}