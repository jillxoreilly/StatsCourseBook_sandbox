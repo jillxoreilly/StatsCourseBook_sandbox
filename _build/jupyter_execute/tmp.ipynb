{
 "cells": [
  {
   "cell_type": "markdown",
   "id": "0e37fdf8",
   "metadata": {},
   "source": [
    "# Simulated coin toss\n",
    "\n",
    "To get a feel for how likely different outcomes are, we are going to <i>simulate the data generating process</i>\n",
    "\n",
    "<img src=\"images/Minion_what.jpg\" width=10%>\n",
    "\n",
    "Here is an example of how we could <i>simulate the data generating process</i> in real life:\n",
    "\n",
    "To work out how likely we are to get 5 heads out of 10 coin tosses, we could...\n",
    "<ul>    \n",
    "    <li>get a real coin (but who has cash on them these days?)\n",
    "    <li>assume it is fair (<i>p = 0.5</i>)\n",
    "    <li>toss it 10 times (because <i>n = 10</i>)\n",
    "    <li>count the number of heads (<i>k</i>)\n",
    "</ul>\n",
    "... \n",
    "\n",
    "Then we could repeat that whole process many times (say, 100 times) and count how often we get exactly 5 heads.\n",
    "\n",
    "Or.... we could get the computer to do that. \n",
    "\n",
    "Yes, let's get the computer to do it. That will be less hassle."
   ]
  },
  {
   "cell_type": "markdown",
   "id": "3c4accab",
   "metadata": {},
   "source": [
    "### Set up Python libraries\n",
    "\n",
    "As usual, run the code cell below to import the relevant Python libraries"
   ]
  },
  {
   "cell_type": "code",
   "execution_count": 1,
   "id": "a34adde7",
   "metadata": {},
   "outputs": [],
   "source": [
    "# Set-up Python libraries - you need to run this but you don't need to change it\n",
    "import numpy as np\n",
    "import matplotlib.pyplot as plt\n",
    "import scipy.stats as stats\n",
    "import pandas \n",
    "import seaborn as sns\n",
    "sns.set_theme() # use pretty defaults"
   ]
  },
  {
   "cell_type": "markdown",
   "id": "361527a6",
   "metadata": {},
   "source": [
    "### Simulate a single coin toss\n",
    "\n",
    "The computer doesn't really toss a coin. \n",
    "\n",
    "It does someting mathematically equivalent, namely generates a random number called <tt>x</tt> and applies a test to it that will give a \"hit\" a certain proportion of the time, defined by <i>p</i>. \n",
    "\n",
    "If the outcome is a hit,\n",
    "the value of the variable <tt>hit</tt> is set to 1, otherwise <tt>hit</tt> is set to zero\n",
    "\n",
    "Try running the code block below several times and see if you understand what it does. "
   ]
  },
  {
   "cell_type": "code",
   "execution_count": 2,
   "id": "1107b9d1",
   "metadata": {},
   "outputs": [
    {
     "name": "stdout",
     "output_type": "stream",
     "text": [
      "value of random number:  0.2028566564756078\n"
     ]
    }
   ],
   "source": [
    "# generate a random number between 0 and 1\n",
    "x = np.random.uniform(0,1)\n",
    "print('value of random number:  ' + str(x))"
   ]
  },
  {
   "cell_type": "markdown",
   "id": "33d8f579",
   "metadata": {},
   "source": [
    "What happened?\n",
    "\n",
    "We used numpy's random number generator (np.random) to get a number (with decimal places) between 0 and 1. The numbers are drawn from a uniform distribution, which means that any number between 0 and 1 is equally likely.\n",
    "\n",
    "Re run the code block above a few times - you should get a different random number every time.\n",
    "\n",
    "How do we convert this to a virtual 'coin toss'? We need to randomly generate \"hits\" and \"misses\" rather than decimal numbers.\n",
    "\n",
    "To do this we simply add a piece of code that checks whether our random number is greater or less than some number - in this case 0.5, as we should get equal frequencies of random numbers greater than 0.5 and less than 0.5, thus simulating a fair coin.\n"
   ]
  },
  {
   "cell_type": "code",
   "execution_count": 3,
   "id": "7a85209c",
   "metadata": {},
   "outputs": [
    {
     "name": "stdout",
     "output_type": "stream",
     "text": [
      "is it a hit?:            0\n"
     ]
    }
   ],
   "source": [
    "# check if it is less than p - this should happen on a proportion of trials equal to p\n",
    "p=0.5\n",
    "if x>p:\n",
    "    hit = 1\n",
    "else:\n",
    "    hit = 0\n",
    "print('is it a hit?:            ' + str(hit))"
   ]
  },
  {
   "cell_type": "markdown",
   "id": "c4721895",
   "metadata": {},
   "source": [
    "### Simulate 10 coin tosses\n",
    "\n",
    "In our coin tossing example, we need to toss the coin 10 times (<i>n</i> = 10) \n",
    "and count how many hits we get (<i>k</i> = ?)\n",
    "\n",
    "To do this we will create a loop to repeat the coin toss 10 times"
   ]
  },
  {
   "cell_type": "code",
   "execution_count": 4,
   "id": "60c776a6",
   "metadata": {},
   "outputs": [
    {
     "name": "stdout",
     "output_type": "stream",
     "text": [
      "value of random number:  0.7778229887505133\n",
      "is it a hit?:            1\n",
      "value of random number:  0.20693250958837472\n",
      "is it a hit?:            0\n",
      "value of random number:  0.4170944636383468\n",
      "is it a hit?:            0\n",
      "value of random number:  0.986288354432886\n",
      "is it a hit?:            1\n",
      "value of random number:  0.7722455959571938\n",
      "is it a hit?:            1\n",
      "value of random number:  0.026915481122223195\n",
      "is it a hit?:            0\n",
      "value of random number:  0.3094112361640746\n",
      "is it a hit?:            0\n",
      "value of random number:  0.5995281598452482\n",
      "is it a hit?:            0\n",
      "value of random number:  0.9107521187459194\n",
      "is it a hit?:            1\n",
      "value of random number:  0.3241570143685698\n",
      "is it a hit?:            0\n"
     ]
    }
   ],
   "source": [
    "for i in np.arange(10):\n",
    "\n",
    "    # generate a random number between 0 and 1\n",
    "    x = np.random.uniform(0,1)\n",
    "    print('value of random number:  ' + str(x))\n",
    "\n",
    "    # check if it is less than p - this should happen on a proportion of trials equal to p\n",
    "    p=0.7\n",
    "    if x>p:\n",
    "        hit = 1\n",
    "    else:\n",
    "        hit = 0\n",
    "    print('is it a hit?:            ' + str(hit))"
   ]
  },
  {
   "cell_type": "markdown",
   "id": "207fab31",
   "metadata": {},
   "source": [
    "<img src=\"images/Minion_ooph.jpeg\" width=15% alt=\"What?!\" >\n",
    "\n",
    "OK, well the output of that code block was not really user friendly.\n",
    "\n",
    "### Use an array to store the outcomes\n",
    "\n",
    "Now that we know how the virtual coin toss works, \n",
    "we can dispense with printing out the actual value of the random number <tt>x</tt>\n",
    "and just give the 10 binary outcomes (1/0 for hit/miss)"
   ]
  },
  {
   "cell_type": "code",
   "execution_count": 5,
   "id": "5d63859b",
   "metadata": {},
   "outputs": [
    {
     "name": "stdout",
     "output_type": "stream",
     "text": [
      "0\n",
      "0\n",
      "0\n",
      "0\n",
      "1\n",
      "0\n",
      "0\n",
      "0\n",
      "0\n",
      "1\n"
     ]
    }
   ],
   "source": [
    "for i in np.arange(10):\n",
    "\n",
    "    # generate a random number between 0 and 1\n",
    "    x = np.random.uniform(0,1)\n",
    "\n",
    "    # check if it is less than p - this should happen on a proportion of trials equal to p\n",
    "    p=0.7\n",
    "    if x>p:\n",
    "        hit = 1\n",
    "    else:\n",
    "        hit = 0\n",
    "    print(hit)"
   ]
  },
  {
   "cell_type": "markdown",
   "id": "04c60b16",
   "metadata": {},
   "source": [
    "... but we also want to count the number of hits, so we need to store the outcomes (0/1) in an array\n"
   ]
  },
  {
   "cell_type": "code",
   "execution_count": 6,
   "id": "8890b99e",
   "metadata": {},
   "outputs": [
    {
     "name": "stdout",
     "output_type": "stream",
     "text": [
      "outcomes = [0. 0. 1. 0. 1. 1. 1. 1. 0. 1.]\n"
     ]
    }
   ],
   "source": [
    "outcomes = np.empty(10) # create an empty array to store the outcomes\n",
    "\n",
    "for i in np.arange(10):\n",
    "\n",
    "    # generate a random number between 0 and 1\n",
    "    x = np.random.uniform(0,1)\n",
    "\n",
    "    # check if it is less than p - this should happen on a proportion of trials equal to p\n",
    "    p=0.7\n",
    "    if x>p:\n",
    "        hit = 1\n",
    "    else:\n",
    "        hit = 0\n",
    "    \n",
    "    outcomes[i] = hit # store the valuee of 'hit' on this trial in place 'i' in the array 'outcomes'\n",
    "    \n",
    "print('outcomes = ' + str(outcomes))\n"
   ]
  },
  {
   "cell_type": "markdown",
   "id": "68e16b2c",
   "metadata": {},
   "source": [
    "... and then we need to count the hits:"
   ]
  },
  {
   "cell_type": "code",
   "execution_count": 7,
   "id": "e93720a4",
   "metadata": {},
   "outputs": [
    {
     "name": "stdout",
     "output_type": "stream",
     "text": [
      "k = 6.0\n"
     ]
    }
   ],
   "source": [
    "k = np.sum(outcomes)\n",
    "print('k = ' + str(k))"
   ]
  },
  {
   "cell_type": "code",
   "execution_count": null,
   "id": "6e7c5833",
   "metadata": {},
   "outputs": [],
   "source": []
  }
 ],
 "metadata": {
  "kernelspec": {
   "display_name": "Python 3 (ipykernel)",
   "language": "python",
   "name": "python3"
  },
  "language_info": {
   "codemirror_mode": {
    "name": "ipython",
    "version": 3
   },
   "file_extension": ".py",
   "mimetype": "text/x-python",
   "name": "python",
   "nbconvert_exporter": "python",
   "pygments_lexer": "ipython3",
   "version": "3.9.13"
  }
 },
 "nbformat": 4,
 "nbformat_minor": 5
}