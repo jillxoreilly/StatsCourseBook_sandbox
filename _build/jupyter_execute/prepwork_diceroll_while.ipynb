{
 "cells": [
  {
   "cell_type": "markdown",
   "id": "111b680b",
   "metadata": {},
   "source": [
    "# Rolling a virtual dice II\n",
    "\n",
    "<img src=\"https://raw.githubusercontent.com/jillxoreilly/StatsCourseBook/main/images/dice.jpg\" width=15% alt=\"(display image of dice)\" >\n",
    "\n"
   ]
  },
  {
   "cell_type": "markdown",
   "id": "554bd33b",
   "metadata": {},
   "source": [
    "### Set up Python libraries\n",
    "\n",
    "As usual, run the code cell below to import the relevant Python libraries"
   ]
  },
  {
   "cell_type": "code",
   "execution_count": 1,
   "id": "6e215164",
   "metadata": {},
   "outputs": [],
   "source": [
    "# Set-up Python libraries - you need to run this but you don't need to change it\n",
    "import numpy as np\n",
    "import matplotlib.pyplot as plt\n",
    "import scipy.stats as stats\n",
    "import pandas \n",
    "import seaborn as sns\n",
    "sns.set_theme()"
   ]
  },
  {
   "cell_type": "markdown",
   "id": "5a4b966c",
   "metadata": {},
   "source": [
    "## Simulation of rolling a dice til you get a six\n",
    "\n",
    "\n",
    "In many children's games, players need to roll a six before their counter can start moving round the board.\n",
    "\n",
    "<ul>\n",
    "<li>What is the probability that you will need four or more tries to roll a six?\n",
    "</ul>\n",
    "\n",
    "You may recall from school maths that the way we work this out is to calculate the probability that we did *not* obtain a six on any of rolls 1, 2 or 3. As the dice has six sides, the probability of not obtaining a six on each dice roll is $\\frac{5}{6}$\n",
    "\n",
    "As each event is independent, we can multiply the probabilities together:\n",
    "\n",
    "$$ \\frac{5}{6} \\times \\frac{5}{6} \\times \\frac{5}{6} = \\frac{125}{216}$$\n",
    "\n",
    "In other words, the chance that a player needs four or more turns to roll a six is slightly over half."
   ]
  },
  {
   "cell_type": "markdown",
   "id": "760dfbb8",
   "metadata": {},
   "source": [
    "### <tt>while</tt> loop\n",
    "\n",
    "If we want to simulate rolling a dice til we get a six, we need to use the <tt>while</tt> loop.\n",
    "\n",
    "The <tt>while</tt> loop is a loop that keeps repeating until some criterion is fulfilled.\n",
    "\n",
    "This is in contrast to the <tt>for</tt> loop which is run for a fixed number of cycles.\n",
    "\n",
    "Try running the code below a few times - you should get a different outcome each time"
   ]
  },
  {
   "cell_type": "code",
   "execution_count": 2,
   "id": "83b52f3a",
   "metadata": {},
   "outputs": [
    {
     "name": "stdout",
     "output_type": "stream",
     "text": [
      "roll 1. Outcome = 2\n",
      "roll 2. Outcome = 3\n",
      "roll 3. Outcome = 5\n",
      "roll 4. Outcome = 6\n",
      "Total rolls needed to get a six: 4\n"
     ]
    }
   ],
   "source": [
    "r = 0 # create the variable r which counts how many times we rolled the virtual dice\n",
    "d1 = 0 # create the variable d1 which stores the outcome of each dice roll\n",
    "\n",
    "while d1!=6:\n",
    "    r = r+1 # increase r by 1 each time we go round the loop\n",
    "    d1 = np.random.randint(1,7)\n",
    "    print('roll ' + str(r) + '. Outcome = ' + str(d1))\n",
    "\n",
    "# the value of r when we leave the loop is how many rolls were needed to get a six\n",
    "print('Total rolls needed to get a six: ' + str(r))"
   ]
  },
  {
   "cell_type": "markdown",
   "id": "2e1c67d6",
   "metadata": {},
   "source": [
    "What happened there?\n",
    "\n",
    "The code\n",
    "\n",
    "<tt> while d1!=6: </tt>\n",
    "\n",
    "means \"check if the value of <tt>d1</tt> is 6; if not, repeat the commands inside the loop and come back to check again\"\n",
    "\n",
    "Initially <tt>d1=0</tt> (because that was the value we initially gave it).\n",
    "\n",
    "Each time we 'roll the dice' we give d1 a new value and come back to check if it is now a six.\n",
    "\n",
    "On each pass through the loop we also increment <tt>r</tt> (increase the value of <tt>r</tt> by one) to count how many times we rolled the dice.\n",
    "\n",
    "<ul>\n",
    "<li> find the places in the code where these operations are done, to check you understand\n",
    "</ul>\n",
    "\n",
    "When a six is obtained (d1=6) we stop going round the loop. The value of <tt>r</tt> at that point tells us how many rolls were needed to obtian a six."
   ]
  },
  {
   "cell_type": "markdown",
   "id": "b69e115b",
   "metadata": {},
   "source": [
    "## Repeated <tt>while</tt> loop\n",
    "\n",
    "How often do we need to wait 2,3,4 or more trials to get a six?\n",
    "\n",
    "We can simulate this by repeating our <tt>while</tt> loop lots of times and each time, \n",
    "recording how many times we needed to roll the dice to get a six.\n",
    "\n",
    "You can think of each repeat of the 'experiment' as one player trying to roll a six and recording how many rolls it took to get one."
   ]
  },
  {
   "cell_type": "code",
   "execution_count": 3,
   "id": "0d0b482c",
   "metadata": {},
   "outputs": [],
   "source": [
    "# let's start by simulating 10 'players' each trying to get a six\n",
    "nPlayers = 10\n",
    "rollsNeeded = np.empty(nPlayers)\n",
    "\n",
    "for i in range(nPlayers):\n",
    "\n",
    "    r = 0 # create the variable r which counts how many times we rolled the virtual dice\n",
    "    d1 = 0 # create the variable d1 which stores the outcome of each dice roll\n",
    "\n",
    "    while d1!=6:\n",
    "        r = r+1\n",
    "        d1 = np.random.randint(1,7)\n",
    "    \n",
    "    # the value of r when we leave the loop is how many rolls were needed to get a six\n",
    "    rollsNeeded[i] = r"
   ]
  },
  {
   "cell_type": "markdown",
   "id": "1ad39e94",
   "metadata": {},
   "source": [
    "We should have created an array of 10 numbers, each of which is the number of rolls a player needed to get a six. \n",
    "\n",
    "Let's check what's in there."
   ]
  },
  {
   "cell_type": "code",
   "execution_count": 4,
   "id": "431a9a03",
   "metadata": {},
   "outputs": [
    {
     "data": {
      "text/plain": [
       "array([ 2.,  9.,  9.,  2., 10.,  4.,  3.,  9.,  1.,  3.])"
      ]
     },
     "execution_count": 4,
     "metadata": {},
     "output_type": "execute_result"
    }
   ],
   "source": [
    "rollsNeeded"
   ]
  },
  {
   "cell_type": "markdown",
   "id": "c0739fee",
   "metadata": {},
   "source": [
    "How many times did someone need 5 or more rolls to get a six?\n",
    "\n",
    "Run the simulation again - the answer should have changed.\n",
    "\n",
    "We will probably want to simulate a lot more than 10 players, but to do this we need to automatically count how many of them needed 5 or more rolls as it will beb too cumbersome to count them by hand.\n",
    "\n",
    "We can do that using the function <a href=\"https://numpy.org/doc/stable/reference/generated/numpy.unique.html\"><tt>np.unique</tt></a> which returns a list of the unique values in an array and (optionally) how many of each there were"
   ]
  },
  {
   "cell_type": "code",
   "execution_count": 5,
   "id": "de17678c",
   "metadata": {},
   "outputs": [
    {
     "name": "stdout",
     "output_type": "stream",
     "text": [
      "unique values = [ 1.  2.  3.  4.  9. 10.]\n",
      "counts =        [1 2 2 1 3 1]\n"
     ]
    }
   ],
   "source": [
    "scores, counts = np.unique(rollsNeeded, return_counts=True)\n",
    "print('unique values = ' + str(scores))\n",
    "print('counts =        ' + str(counts))"
   ]
  },
  {
   "cell_type": "markdown",
   "id": "5f9225bb",
   "metadata": {},
   "source": [
    "Check if you understand how these values relate to the array <tt>rollsNeeded</tt> above \n",
    "\n",
    "### Scale it up\n",
    "\n",
    "Now we can increase the number of simulated 'players' greatly to try and get a relialbe estimate of the proportion of players who will need 5 or more rolls to get a six."
   ]
  },
  {
   "cell_type": "code",
   "execution_count": 6,
   "id": "41f3c2c8",
   "metadata": {},
   "outputs": [],
   "source": [
    "# let's simulate 10,000 players\n",
    "nPlayers = 10000\n",
    "rollsNeeded = np.empty(nPlayers)\n",
    "\n",
    "for i in range(nPlayers):\n",
    "\n",
    "    r = 0 # create the variable r which counts how many times we rolled the virtual dice\n",
    "    d1 = 0 # create the variable d1 which stores the outcome of each dice roll\n",
    "\n",
    "    while d1!=6:\n",
    "        r = r+1\n",
    "        d1 = np.random.randint(1,7)\n",
    "    \n",
    "    # the value of r when we leave the loop is how many rolls were needed to get a six\n",
    "    rollsNeeded[i] = r\n",
    "    \n",
    "# count up how many of each individual score there are\n",
    "scores, counts = np.unique(rollsNeeded, return_counts=True)"
   ]
  },
  {
   "cell_type": "markdown",
   "id": "4a3146cb",
   "metadata": {},
   "source": [
    "It will probably be easier to see the pattern if we plot how many players needed each number of rolls"
   ]
  },
  {
   "cell_type": "code",
   "execution_count": 7,
   "id": "1b3f7c40",
   "metadata": {},
   "outputs": [
    {
     "data": {
      "image/png": "[encoded data removed]",
      "text/plain": [
       "<Figure size 640x480 with 1 Axes>"
      ]
     },
     "metadata": {
      "filenames": {
       "image/png": "/Users/joreilly/Desktop/JupyterNotebooks/StatsCourseBook/StatsCourseBook/_build/jupyter_execute/prepwork_diceroll_while_16_0.png"
      }
     },
     "output_type": "display_data"
    }
   ],
   "source": [
    "# plot the nummber of players who needed 1,2,3,4....etc rolls to get a six\n",
    "plt.bar(scores, height=counts)\n",
    "plt.xlabel('rolls needed')\n",
    "plt.ylabel('frequency out of ' + str(nPlayers) + ' trials')\n",
    "plt.show()"
   ]
  },
  {
   "cell_type": "markdown",
   "id": "fca52bf0",
   "metadata": {},
   "source": [
    "Did it surprise you that the most likely number of rolls needed (mode of the distribution) is 1?\n",
    "\n",
    "When you think about it:\n",
    "<ul>\n",
    "    <li>The chance of getting a six on Roll 1 is $\\frac{1}{6}$\n",
    "    <li>The chance of getting a six on Roll 2 is $\\frac{1}{6} \\times \\frac{5}{6}$, that is, the chance of a six on Roll 2, multiplied by the chance of NO six on Roll 1 (as you wouldn't have done a second roll if the first roll had yielded a six)\n",
    "    <li>The chance of getting a six on Roll 3 is $\\frac{1}{6} \\times \\frac{5}{6} \\times \\frac{5}{6}$ ...\n",
    "</ul>"
   ]
  },
  {
   "cell_type": "markdown",
   "id": "db7c2b79",
   "metadata": {},
   "source": [
    "### So how often do you need 5 or more trials to get a six?\n",
    "\n",
    "Of course, we could work this out using equations as above, \n",
    "but for the sake of understanding the simulation process, let's see how often \n",
    "we needed 5 or more trials in our simulation\n",
    "\n"
   ]
  },
  {
   "cell_type": "code",
   "execution_count": 8,
   "id": "43fe2a29",
   "metadata": {},
   "outputs": [
    {
     "data": {
      "text/plain": [
       "4951"
      ]
     },
     "execution_count": 8,
     "metadata": {},
     "output_type": "execute_result"
    }
   ],
   "source": [
    "np.count_nonzero(rollsNeeded>=5) # actual number of trials on which 10 or more rolls were needed"
   ]
  },
  {
   "cell_type": "code",
   "execution_count": 9,
   "id": "0d58e3c7",
   "metadata": {},
   "outputs": [
    {
     "data": {
      "text/plain": [
       "49.51"
      ]
     },
     "execution_count": 9,
     "metadata": {},
     "output_type": "execute_result"
    }
   ],
   "source": [
    "100 * np.count_nonzero(rollsNeeded>=5)/nPlayers # same thing, as a percentage of trials"
   ]
  },
  {
   "cell_type": "markdown",
   "id": "aca33fa4",
   "metadata": {},
   "source": [
    "Let's break that down.\n",
    "\n",
    "We previously stored the number of rolls needed ot get a six on each of our 10000 simulated trials in the array <tt>rollsNeeded</tt>\n",
    "\n",
    "The code:\n",
    "\n",
    "<tt>rollsNeeded>=10</tt>\n",
    "\n",
    "check which of these values are greater than 10.\n",
    "\n",
    "It's easier to see how this works in an eample using smaller array:"
   ]
  },
  {
   "cell_type": "code",
   "execution_count": 10,
   "id": "07b91595",
   "metadata": {},
   "outputs": [
    {
     "data": {
      "text/plain": [
       "array([False, False, False,  True,  True])"
      ]
     },
     "execution_count": 10,
     "metadata": {},
     "output_type": "execute_result"
    }
   ],
   "source": [
    "a = np.array([1,2,3,4,5]) # create a simple numpy array\n",
    "a>=4 # check whether each element is >= 4"
   ]
  },
  {
   "cell_type": "markdown",
   "id": "70da1fd3",
   "metadata": {},
   "source": [
    "In the code above, we created an array of 10000 \"True\" or \"False\"s, corresponding to each of our 10000 trials - \n",
    "\"True\" if 10 or more rolls were needed to obtain a six and \"False\" otherwise.\n",
    "\n",
    "The next bit of code \n",
    "\n",
    "<tt>np.count_nonzero(rollsNeeded>=10)</tt>\n",
    "\n",
    "simply counts how many \"True\"s there were in that array.\n",
    "\n",
    "Let's look again with our simple example:"
   ]
  },
  {
   "cell_type": "code",
   "execution_count": 11,
   "id": "ee9eca47",
   "metadata": {},
   "outputs": [
    {
     "data": {
      "text/plain": [
       "2"
      ]
     },
     "execution_count": 11,
     "metadata": {},
     "output_type": "execute_result"
    }
   ],
   "source": [
    "a = np.array([1,2,3,4,5]) # create a simple numpy array\n",
    "np.count_nonzero(a>=4) # check whether each element is >= 3"
   ]
  },
  {
   "cell_type": "markdown",
   "id": "6bb20848",
   "metadata": {},
   "source": [
    "In other words, of the numbers 1,2,3,4 and 5, two are >=4\n",
    "\n",
    "<ul>\n",
    "    <li> Can you change the code block below to work out what percentage of our 10000 simulated trials required:\n",
    "    <ul> \n",
    "        <li>at least 20 dice rolls \n",
    "        <li>more than 20 dice rolls\n",
    "    </ul>to obtain a six?\n",
    "</ul>"
   ]
  },
  {
   "cell_type": "code",
   "execution_count": 12,
   "id": "add87e2f",
   "metadata": {},
   "outputs": [
    {
     "data": {
      "text/plain": [
       "19.9"
      ]
     },
     "execution_count": 12,
     "metadata": {},
     "output_type": "execute_result"
    }
   ],
   "source": [
    "100 * np.count_nonzero(rollsNeeded>=10)/10000"
   ]
  },
  {
   "cell_type": "code",
   "execution_count": null,
   "id": "8d1471bd",
   "metadata": {},
   "outputs": [],
   "source": []
  }
 ],
 "metadata": {
  "kernelspec": {
   "display_name": "Python 3 (ipykernel)",
   "language": "python",
   "name": "python3"
  },
  "language_info": {
   "codemirror_mode": {
    "name": "ipython",
    "version": 3
   },
   "file_extension": ".py",
   "mimetype": "text/x-python",
   "name": "python",
   "nbconvert_exporter": "python",
   "pygments_lexer": "ipython3",
   "version": "3.9.13"
  }
 },
 "nbformat": 4,
 "nbformat_minor": 5
}