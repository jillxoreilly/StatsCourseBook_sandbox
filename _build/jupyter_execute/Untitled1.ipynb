{
 "cells": [
  {
   "cell_type": "markdown",
   "id": "2719a962",
   "metadata": {},
   "source": [
    "# Permutation test for unpaired data\n",
    "\n",
    "Say we are interested in whether students from Oxford of Cambridge earn more money five years after graduation.\n",
    "\n",
    "We survey a small-ish number of students from each university and find that the income for Oxford students is sligtly higher. How can we determine whether this difference is real, or occurred due to chance?"
   ]
  },
  {
   "cell_type": "markdown",
   "id": "2db6ff55",
   "metadata": {},
   "source": [
    "### Establishing the null distribution\n",
    "\n",
    "Even if the distribution of salaries for Oxford and Cambridge graduates was identical, we would not expect the mean salaries of Oxford and Cambridge graduates in our sample to be exactly the same. Just due to the random nature of sampling, there would be slightly more people with higher salaries, or more very high salaries, in one group or other. \n",
    "\n",
    "The question we need to answer whether the difference we observed is likely to have arisen due to chance in this way, or reflects a real difference in the underlying distribution of earnings for Oxford and Cambridge graduates.\n",
    "\n",
    "In other words we need to know how what range of values the difference of mean salaries would take, if we were to draw more random samples of the same size as our actual sample.\n",
    "\n",
    "To simulate this process of drawing many more samples, we use the data we do have (the salaries of the 40 graduates sureveyed) and randomly shuffle the labels of which graduate attended which university. In some of these random shuffles, more of the high salaries will be labelled 'Oxford' and in some, more of the high salaries will be labelled 'Cambridge'. How often will we get a difference of means as large as the one observed in our 'real' dataset?\n",
    "\n",
    "#### Hang on, why are we relabelling the data?\n",
    "\n",
    "According to the null hypothesis, all the graduates salaries are drawn from the same income distribution anyway. If that were true, a new sample would probably\n",
    "\n"
   ]
  }
 ],
 "metadata": {
  "kernelspec": {
   "display_name": "Python 3 (ipykernel)",
   "language": "python",
   "name": "python3"
  },
  "language_info": {
   "codemirror_mode": {
    "name": "ipython",
    "version": 3
   },
   "file_extension": ".py",
   "mimetype": "text/x-python",
   "name": "python",
   "nbconvert_exporter": "python",
   "pygments_lexer": "ipython3",
   "version": "3.9.13"
  }
 },
 "nbformat": 4,
 "nbformat_minor": 5
}