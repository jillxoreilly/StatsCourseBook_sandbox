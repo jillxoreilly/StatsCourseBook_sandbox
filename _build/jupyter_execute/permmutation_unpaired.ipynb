{
 "cells": [
  {
   "cell_type": "markdown",
   "id": "e5a4bea8",
   "metadata": {},
   "source": [
    "# Permutation test for unpaired or independent samples data\n",
    "\n",
    "We now look at the case of unpaired data - data in which we wish to compare two groups but there are no particular links between individuals in one group and individuals in another group\n",
    "\n",
    "Examples of experimental designs using independent samples would be (say) a comparison of science and humanities students, or first- and final-year students, where the individuals in each group are distinct.\n",
    "\n",
    "### Set up Python libraries\n",
    "\n",
    "As usual, run the code cell below to import the relevant Python libraries"
   ]
  },
  {
   "cell_type": "code",
   "execution_count": 1,
   "id": "83b773a6",
   "metadata": {},
   "outputs": [],
   "source": [
    "# Set-up Python libraries - you need to run this but you don't need to change it\n",
    "import numpy as np\n",
    "import matplotlib.pyplot as plt\n",
    "import scipy.stats as stats\n",
    "import pandas \n",
    "import seaborn as sns"
   ]
  },
  {
   "cell_type": "markdown",
   "id": "8d4519d3",
   "metadata": {},
   "source": [
    "## Toy example\n",
    "\n",
    "[A toy example is an example witha  very small dataset, just to show how it works]\n",
    "\n",
    "We are interested in whether cat owners or dog owners eat more yoghurt. We survey five cat owners and four dog owners and ask how many times in the last week they ate yogurt. We obtain the following data:"
   ]
  },
  {
   "cell_type": "code",
   "execution_count": 2,
   "id": "7a66358a",
   "metadata": {},
   "outputs": [
    {
     "data": {
      "text/html": [
       "<div>\n",
       "<style scoped>\n",
       "    .dataframe tbody tr th:only-of-type {\n",
       "        vertical-align: middle;\n",
       "    }\n",
       "\n",
       "    .dataframe tbody tr th {\n",
       "        vertical-align: top;\n",
       "    }\n",
       "\n",
       "    .dataframe thead th {\n",
       "        text-align: right;\n",
       "    }\n",
       "</style>\n",
       "<table border=\"1\" class=\"dataframe\">\n",
       "  <thead>\n",
       "    <tr style=\"text-align: right;\">\n",
       "      <th></th>\n",
       "      <th>Pet</th>\n",
       "      <th>Yoghurt</th>\n",
       "    </tr>\n",
       "  </thead>\n",
       "  <tbody>\n",
       "    <tr>\n",
       "      <th>0</th>\n",
       "      <td>cat</td>\n",
       "      <td>0</td>\n",
       "    </tr>\n",
       "    <tr>\n",
       "      <th>1</th>\n",
       "      <td>cat</td>\n",
       "      <td>7</td>\n",
       "    </tr>\n",
       "    <tr>\n",
       "      <th>2</th>\n",
       "      <td>cat</td>\n",
       "      <td>5</td>\n",
       "    </tr>\n",
       "    <tr>\n",
       "      <th>3</th>\n",
       "      <td>cat</td>\n",
       "      <td>2</td>\n",
       "    </tr>\n",
       "    <tr>\n",
       "      <th>4</th>\n",
       "      <td>cat</td>\n",
       "      <td>13</td>\n",
       "    </tr>\n",
       "    <tr>\n",
       "      <th>5</th>\n",
       "      <td>dog</td>\n",
       "      <td>0</td>\n",
       "    </tr>\n",
       "    <tr>\n",
       "      <th>6</th>\n",
       "      <td>dog</td>\n",
       "      <td>0</td>\n",
       "    </tr>\n",
       "    <tr>\n",
       "      <th>7</th>\n",
       "      <td>dog</td>\n",
       "      <td>6</td>\n",
       "    </tr>\n",
       "    <tr>\n",
       "      <th>8</th>\n",
       "      <td>dog</td>\n",
       "      <td>4</td>\n",
       "    </tr>\n",
       "  </tbody>\n",
       "</table>\n",
       "</div>"
      ],
      "text/plain": [
       "   Pet  Yoghurt\n",
       "0  cat        0\n",
       "1  cat        7\n",
       "2  cat        5\n",
       "3  cat        2\n",
       "4  cat       13\n",
       "5  dog        0\n",
       "6  dog        0\n",
       "7  dog        6\n",
       "8  dog        4"
      ]
     },
     "execution_count": 2,
     "metadata": {},
     "output_type": "execute_result"
    }
   ],
   "source": [
    "yog = pandas.DataFrame(data=[['cat',0],['cat',7],['cat',5],['cat',2],['cat',13],['dog',0],['dog',0],['dog',6],['dog',4]], columns=['Pet','Yoghurt'])\n",
    "yog"
   ]
  },
  {
   "cell_type": "code",
   "execution_count": 3,
   "id": "2774cd93",
   "metadata": {},
   "outputs": [
    {
     "name": "stdout",
     "output_type": "stream",
     "text": [
      "mean for cat owners: 5.4\n",
      "mean for dog owners: 2.5\n",
      "difference of means (cat-dog): 2.9000000000000004\n"
     ]
    }
   ],
   "source": [
    "print('mean for cat owners: ' + str(yog[yog['Pet']=='cat']['Yoghurt'].mean()))\n",
    "print('mean for dog owners: ' + str(yog[yog['Pet']=='dog']['Yoghurt'].mean()))\n",
    "print('difference of means (cat-dog): ' + str(yog[yog['Pet']=='cat']['Yoghurt'].mean()-yog[yog['Pet']=='dog']['Yoghurt'].mean()))"
   ]
  },
  {
   "cell_type": "markdown",
   "id": "d0c68564",
   "metadata": {},
   "source": [
    "It seems the cat owners eat more yoghurt, on average, than the dog owners. \n",
    "\n",
    "Let's plot the data:"
   ]
  },
  {
   "cell_type": "code",
   "execution_count": 4,
   "id": "a254b247",
   "metadata": {},
   "outputs": [
    {
     "data": {
      "text/plain": [
       "<AxesSubplot:xlabel='Pet', ylabel='Yoghurt'>"
      ]
     },
     "execution_count": 4,
     "metadata": {},
     "output_type": "execute_result"
    },
    {
     "data": {
      "image/png": "[encoded data removed]",
      "text/plain": [
       "<Figure size 640x480 with 1 Axes>"
      ]
     },
     "metadata": {
      "filenames": {
       "image/png": "/Users/joreilly/Desktop/JupyterNotebooks/StatsCourseBook/StatsCourseBook_sandbox/_build/jupyter_execute/permmutation_unpaired_6_1.png"
      }
     },
     "output_type": "display_data"
    }
   ],
   "source": [
    "sns.barplot(data=yog, x='Pet', y='Yoghurt', color=[0.9,0.9,0.9], ci=None)\n",
    "sns.stripplot(data=yog, x='Pet', y='Yoghurt', color=[0,0,0]) # this bit plots the dots"
   ]
  },
  {
   "cell_type": "markdown",
   "id": "f792710a",
   "metadata": {},
   "source": [
    "We note that the mean number of yoghurts eaten is higher for cat owners, but this may be skewed by one cat-owning yogurt enthusiast."
   ]
  },
  {
   "cell_type": "markdown",
   "id": "cc794ca8",
   "metadata": {},
   "source": [
    "### Is this result statistically significant? \n",
    "\n",
    "That is, would the result (on average cat owners eat yoghurt 2.9 more times per week) be very unlikely to occur due to chance, if the null hypothesis were true, ie if there were no pet-based differences in the number of times a person eats yoghurt? \n",
    "\n",
    "To answer this question, we need to know what values difference of mean yoghurt consuption (for [cat - dog] owners) we would get due to chance - if actually all the people cat- and dog onders) were drawn from some distribution where the number of times yoghurt is eaten does not depend on which pet you have. \n",
    "\n",
    "If we drew lots of samples of 9 people from that yoghurt-eating population, even though there is no overall difference in yoghurt consumption between cat and dog owners, nonetheless we would almost always get some difference between the cat- and dog owners due to random chance. The distribution of these differences is called the <b>null distribution</b> of difference of means, that is, it is <b>the distribution we would expect to obtain if the null hypothesis were true</b>.\n",
    "\n",
    "### Obtaining the null distribution by permutation testing\n",
    "\n",
    "In previous weeks we have obtained simulated distributions of statistics such as the sample mean, by drawing many samples from a (known) parent population (as in the exercises on the Central Limit Theorem) or by bootstrapping. Here we will attempt to do something similar:\n",
    "\n",
    "We don't have access to the parent population, only the sample of 9 yoghurt-eaters. The sample tells us several interesting things about the parent distribution, regardless of pet-based effects:\n",
    "<ul>\n",
    "    <li> most people eat yoghurt less than once a day\n",
    "    <li> some people eat loads of yoghurt\n",
    "        <ul><li> ie the distriution of differences has positive skew </ul>\n",
    "</ul>\n",
    "\n",
    "It also tells us about some potential pet-based effects:\n",
    "<ul>\n",
    "    <li> the number of times yoghurt is eaten tends to be higher for cat owners\n",
    "    <li> the outlier individual who ate loads of yoghurt was a cat owner\n",
    "</ul>\n",
    "\n",
    "What we are going to do is shuffle the data around to create many new (re)samples preserving the non-pet-related information but ignoring the pet of the yoghurt-eater. Using these simulated (shuffled) datasets we will work out how often we get a difference of 2.9 or more iin the mean numbver of times yoghurt is eaten, between cat- and dog owners. This is equivalent to determining how likely our difference is to have occurred due to chance.\n",
    "\n"
   ]
  },
  {
   "cell_type": "markdown",
   "id": "f6f76266",
   "metadata": {},
   "source": [
    "### Run the simulation\n",
    "\n",
    "To generate new simulated datasets, we will shuffle around the datapoints in our original dataset. \n",
    "\n",
    "Which ones can we shuffle?\n",
    "\n",
    "<ul>\n",
    "<li>We assume there are no pet-based differences, so we can swap the pet-labels for any individuals in the sample\n",
    "<li>We stick to the original sample sizes, ie 5 people should always be labelled as cat-owners and 4 as dog-owners\n",
    "</ul>\n",
    "\n",
    "To generate each new simulated dataset, we will randomly shuffle the values for number of times yoghurt was eaten, and then assign five values to 'cat owners' and four to 'dog owners'\n",
    "\n",
    "Here is one such shuffle, try running it a few times and watching how the resulting dataframe changes"
   ]
  },
  {
   "cell_type": "code",
   "execution_count": 5,
   "id": "53ab0b14",
   "metadata": {},
   "outputs": [
    {
     "data": {
      "text/html": [
       "<div>\n",
       "<style scoped>\n",
       "    .dataframe tbody tr th:only-of-type {\n",
       "        vertical-align: middle;\n",
       "    }\n",
       "\n",
       "    .dataframe tbody tr th {\n",
       "        vertical-align: top;\n",
       "    }\n",
       "\n",
       "    .dataframe thead th {\n",
       "        text-align: right;\n",
       "    }\n",
       "</style>\n",
       "<table border=\"1\" class=\"dataframe\">\n",
       "  <thead>\n",
       "    <tr style=\"text-align: right;\">\n",
       "      <th></th>\n",
       "      <th>Pet</th>\n",
       "      <th>Yoghurt</th>\n",
       "    </tr>\n",
       "  </thead>\n",
       "  <tbody>\n",
       "    <tr>\n",
       "      <th>0</th>\n",
       "      <td>cat</td>\n",
       "      <td>0</td>\n",
       "    </tr>\n",
       "    <tr>\n",
       "      <th>1</th>\n",
       "      <td>cat</td>\n",
       "      <td>7</td>\n",
       "    </tr>\n",
       "    <tr>\n",
       "      <th>2</th>\n",
       "      <td>dog</td>\n",
       "      <td>5</td>\n",
       "    </tr>\n",
       "    <tr>\n",
       "      <th>3</th>\n",
       "      <td>cat</td>\n",
       "      <td>2</td>\n",
       "    </tr>\n",
       "    <tr>\n",
       "      <th>4</th>\n",
       "      <td>dog</td>\n",
       "      <td>13</td>\n",
       "    </tr>\n",
       "    <tr>\n",
       "      <th>5</th>\n",
       "      <td>cat</td>\n",
       "      <td>0</td>\n",
       "    </tr>\n",
       "    <tr>\n",
       "      <th>6</th>\n",
       "      <td>dog</td>\n",
       "      <td>0</td>\n",
       "    </tr>\n",
       "    <tr>\n",
       "      <th>7</th>\n",
       "      <td>cat</td>\n",
       "      <td>6</td>\n",
       "    </tr>\n",
       "    <tr>\n",
       "      <th>8</th>\n",
       "      <td>dog</td>\n",
       "      <td>4</td>\n",
       "    </tr>\n",
       "  </tbody>\n",
       "</table>\n",
       "</div>"
      ],
      "text/plain": [
       "   Pet  Yoghurt\n",
       "0  cat        0\n",
       "1  cat        7\n",
       "2  dog        5\n",
       "3  cat        2\n",
       "4  dog       13\n",
       "5  cat        0\n",
       "6  dog        0\n",
       "7  cat        6\n",
       "8  dog        4"
      ]
     },
     "execution_count": 5,
     "metadata": {},
     "output_type": "execute_result"
    }
   ],
   "source": [
    "yog_shuffled = yog.copy()\n",
    "yog_shuffled['Pet'] = np.random.permutation(yog.Pet) # replace the column 'Pet' with a random permutation of itself\n",
    "yog_shuffled"
   ]
  },
  {
   "cell_type": "markdown",
   "id": "6a7843b3",
   "metadata": {},
   "source": [
    "For each shuffled dataframe we obtain the relevant summary statistic, that is the mean number of times yogurt is eaten by cat owners - mean number of times yogurt is eaten by dog owners:"
   ]
  },
  {
   "cell_type": "code",
   "execution_count": 6,
   "id": "1b07822a",
   "metadata": {},
   "outputs": [
    {
     "data": {
      "text/plain": [
       "-2.5"
      ]
     },
     "execution_count": 6,
     "metadata": {},
     "output_type": "execute_result"
    }
   ],
   "source": [
    "yog_shuffled[yog_shuffled['Pet']=='cat']['Yoghurt'].mean() - yog_shuffled[yog_shuffled['Pet']=='dog']['Yoghurt'].mean()"
   ]
  },
  {
   "cell_type": "markdown",
   "id": "811525bd",
   "metadata": {},
   "source": [
    "### Visualizing randoms shuffles in the yoghurt data\n",
    "\n",
    "Let's see how the difference of means changes over a few random shuffles.\n",
    "\n",
    "Below I generate 4 random shuffles of our yoghurt data (in which individuals are randomly relabelled as cat-= or dog-owners, maintaining the correct number of cat- and dog-owners), and plot the outcomes:"
   ]
  },
  {
   "cell_type": "code",
   "execution_count": 7,
   "id": "06760ae0",
   "metadata": {},
   "outputs": [
    {
     "data": {
      "image/png": "[encoded data removed]",
      "text/plain": [
       "<Figure size 640x480 with 4 Axes>"
      ]
     },
     "metadata": {
      "filenames": {
       "image/png": "/Users/joreilly/Desktop/JupyterNotebooks/StatsCourseBook/StatsCourseBook_sandbox/_build/jupyter_execute/permmutation_unpaired_14_0.png"
      }
     },
     "output_type": "display_data"
    }
   ],
   "source": [
    "for n in range(4):\n",
    "    yog_shuffled = yog.copy()  # work on a copy of the original dataframe\n",
    "    yog_shuffled['Pet'] = np.random.permutation(yog.Pet) # replace the column 'Pet' with a random permutation of itself\n",
    "\n",
    "    plt.subplot(1,4,n+1)\n",
    "    sns.barplot(data=yog_shuffled, x='Pet', y='Yoghurt', color=[0.9,0.9,0.9], ci=None)\n",
    "    sns.stripplot(data=yog_shuffled, x='Pet', y='Yoghurt', color=[0,0,0]) # this bit plots the dots"
   ]
  },
  {
   "cell_type": "markdown",
   "id": "2d7a4d09",
   "metadata": {},
   "source": [
    "You can see that the difference of means (difference in heights of the bars) depends on whether more of the high-yoghurt individuals are assigned as cat owners, and also depends quite a lot on which group the 14-yoghurt individual ends up in.\n",
    "\n",
    "### Obtain the summary statistic of interest\n",
    "\n",
    "We are interested in the difference between the mean number of times cat- and dog-owners eat yoghurt. For each shuffle this is obtained as follows:"
   ]
  },
  {
   "cell_type": "code",
   "execution_count": 8,
   "id": "7ebe1d0c",
   "metadata": {},
   "outputs": [
    {
     "name": "stdout",
     "output_type": "stream",
     "text": [
      "mean difference for the last shuffle = -2.5\n"
     ]
    }
   ],
   "source": [
    "dMeans = yog_shuffled[yog_shuffled['Pet']=='cat']['Yoghurt'].mean() - yog_shuffled[yog_shuffled['Pet']=='dog']['Yoghurt'].mean()\n",
    "print('mean difference for the last shuffle = ' + str(dMeans))"
   ]
  },
  {
   "cell_type": "markdown",
   "id": "18b16556",
   "metadata": {},
   "source": [
    "### Plot the null distribution for a large number of shuffles\n",
    "\n",
    "Now we can repeat the process for a large number of shuffles and get the mean number of times cat- and dog-owners eat yoghurt for each shuffle. The distribution of these differences of means is the null distribution to which our observed difference (the average for cat owners is 2.9 higher) is to be compared.\n"
   ]
  },
  {
   "cell_type": "code",
   "execution_count": 9,
   "id": "480c0e15",
   "metadata": {},
   "outputs": [
    {
     "data": {
      "image/png": "[encoded data removed]",
      "text/plain": [
       "<Figure size 640x480 with 1 Axes>"
      ]
     },
     "metadata": {
      "filenames": {
       "image/png": "/Users/joreilly/Desktop/JupyterNotebooks/StatsCourseBook/StatsCourseBook_sandbox/_build/jupyter_execute/permmutation_unpaired_18_0.png"
      }
     },
     "output_type": "display_data"
    },
    {
     "name": "stdout",
     "output_type": "stream",
     "text": [
      "proportion >2.9 = 18.69%\n"
     ]
    }
   ],
   "source": [
    "nReps = 10000 # (number of shuffles)\n",
    "dMeans = np.empty(nReps) # array to store mean difference for each shuffle\n",
    "\n",
    "for i in range(nReps):\n",
    "    yog_shuffled = yog.copy()  # work on a copy of the original dataframe\n",
    "    yog_shuffled['Pet'] = np.random.permutation(yog.Pet) # replace the column 'Pet' with a random permutation of itself\n",
    "    dMeans[i] = yog_shuffled[yog_shuffled['Pet']=='cat']['Yoghurt'].mean() - yog_shuffled[yog_shuffled['Pet']=='dog']['Yoghurt'].mean()\n",
    "    \n",
    "sns.histplot(dMeans, bins=range(-7,7))\n",
    "plt.show()\n",
    "\n",
    "print('proportion >2.9 = ' + str(100*np.mean(dMeans>2.9)) + '%')"
   ]
  },
  {
   "cell_type": "markdown",
   "id": "4e7f3153",
   "metadata": {},
   "source": [
    "### The $𝑝$-value¶\n",
    "\n",
    "We can also calculate the proportion of cases in which the difference of means for cat- minus dog-owners exceeds the value we observed in our original sample, 2.9. This proportion is about 19%. It tells us that if we simulate a situation in which pet ownership does not determine the number of times yoghurt is eaten (but preserving some other important features of the dataset like the high skew), there is still a 19% chance that we would get an apparent pet-based difference as large as the one we observed in our 'real' data.\n",
    "\n",
    "The probability that the test statistic (in this case, the difference in mean times yoghurt is eaten) would be observed if the null hypothesis were true, is sometimes called the $𝑝$-value.\n",
    "\n",
    "Our permutation test shows that the $𝑝$-value associated with the observed difference of means is 0.19.\n",
    "\n",
    "The result is considered statistically significant if $𝑝$ is smaller than some predetermined level, known as $\\alpha$. Usually $\\alpha=0.05$ or $\\alpha=0.05$ is used, so the result is significant if $p=0.05$ or $p=0.01$. Our result would not normally be considered statistically significant (not even close)."
   ]
  },
  {
   "cell_type": "markdown",
   "id": "3c7cee4f",
   "metadata": {},
   "source": [
    "## Use a built in function\n",
    "\n",
    "Now you have seen how the permutation test works, we can learn how to run it more easily using the built in function <tt>scipy.stats.permutation_test</tt>\n",
    "\n",
    "<b>Note-</b> You need scipy stats version > 1.8.0 to run this. You may need to check your version yb running the following code block."
   ]
  },
  {
   "cell_type": "code",
   "execution_count": 10,
   "id": "786387aa",
   "metadata": {},
   "outputs": [
    {
     "data": {
      "text/plain": [
       "'1.9.3'"
      ]
     },
     "execution_count": 10,
     "metadata": {},
     "output_type": "execute_result"
    }
   ],
   "source": [
    "import scipy as scipy\n",
    "scipy.version.version"
   ]
  },
  {
   "cell_type": "markdown",
   "id": "eaa7328c",
   "metadata": {},
   "source": [
    "If this is less than 1.8.0 you need to update it -\n",
    "\n",
    "Mac: open a terminal (Applications--Utilities--Terminal and type:\n",
    "<tt> conda install -c conda-forge scipy=1.10.0 </tt>\n",
    "                      \n",
    "Windows: open an Anaconda terminal (spotlight search for anaconda and select the anaconda terminal app) and type:\n",
    "<tt> conda install -c conda-forge scipy=1.10.0 </tt>\n",
    "\n",
    "Please try and do this before the tutorial - otherwise your tutor will know you didn't read the prep work thoroughly ;-)"
   ]
  },
  {
   "cell_type": "markdown",
   "id": "fcb352f3",
   "metadata": {},
   "source": [
    "### Syntax of <tt>stats.permutation_test</tt>\n",
    "\n",
    "Here is how we run the permutation test (same as the one we did with our own code above, although note how much more quickly this one runs!)"
   ]
  },
  {
   "cell_type": "code",
   "execution_count": 11,
   "id": "c06b632f",
   "metadata": {},
   "outputs": [
    {
     "data": {
      "text/plain": [
       "PermutationTestResult(statistic=2.9000000000000004, pvalue=0.18253968253968253, null_distribution=array([ 2.9 , -2.95, -2.95, -0.25, -1.15,  2.  ,  2.  ,  4.7 ,  3.8 ,\n",
       "       -3.85, -1.15, -2.05, -1.15, -2.05,  0.65,  0.65,  0.65,  3.35,\n",
       "        2.45, -5.2 , -2.5 , -3.4 , -2.5 , -3.4 , -0.7 , -0.25,  2.45,\n",
       "        1.55,  2.45,  1.55,  4.25, -3.4 , -4.3 , -1.6 , -1.6 , -0.25,\n",
       "       -0.25,  2.45,  1.55, -6.1 , -3.4 , -4.3 , -3.4 , -4.3 , -1.6 ,\n",
       "       -1.15,  1.55,  0.65,  1.55,  0.65,  3.35, -4.3 , -5.2 , -2.5 ,\n",
       "       -2.5 , -2.5 ,  0.2 , -0.7 ,  0.2 , -0.7 ,  2.  , -5.65, -6.55,\n",
       "       -3.85, -3.85, -0.7 , -1.6 ,  1.1 ,  1.1 , -4.75,  2.9 ,  2.9 ,\n",
       "        5.6 ,  4.7 , -2.95, -0.25, -1.15, -0.25, -1.15,  1.55,  2.  ,\n",
       "        4.7 ,  3.8 ,  4.7 ,  3.8 ,  6.5 , -1.15, -2.05,  0.65,  0.65,\n",
       "        0.65,  3.35,  2.45,  3.35,  2.45,  5.15, -2.5 , -3.4 , -0.7 ,\n",
       "       -0.7 ,  2.45,  1.55,  4.25,  4.25, -1.6 , -0.25,  2.45,  1.55,\n",
       "        2.45,  1.55,  4.25, -3.4 , -4.3 , -1.6 , -1.6 ,  1.55,  0.65,\n",
       "        3.35,  3.35, -2.5 ,  0.2 , -0.7 ,  2.  ,  2.  , -3.85,  1.1 ]))"
      ]
     },
     "execution_count": 11,
     "metadata": {},
     "output_type": "execute_result"
    }
   ],
   "source": [
    "def dMeans(x, y):\n",
    "    return np.mean(x)-np.mean(y)\n",
    "\n",
    "stats.permutation_test((yog[yog['Pet']=='cat']['Yoghurt'], yog[yog['Pet']=='dog']['Yoghurt']), dMeans, permutation_type='independent', alternative='greater', n_resamples=10000)"
   ]
  },
  {
   "cell_type": "markdown",
   "id": "46ab307a",
   "metadata": {},
   "source": [
    "Firstly, to reassure you this is doing a very similar job to our home-made code, check the p-value (should be about 0.18). \n",
    "\n",
    "We can also plot the null distribution, which hopefully looks simimlar to what we got from the home-made code:"
   ]
  },
  {
   "cell_type": "code",
   "execution_count": 12,
   "id": "f5b9d348",
   "metadata": {},
   "outputs": [
    {
     "data": {
      "image/png": "[encoded data removed]",
      "text/plain": [
       "<Figure size 640x480 with 1 Axes>"
      ]
     },
     "metadata": {
      "filenames": {
       "image/png": "/Users/joreilly/Desktop/JupyterNotebooks/StatsCourseBook/StatsCourseBook_sandbox/_build/jupyter_execute/permmutation_unpaired_26_0.png"
      }
     },
     "output_type": "display_data"
    }
   ],
   "source": [
    "res = stats.permutation_test((yog[yog['Pet']=='cat']['Yoghurt'], yog[yog['Pet']=='dog']['Yoghurt']), dMeans, permutation_type='independent', alternative='greater', n_resamples=10000)\n",
    "sns.histplot(res.null_distribution, bins=range(-7,7))\n",
    "plt.show()"
   ]
  },
  {
   "cell_type": "markdown",
   "id": "b5f9c399",
   "metadata": {},
   "source": [
    "The syntax is very similar to that which we used for the paired test.\n",
    "\n",
    "Firstly, we had to give the function <tt>stats.permutation_test</tt> our two samples (number of yogurts eaten by each cat owner, number of yogurts eaten by each dog owner) as a pair of <b>series</b>, rather than giving it the whole pandas dataframe as we do for many other stats functions.\n",
    "\n",
    "Secondly, to tell <tt>stats.permutation_test</tt> the test statistic we want to get the null distribution of, we had to pass it a <i>function</i> called <tt>mDiff</tt>, and this function had to have the property that it takes in two series (number of yogurts eaten by each cat owner, number of yogurts eaten by each dog owner) and returns a single number the difference of means"
   ]
  },
  {
   "cell_type": "markdown",
   "id": "a2db86f5",
   "metadata": {},
   "source": [
    "### Defining a function\n",
    "\n",
    "You will have come across this in datacamp but we haven't used it since. Don't be scared! It's unfamiliar but quite handy. On the other hand for an independent samples permutation test, the function I have given you for dMeans is always going to work, so if in doubt you can just copy it :-)\n",
    "\n",
    "A function is a little computer programme that takes in some information (in this case, it takes in two series, (number of yogurts eaten by each cat owner, number of yogurts eaten by each dog owner) and returns some value (in this case the difference of means\n"
   ]
  },
  {
   "cell_type": "code",
   "execution_count": 13,
   "id": "335e1896",
   "metadata": {},
   "outputs": [],
   "source": [
    "# define a function - note how this differs from the function for mean difference, in the paired example\n",
    "def dMeans(x, y):\n",
    "    return np.mean(x)-np.mean(y)"
   ]
  },
  {
   "cell_type": "markdown",
   "id": "618f5014",
   "metadata": {},
   "source": [
    "here's another example:"
   ]
  },
  {
   "cell_type": "code",
   "execution_count": 14,
   "id": "b297f3ea",
   "metadata": {},
   "outputs": [
    {
     "data": {
      "text/plain": [
       "31.2"
      ]
     },
     "execution_count": 14,
     "metadata": {},
     "output_type": "execute_result"
    }
   ],
   "source": [
    "# definte a new function that divides each element of x by 5 and each elemment of y by 2, and then adds up the results\n",
    "def jackfruit(x,y):\n",
    "    return sum(x/5) + sum(y/2)\n",
    "\n",
    "sausages = np.array([1,2,3]) # one input array - have given it an arbitrary name\n",
    "beans = np.array([10,20,30]) # another input array - have given it an arbitrary name\n",
    "\n",
    "jackfruit(sausages,beans)"
   ]
  },
  {
   "cell_type": "markdown",
   "id": "573af852",
   "metadata": {},
   "source": [
    "Now we can see how we could run <tt>stats.permutation_test</tt> on our function <tt>jackfruit</tt> and our data <tt>sausages</tt> and <tt>beans</tt>"
   ]
  },
  {
   "cell_type": "code",
   "execution_count": 15,
   "id": "0400481d",
   "metadata": {},
   "outputs": [
    {
     "ename": "SyntaxError",
     "evalue": "EOL while scanning string literal (3338219531.py, line 3)",
     "output_type": "error",
     "traceback": [
      "\u001b[0;36m  File \u001b[0;32m\"/var/folders/q4/twg1yll54y142rc02m5wwbt40000gr/T/ipykernel_70866/3338219531.py\"\u001b[0;36m, line \u001b[0;32m3\u001b[0m\n\u001b[0;31m    Let's go through another example.\u001b[0m\n\u001b[0m                                      ^\u001b[0m\n\u001b[0;31mSyntaxError\u001b[0m\u001b[0;31m:\u001b[0m EOL while scanning string literal\n"
     ]
    }
   ],
   "source": [
    "## Another example\n",
    "\n",
    "Let's go through another example. "
   ]
  },
  {
   "cell_type": "code",
   "execution_count": null,
   "id": "61d98fdf",
   "metadata": {},
   "outputs": [],
   "source": []
  },
  {
   "cell_type": "code",
   "execution_count": null,
   "id": "5468258c",
   "metadata": {},
   "outputs": [],
   "source": []
  }
 ],
 "metadata": {
  "kernelspec": {
   "display_name": "Python 3 (ipykernel)",
   "language": "python",
   "name": "python3"
  },
  "language_info": {
   "codemirror_mode": {
    "name": "ipython",
    "version": 3
   },
   "file_extension": ".py",
   "mimetype": "text/x-python",
   "name": "python",
   "nbconvert_exporter": "python",
   "pygments_lexer": "ipython3",
   "version": "3.9.13"
  }
 },
 "nbformat": 4,
 "nbformat_minor": 5
}