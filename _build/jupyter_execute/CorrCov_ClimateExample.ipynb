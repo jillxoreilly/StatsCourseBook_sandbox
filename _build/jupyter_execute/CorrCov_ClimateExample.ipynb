{
 "cells": [
  {
   "cell_type": "markdown",
   "id": "8501b536",
   "metadata": {},
   "source": [
    "# Climate example"
   ]
  },
  {
   "cell_type": "markdown",
   "id": "06a3540a",
   "metadata": {},
   "source": [
    "## Example\n",
    "\n",
    "We will look at a dataset containing carbon emissions, GDP and population for 164 countries (data from 2018).\n",
    "\n",
    "These data are adapted from a dataset downloaded from <a href=\"https://ourworldindata.org/\">Our World in Data</a>, a fabulous Oxford-based organization that provides datasets and visualizations addressing global issues.\n",
    "\n",
    "\n",
    "### Set up Python libraries\n",
    "\n",
    "As usual, run the code cell below to import the relevant Python libraries"
   ]
  },
  {
   "cell_type": "code",
   "execution_count": 1,
   "id": "7f1d34e0",
   "metadata": {},
   "outputs": [],
   "source": [
    "# Set-up Python libraries - you need to run this but you don't need to change it\n",
    "import numpy as np\n",
    "import matplotlib.pyplot as plt\n",
    "import scipy.stats as stats\n",
    "import pandas \n",
    "import seaborn as sns\n",
    "sns.set_theme() # use pretty defaults"
   ]
  },
  {
   "cell_type": "markdown",
   "id": "5f633741",
   "metadata": {},
   "source": [
    "### Load and inspect the data\n",
    "\n",
    "Load the data from the file CO2vGDP.csv"
   ]
  },
  {
   "cell_type": "code",
   "execution_count": 2,
   "id": "075f78c7",
   "metadata": {},
   "outputs": [
    {
     "data": {
      "text/html": [
       "<div>\n",
       "<style scoped>\n",
       "    .dataframe tbody tr th:only-of-type {\n",
       "        vertical-align: middle;\n",
       "    }\n",
       "\n",
       "    .dataframe tbody tr th {\n",
       "        vertical-align: top;\n",
       "    }\n",
       "\n",
       "    .dataframe thead th {\n",
       "        text-align: right;\n",
       "    }\n",
       "</style>\n",
       "<table border=\"1\" class=\"dataframe\">\n",
       "  <thead>\n",
       "    <tr style=\"text-align: right;\">\n",
       "      <th></th>\n",
       "      <th>Country</th>\n",
       "      <th>CO2</th>\n",
       "      <th>GDP</th>\n",
       "      <th>population</th>\n",
       "    </tr>\n",
       "  </thead>\n",
       "  <tbody>\n",
       "    <tr>\n",
       "      <th>0</th>\n",
       "      <td>Afghanistan</td>\n",
       "      <td>0.2245</td>\n",
       "      <td>1934.555054</td>\n",
       "      <td>36686788</td>\n",
       "    </tr>\n",
       "    <tr>\n",
       "      <th>1</th>\n",
       "      <td>Albania</td>\n",
       "      <td>1.6422</td>\n",
       "      <td>11104.166020</td>\n",
       "      <td>2877019</td>\n",
       "    </tr>\n",
       "    <tr>\n",
       "      <th>2</th>\n",
       "      <td>Algeria</td>\n",
       "      <td>3.8241</td>\n",
       "      <td>14228.025390</td>\n",
       "      <td>41927008</td>\n",
       "    </tr>\n",
       "    <tr>\n",
       "      <th>3</th>\n",
       "      <td>Angola</td>\n",
       "      <td>0.7912</td>\n",
       "      <td>7771.441895</td>\n",
       "      <td>31273538</td>\n",
       "    </tr>\n",
       "    <tr>\n",
       "      <th>4</th>\n",
       "      <td>Argentina</td>\n",
       "      <td>4.0824</td>\n",
       "      <td>18556.382810</td>\n",
       "      <td>44413592</td>\n",
       "    </tr>\n",
       "    <tr>\n",
       "      <th>...</th>\n",
       "      <td>...</td>\n",
       "      <td>...</td>\n",
       "      <td>...</td>\n",
       "      <td>...</td>\n",
       "    </tr>\n",
       "    <tr>\n",
       "      <th>159</th>\n",
       "      <td>Venezuela</td>\n",
       "      <td>4.1602</td>\n",
       "      <td>10709.950200</td>\n",
       "      <td>29825652</td>\n",
       "    </tr>\n",
       "    <tr>\n",
       "      <th>160</th>\n",
       "      <td>Vietnam</td>\n",
       "      <td>2.3415</td>\n",
       "      <td>6814.142090</td>\n",
       "      <td>94914328</td>\n",
       "    </tr>\n",
       "    <tr>\n",
       "      <th>161</th>\n",
       "      <td>Yemen</td>\n",
       "      <td>0.3503</td>\n",
       "      <td>2284.889893</td>\n",
       "      <td>30790514</td>\n",
       "    </tr>\n",
       "    <tr>\n",
       "      <th>162</th>\n",
       "      <td>Zambia</td>\n",
       "      <td>0.4215</td>\n",
       "      <td>3534.033691</td>\n",
       "      <td>17835898</td>\n",
       "    </tr>\n",
       "    <tr>\n",
       "      <th>163</th>\n",
       "      <td>Zimbabwe</td>\n",
       "      <td>0.8210</td>\n",
       "      <td>1611.405151</td>\n",
       "      <td>15052191</td>\n",
       "    </tr>\n",
       "  </tbody>\n",
       "</table>\n",
       "<p>164 rows × 4 columns</p>\n",
       "</div>"
      ],
      "text/plain": [
       "         Country     CO2           GDP  population\n",
       "0    Afghanistan  0.2245   1934.555054    36686788\n",
       "1        Albania  1.6422  11104.166020     2877019\n",
       "2        Algeria  3.8241  14228.025390    41927008\n",
       "3         Angola  0.7912   7771.441895    31273538\n",
       "4      Argentina  4.0824  18556.382810    44413592\n",
       "..           ...     ...           ...         ...\n",
       "159    Venezuela  4.1602  10709.950200    29825652\n",
       "160      Vietnam  2.3415   6814.142090    94914328\n",
       "161        Yemen  0.3503   2284.889893    30790514\n",
       "162       Zambia  0.4215   3534.033691    17835898\n",
       "163     Zimbabwe  0.8210   1611.405151    15052191\n",
       "\n",
       "[164 rows x 4 columns]"
      ]
     },
     "metadata": {},
     "output_type": "display_data"
    }
   ],
   "source": [
    "CO2vGDP = pandas.read_csv('https://raw.githubusercontent.com/jillxoreilly/StatsCourseBook/main/data/CO2vGDP.csv')\n",
    "display(CO2vGDP)"
   ]
  },
  {
   "cell_type": "markdown",
   "id": "d3cce993",
   "metadata": {},
   "source": [
    "<b>Aside</b> - \n",
    "I notice that the GDP values contain loads of decimal places which makes them hard to read. \n",
    "Let's just round those:"
   ]
  },
  {
   "cell_type": "code",
   "execution_count": 3,
   "id": "732fb048",
   "metadata": {},
   "outputs": [
    {
     "data": {
      "text/html": [
       "<div>\n",
       "<style scoped>\n",
       "    .dataframe tbody tr th:only-of-type {\n",
       "        vertical-align: middle;\n",
       "    }\n",
       "\n",
       "    .dataframe tbody tr th {\n",
       "        vertical-align: top;\n",
       "    }\n",
       "\n",
       "    .dataframe thead th {\n",
       "        text-align: right;\n",
       "    }\n",
       "</style>\n",
       "<table border=\"1\" class=\"dataframe\">\n",
       "  <thead>\n",
       "    <tr style=\"text-align: right;\">\n",
       "      <th></th>\n",
       "      <th>Country</th>\n",
       "      <th>CO2</th>\n",
       "      <th>GDP</th>\n",
       "      <th>population</th>\n",
       "    </tr>\n",
       "  </thead>\n",
       "  <tbody>\n",
       "    <tr>\n",
       "      <th>0</th>\n",
       "      <td>Afghanistan</td>\n",
       "      <td>0.2245</td>\n",
       "      <td>1935.0</td>\n",
       "      <td>36686788</td>\n",
       "    </tr>\n",
       "    <tr>\n",
       "      <th>1</th>\n",
       "      <td>Albania</td>\n",
       "      <td>1.6422</td>\n",
       "      <td>11104.0</td>\n",
       "      <td>2877019</td>\n",
       "    </tr>\n",
       "    <tr>\n",
       "      <th>2</th>\n",
       "      <td>Algeria</td>\n",
       "      <td>3.8241</td>\n",
       "      <td>14228.0</td>\n",
       "      <td>41927008</td>\n",
       "    </tr>\n",
       "    <tr>\n",
       "      <th>3</th>\n",
       "      <td>Angola</td>\n",
       "      <td>0.7912</td>\n",
       "      <td>7771.0</td>\n",
       "      <td>31273538</td>\n",
       "    </tr>\n",
       "    <tr>\n",
       "      <th>4</th>\n",
       "      <td>Argentina</td>\n",
       "      <td>4.0824</td>\n",
       "      <td>18556.0</td>\n",
       "      <td>44413592</td>\n",
       "    </tr>\n",
       "    <tr>\n",
       "      <th>...</th>\n",
       "      <td>...</td>\n",
       "      <td>...</td>\n",
       "      <td>...</td>\n",
       "      <td>...</td>\n",
       "    </tr>\n",
       "    <tr>\n",
       "      <th>159</th>\n",
       "      <td>Venezuela</td>\n",
       "      <td>4.1602</td>\n",
       "      <td>10710.0</td>\n",
       "      <td>29825652</td>\n",
       "    </tr>\n",
       "    <tr>\n",
       "      <th>160</th>\n",
       "      <td>Vietnam</td>\n",
       "      <td>2.3415</td>\n",
       "      <td>6814.0</td>\n",
       "      <td>94914328</td>\n",
       "    </tr>\n",
       "    <tr>\n",
       "      <th>161</th>\n",
       "      <td>Yemen</td>\n",
       "      <td>0.3503</td>\n",
       "      <td>2285.0</td>\n",
       "      <td>30790514</td>\n",
       "    </tr>\n",
       "    <tr>\n",
       "      <th>162</th>\n",
       "      <td>Zambia</td>\n",
       "      <td>0.4215</td>\n",
       "      <td>3534.0</td>\n",
       "      <td>17835898</td>\n",
       "    </tr>\n",
       "    <tr>\n",
       "      <th>163</th>\n",
       "      <td>Zimbabwe</td>\n",
       "      <td>0.8210</td>\n",
       "      <td>1611.0</td>\n",
       "      <td>15052191</td>\n",
       "    </tr>\n",
       "  </tbody>\n",
       "</table>\n",
       "<p>164 rows × 4 columns</p>\n",
       "</div>"
      ],
      "text/plain": [
       "         Country     CO2      GDP  population\n",
       "0    Afghanistan  0.2245   1935.0    36686788\n",
       "1        Albania  1.6422  11104.0     2877019\n",
       "2        Algeria  3.8241  14228.0    41927008\n",
       "3         Angola  0.7912   7771.0    31273538\n",
       "4      Argentina  4.0824  18556.0    44413592\n",
       "..           ...     ...      ...         ...\n",
       "159    Venezuela  4.1602  10710.0    29825652\n",
       "160      Vietnam  2.3415   6814.0    94914328\n",
       "161        Yemen  0.3503   2285.0    30790514\n",
       "162       Zambia  0.4215   3534.0    17835898\n",
       "163     Zimbabwe  0.8210   1611.0    15052191\n",
       "\n",
       "[164 rows x 4 columns]"
      ]
     },
     "metadata": {},
     "output_type": "display_data"
    }
   ],
   "source": [
    "CO2vGDP['GDP']=CO2vGDP['GDP'].round()\n",
    "display(CO2vGDP)"
   ]
  },
  {
   "cell_type": "markdown",
   "id": "2abcbb1a",
   "metadata": {},
   "source": [
    "It is easier to comapre the values now as the larger GDPs actually take up more space!"
   ]
  },
  {
   "cell_type": "markdown",
   "id": "abc7e702",
   "metadata": {},
   "source": [
    "### Plot the data\n",
    "\n",
    "Let's plot the data. A scatterplot is a good choice for bivariate data such as these."
   ]
  },
  {
   "cell_type": "code",
   "execution_count": 4,
   "id": "65493236",
   "metadata": {
    "scrolled": false
   },
   "outputs": [
    {
     "data": {
      "text/plain": [
       "Text(0, 0.5, 'CO2 emissions: tonnes/person/year')"
      ]
     },
     "execution_count": 4,
     "metadata": {},
     "output_type": "execute_result"
    },
    {
     "data": {
      "image/png": "[encoded data removed]",
      "text/plain": [
       "<Figure size 640x480 with 1 Axes>"
      ]
     },
     "metadata": {
      "filenames": {
       "image/png": "/Users/joreilly/Desktop/JupyterNotebooks/StatsCourseBook/StatsCourseBook_2024/_build/jupyter_execute/CorrCov_ClimateExample_9_1.png"
      }
     },
     "output_type": "display_data"
    }
   ],
   "source": [
    "sns.scatterplot(data=CO2vGDP, x='GDP', y='CO2')\n",
    "plt.xlabel('GDP: $/person/year')\n",
    "plt.ylabel('CO2 emissions: tonnes/person/year')"
   ]
  },
  {
   "cell_type": "markdown",
   "id": "a44ab138",
   "metadata": {},
   "source": [
    "Let's find the UK on that graph:"
   ]
  },
  {
   "cell_type": "code",
   "execution_count": 5,
   "id": "da409274",
   "metadata": {
    "scrolled": false
   },
   "outputs": [
    {
     "data": {
      "text/plain": [
       "Text(0, 0.5, 'CO2 emissions: tonnes/person/year')"
      ]
     },
     "execution_count": 5,
     "metadata": {},
     "output_type": "execute_result"
    },
    {
     "data": {
      "image/png": "[encoded data removed]",
      "text/plain": [
       "<Figure size 640x480 with 1 Axes>"
      ]
     },
     "metadata": {
      "filenames": {
       "image/png": "/Users/joreilly/Desktop/JupyterNotebooks/StatsCourseBook/StatsCourseBook_2024/_build/jupyter_execute/CorrCov_ClimateExample_11_1.png"
      }
     },
     "output_type": "display_data"
    }
   ],
   "source": [
    "sns.scatterplot(data=CO2vGDP, x='GDP', y='CO2')\n",
    "sns.scatterplot(data=CO2vGDP[CO2vGDP['Country']=='United Kingdom'], x='GDP', y='CO2',color='r') # see what I did there to plot the UK in red?\n",
    "plt.xlabel('GDP: $/person/year')\n",
    "plt.ylabel('CO2 emissions: tonnes/person/year')"
   ]
  },
  {
   "cell_type": "markdown",
   "id": "ac0bb52f",
   "metadata": {},
   "source": [
    "### Calculate the correlation\n",
    "\n",
    "We can calculate the correlation using the built in function <tt>pandas.df.corr()</tt>"
   ]
  },
  {
   "cell_type": "code",
   "execution_count": 6,
   "id": "7da276fe",
   "metadata": {},
   "outputs": [
    {
     "data": {
      "text/html": [
       "<div>\n",
       "<style scoped>\n",
       "    .dataframe tbody tr th:only-of-type {\n",
       "        vertical-align: middle;\n",
       "    }\n",
       "\n",
       "    .dataframe tbody tr th {\n",
       "        vertical-align: top;\n",
       "    }\n",
       "\n",
       "    .dataframe thead th {\n",
       "        text-align: right;\n",
       "    }\n",
       "</style>\n",
       "<table border=\"1\" class=\"dataframe\">\n",
       "  <thead>\n",
       "    <tr style=\"text-align: right;\">\n",
       "      <th></th>\n",
       "      <th>CO2</th>\n",
       "      <th>GDP</th>\n",
       "      <th>population</th>\n",
       "    </tr>\n",
       "  </thead>\n",
       "  <tbody>\n",
       "    <tr>\n",
       "      <th>CO2</th>\n",
       "      <td>1.000000</td>\n",
       "      <td>0.795215</td>\n",
       "      <td>-0.003745</td>\n",
       "    </tr>\n",
       "    <tr>\n",
       "      <th>GDP</th>\n",
       "      <td>0.795215</td>\n",
       "      <td>1.000000</td>\n",
       "      <td>-0.054502</td>\n",
       "    </tr>\n",
       "    <tr>\n",
       "      <th>population</th>\n",
       "      <td>-0.003745</td>\n",
       "      <td>-0.054502</td>\n",
       "      <td>1.000000</td>\n",
       "    </tr>\n",
       "  </tbody>\n",
       "</table>\n",
       "</div>"
      ],
      "text/plain": [
       "                 CO2       GDP  population\n",
       "CO2         1.000000  0.795215   -0.003745\n",
       "GDP         0.795215  1.000000   -0.054502\n",
       "population -0.003745 -0.054502    1.000000"
      ]
     },
     "execution_count": 6,
     "metadata": {},
     "output_type": "execute_result"
    }
   ],
   "source": [
    "CO2vGDP.corr()"
   ]
  },
  {
   "cell_type": "markdown",
   "id": "b528b58b",
   "metadata": {},
   "source": [
    "Humph, population was included in my correlation matrix, which I didn't really want. \n",
    "\n",
    "The function <tt>pandas.df.corr()</tt> returns the matrix of correlations between all pairs of variables in your dataframe. \n",
    "\n",
    "This isn't a big problem in the current case, but if you had a big dataframe with many irrelevant columns, it would be an issue, because we don't want the reader to have to search through a huge correlation matrix to find the correlation we are interested in.\n",
    "\n",
    "We have two options to avoid this - one is to create a new dataframe with only the columns you want to correlate, like this:"
   ]
  },
  {
   "cell_type": "code",
   "execution_count": 7,
   "id": "b4e3fbea",
   "metadata": {},
   "outputs": [
    {
     "data": {
      "text/html": [
       "<div>\n",
       "<style scoped>\n",
       "    .dataframe tbody tr th:only-of-type {\n",
       "        vertical-align: middle;\n",
       "    }\n",
       "\n",
       "    .dataframe tbody tr th {\n",
       "        vertical-align: top;\n",
       "    }\n",
       "\n",
       "    .dataframe thead th {\n",
       "        text-align: right;\n",
       "    }\n",
       "</style>\n",
       "<table border=\"1\" class=\"dataframe\">\n",
       "  <thead>\n",
       "    <tr style=\"text-align: right;\">\n",
       "      <th></th>\n",
       "      <th>CO2</th>\n",
       "      <th>GDP</th>\n",
       "    </tr>\n",
       "  </thead>\n",
       "  <tbody>\n",
       "    <tr>\n",
       "      <th>CO2</th>\n",
       "      <td>1.000000</td>\n",
       "      <td>0.795215</td>\n",
       "    </tr>\n",
       "    <tr>\n",
       "      <th>GDP</th>\n",
       "      <td>0.795215</td>\n",
       "      <td>1.000000</td>\n",
       "    </tr>\n",
       "  </tbody>\n",
       "</table>\n",
       "</div>"
      ],
      "text/plain": [
       "          CO2       GDP\n",
       "CO2  1.000000  0.795215\n",
       "GDP  0.795215  1.000000"
      ]
     },
     "execution_count": 7,
     "metadata": {},
     "output_type": "execute_result"
    }
   ],
   "source": [
    "CO2vGDP_reduced = CO2vGDP[['CO2','GDP']] # new dataframe has only columns 'CO2' and 'GDP'\n",
    "CO2vGDP_reduced.corr()"
   ]
  },
  {
   "cell_type": "markdown",
   "id": "c14907a2",
   "metadata": {},
   "source": [
    "The other is to correlate just the two columns we want, rather than getting the whole correlation matrix:"
   ]
  },
  {
   "cell_type": "code",
   "execution_count": 8,
   "id": "4e998580",
   "metadata": {},
   "outputs": [
    {
     "data": {
      "text/plain": [
       "0.7952149355025787"
      ]
     },
     "execution_count": 8,
     "metadata": {},
     "output_type": "execute_result"
    }
   ],
   "source": [
    "CO2vGDP['CO2'].corr(CO2vGDP['GDP'])"
   ]
  },
  {
   "cell_type": "markdown",
   "id": "3203dcc3",
   "metadata": {},
   "source": [
    "### Outliers\n",
    "\n",
    "The correlation between GDP and C02 looks quite high, 0.79.\n",
    "\n",
    "However, looking at our scatterplot, I can see a problem - there is one bad outlier with very high GDP and high CO2 emissions.\n",
    "\n",
    "Any guesses what this country is? \n",
    "\n",
    "We can find out by sorting the dataframe by GDP:"
   ]
  },
  {
   "cell_type": "code",
   "execution_count": 9,
   "id": "17f150d6",
   "metadata": {},
   "outputs": [
    {
     "data": {
      "text/html": [
       "<div>\n",
       "<style scoped>\n",
       "    .dataframe tbody tr th:only-of-type {\n",
       "        vertical-align: middle;\n",
       "    }\n",
       "\n",
       "    .dataframe tbody tr th {\n",
       "        vertical-align: top;\n",
       "    }\n",
       "\n",
       "    .dataframe thead th {\n",
       "        text-align: right;\n",
       "    }\n",
       "</style>\n",
       "<table border=\"1\" class=\"dataframe\">\n",
       "  <thead>\n",
       "    <tr style=\"text-align: right;\">\n",
       "      <th></th>\n",
       "      <th>Country</th>\n",
       "      <th>CO2</th>\n",
       "      <th>GDP</th>\n",
       "      <th>population</th>\n",
       "    </tr>\n",
       "  </thead>\n",
       "  <tbody>\n",
       "    <tr>\n",
       "      <th>122</th>\n",
       "      <td>Qatar</td>\n",
       "      <td>38.4397</td>\n",
       "      <td>153764.0</td>\n",
       "      <td>2766743</td>\n",
       "    </tr>\n",
       "    <tr>\n",
       "      <th>112</th>\n",
       "      <td>Norway</td>\n",
       "      <td>8.3307</td>\n",
       "      <td>84580.0</td>\n",
       "      <td>5312321</td>\n",
       "    </tr>\n",
       "    <tr>\n",
       "      <th>154</th>\n",
       "      <td>United Arab Emirates</td>\n",
       "      <td>16.0112</td>\n",
       "      <td>76398.0</td>\n",
       "      <td>9140172</td>\n",
       "    </tr>\n",
       "    <tr>\n",
       "      <th>133</th>\n",
       "      <td>Singapore</td>\n",
       "      <td>7.9898</td>\n",
       "      <td>68402.0</td>\n",
       "      <td>5814543</td>\n",
       "    </tr>\n",
       "    <tr>\n",
       "      <th>79</th>\n",
       "      <td>Kuwait</td>\n",
       "      <td>23.1008</td>\n",
       "      <td>65521.0</td>\n",
       "      <td>4317190</td>\n",
       "    </tr>\n",
       "    <tr>\n",
       "      <th>...</th>\n",
       "      <td>...</td>\n",
       "      <td>...</td>\n",
       "      <td>...</td>\n",
       "      <td>...</td>\n",
       "    </tr>\n",
       "    <tr>\n",
       "      <th>108</th>\n",
       "      <td>Niger</td>\n",
       "      <td>0.0830</td>\n",
       "      <td>965.0</td>\n",
       "      <td>22577060</td>\n",
       "    </tr>\n",
       "    <tr>\n",
       "      <th>39</th>\n",
       "      <td>Democratic Republic of Congo</td>\n",
       "      <td>0.0331</td>\n",
       "      <td>859.0</td>\n",
       "      <td>87087352</td>\n",
       "    </tr>\n",
       "    <tr>\n",
       "      <th>85</th>\n",
       "      <td>Liberia</td>\n",
       "      <td>0.2252</td>\n",
       "      <td>818.0</td>\n",
       "      <td>4889396</td>\n",
       "    </tr>\n",
       "    <tr>\n",
       "      <th>21</th>\n",
       "      <td>Burundi</td>\n",
       "      <td>0.0608</td>\n",
       "      <td>651.0</td>\n",
       "      <td>11493476</td>\n",
       "    </tr>\n",
       "    <tr>\n",
       "      <th>26</th>\n",
       "      <td>Central African Republic</td>\n",
       "      <td>0.0471</td>\n",
       "      <td>623.0</td>\n",
       "      <td>5094795</td>\n",
       "    </tr>\n",
       "  </tbody>\n",
       "</table>\n",
       "<p>164 rows × 4 columns</p>\n",
       "</div>"
      ],
      "text/plain": [
       "                          Country      CO2       GDP  population\n",
       "122                         Qatar  38.4397  153764.0     2766743\n",
       "112                        Norway   8.3307   84580.0     5312321\n",
       "154          United Arab Emirates  16.0112   76398.0     9140172\n",
       "133                     Singapore   7.9898   68402.0     5814543\n",
       "79                         Kuwait  23.1008   65521.0     4317190\n",
       "..                            ...      ...       ...         ...\n",
       "108                         Niger   0.0830     965.0    22577060\n",
       "39   Democratic Republic of Congo   0.0331     859.0    87087352\n",
       "85                        Liberia   0.2252     818.0     4889396\n",
       "21                        Burundi   0.0608     651.0    11493476\n",
       "26       Central African Republic   0.0471     623.0     5094795\n",
       "\n",
       "[164 rows x 4 columns]"
      ]
     },
     "execution_count": 9,
     "metadata": {},
     "output_type": "execute_result"
    }
   ],
   "source": [
    "CO2vGDP.sort_values(by='GDP', ascending=False) # sort in descending order to put the richest country at the top"
   ]
  },
  {
   "cell_type": "markdown",
   "id": "8cdcd6bf",
   "metadata": {},
   "source": [
    "It's Qatar - maybe not what you expected?"
   ]
  },
  {
   "cell_type": "markdown",
   "id": "8038acab",
   "metadata": {},
   "source": [
    "### Remove outlier\n",
    "\n",
    "Let's exclude Qatar from our dataset and re-calculate the correlation.\n",
    "\n",
    "We erase the values for Qatar data values for CO2 and GDP for Qatar to <tt>Nan</tt> but in this case, since they are not misrecorded but just unusual values, let's not do that, as we don't want to hide the data point.\n",
    "\n",
    "Instead we conduct the correlation on the dataframe excluding Qatar:"
   ]
  },
  {
   "cell_type": "code",
   "execution_count": 10,
   "id": "951a05b8",
   "metadata": {},
   "outputs": [
    {
     "data": {
      "text/html": [
       "<div>\n",
       "<style scoped>\n",
       "    .dataframe tbody tr th:only-of-type {\n",
       "        vertical-align: middle;\n",
       "    }\n",
       "\n",
       "    .dataframe tbody tr th {\n",
       "        vertical-align: top;\n",
       "    }\n",
       "\n",
       "    .dataframe thead th {\n",
       "        text-align: right;\n",
       "    }\n",
       "</style>\n",
       "<table border=\"1\" class=\"dataframe\">\n",
       "  <thead>\n",
       "    <tr style=\"text-align: right;\">\n",
       "      <th></th>\n",
       "      <th>CO2</th>\n",
       "      <th>GDP</th>\n",
       "      <th>population</th>\n",
       "    </tr>\n",
       "  </thead>\n",
       "  <tbody>\n",
       "    <tr>\n",
       "      <th>CO2</th>\n",
       "      <td>1.000000</td>\n",
       "      <td>0.732445</td>\n",
       "      <td>0.007057</td>\n",
       "    </tr>\n",
       "    <tr>\n",
       "      <th>GDP</th>\n",
       "      <td>0.732445</td>\n",
       "      <td>1.000000</td>\n",
       "      <td>-0.050659</td>\n",
       "    </tr>\n",
       "    <tr>\n",
       "      <th>population</th>\n",
       "      <td>0.007057</td>\n",
       "      <td>-0.050659</td>\n",
       "      <td>1.000000</td>\n",
       "    </tr>\n",
       "  </tbody>\n",
       "</table>\n",
       "</div>"
      ],
      "text/plain": [
       "                 CO2       GDP  population\n",
       "CO2         1.000000  0.732445    0.007057\n",
       "GDP         0.732445  1.000000   -0.050659\n",
       "population  0.007057 -0.050659    1.000000"
      ]
     },
     "execution_count": 10,
     "metadata": {},
     "output_type": "execute_result"
    }
   ],
   "source": [
    "CO2vGDP[CO2vGDP['Country']!='Qatar'].corr()"
   ]
  },
  {
   "cell_type": "markdown",
   "id": "20ff0ed2",
   "metadata": {},
   "source": [
    "Hm, the correlation went down from $r$=0.79 to $r$=0.073 - lower but still strong\n",
    "\n",
    "Here's a plot of the data with Qatar excluded"
   ]
  },
  {
   "cell_type": "code",
   "execution_count": 11,
   "id": "9dc42324",
   "metadata": {},
   "outputs": [
    {
     "data": {
      "text/plain": [
       "Text(0, 0.5, 'CO2 emissions: tonnes/person/year')"
      ]
     },
     "execution_count": 11,
     "metadata": {},
     "output_type": "execute_result"
    },
    {
     "data": {
      "image/png": "[encoded data removed]",
      "text/plain": [
       "<Figure size 640x480 with 1 Axes>"
      ]
     },
     "metadata": {
      "filenames": {
       "image/png": "/Users/joreilly/Desktop/JupyterNotebooks/StatsCourseBook/StatsCourseBook_2024/_build/jupyter_execute/CorrCov_ClimateExample_24_1.png"
      }
     },
     "output_type": "display_data"
    }
   ],
   "source": [
    "sns.scatterplot(data=CO2vGDP[CO2vGDP['Country']!='Qatar'], x='GDP', y='CO2')\n",
    "plt.xlabel('GDP: $/person/year')\n",
    "plt.ylabel('CO2 emissions: tonnes/person/year')"
   ]
  },
  {
   "cell_type": "markdown",
   "id": "36a341c1",
   "metadata": {},
   "source": [
    "We no longer have an obvious outlier, but we do have a problem, called heteroscedasticity\n",
    "\n",
    "Heteroscedasticty is when the variance of the data in $y$ depends on the value in $x$. In this case, CO2 emissions are more variable for high income countries (which can be high- or low poluting) compared to low income countries\n",
    "\n",
    "This property violates the assumptions of Pearson's correlation coefficient, so for these dataset we would be better off using Spearman's rank correlation coefficient, as explored in the next section."
   ]
  },
  {
   "cell_type": "code",
   "execution_count": null,
   "id": "2ffff910",
   "metadata": {},
   "outputs": [],
   "source": []
  }
 ],
 "metadata": {
  "kernelspec": {
   "display_name": "Python 3 (ipykernel)",
   "language": "python",
   "name": "python3"
  },
  "language_info": {
   "codemirror_mode": {
    "name": "ipython",
    "version": 3
   },
   "file_extension": ".py",
   "mimetype": "text/x-python",
   "name": "python",
   "nbconvert_exporter": "python",
   "pygments_lexer": "ipython3",
   "version": "3.9.13"
  }
 },
 "nbformat": 4,
 "nbformat_minor": 5
}