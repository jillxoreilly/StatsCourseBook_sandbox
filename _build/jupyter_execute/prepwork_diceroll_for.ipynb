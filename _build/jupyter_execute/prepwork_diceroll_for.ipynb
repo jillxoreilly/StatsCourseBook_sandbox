{
 "cells": [
  {
   "cell_type": "markdown",
   "id": "abe14ee5",
   "metadata": {},
   "source": [
    "# Rolling a virtual dice I\n",
    "\n",
    "<img src=\"https://raw.githubusercontent.com/jillxoreilly/StatsCourseBook/main/images/dice.jpg\" width=15% alt=\"(display image of dice)\" >\n",
    "\n"
   ]
  },
  {
   "cell_type": "markdown",
   "id": "554bd33b",
   "metadata": {},
   "source": [
    "### Set up Python libraries\n",
    "\n",
    "As usual, run the code cell below to import the relevant Python libraries"
   ]
  },
  {
   "cell_type": "code",
   "execution_count": 1,
   "id": "6e215164",
   "metadata": {},
   "outputs": [],
   "source": [
    "# Set-up Python libraries - you need to run this but you don't need to change it\n",
    "import numpy as np\n",
    "import matplotlib.pyplot as plt\n",
    "import scipy.stats as stats\n",
    "import pandas \n",
    "import seaborn as sns\n",
    "sns.set_theme()"
   ]
  },
  {
   "cell_type": "markdown",
   "id": "cfbfa74c",
   "metadata": {},
   "source": [
    "## Simulated dice roll\n",
    "\n",
    "We are going to get the computer to roll a 'virtual' dice. We call this a data simulation. \n",
    "\n",
    "Data simulations are useful for getting a sense of how likely different outcomes are. \n",
    "\n",
    "Of course, in the sense of a simple dice roll you can work out the probability of different outcomes using an equation, but many data generating processes (that is - systems that generate data) are sufficiently complex that a computer based simulation is necessary.\n",
    "\n",
    "For example weather forecasts, predictions of disease spread and economic forecasts all use data simulations.\n",
    "\n",
    "\n",
    "Let's start simple...\n",
    "\n",
    "## Simulation of a single dice roll\n",
    "\n",
    "Of course, the computer does not really roll the dice. \n",
    "\n",
    "It does something mathematically equivalent, that is generate a random integer (whole number) between 1 and 6."
   ]
  },
  {
   "cell_type": "code",
   "execution_count": 2,
   "id": "6af10ca3",
   "metadata": {},
   "outputs": [
    {
     "data": {
      "text/plain": [
       "6"
      ]
     },
     "execution_count": 2,
     "metadata": {},
     "output_type": "execute_result"
    }
   ],
   "source": [
    "np.random.randint(1,7)"
   ]
  },
  {
   "cell_type": "markdown",
   "id": "12440ddc",
   "metadata": {},
   "source": [
    "What happened there?\n",
    "\n",
    "We used numpy's random number generator (<tt>numpy.random</tt>), which can generate all sorts of random numbers. \n",
    "\n",
    "In this case we told it to give us an integer in the range [1,7) \n",
    "\n",
    "The syntax here is a little surprising: <tt>randint(1,7)</tt> means \"greater than or including 1\" and \"less than but NOT including 7\". In other words <tt>randint(1,7)</tt>  returns 1,2,3,4,5 or 6 (but NOT 7)\n",
    "<br>\n",
    "<br>\n",
    "\n",
    "\n",
    "<div style = \"    padding-top: 10px;\n",
    "    padding-bottom: 10px;\n",
    "    padding-left: 10px;\n",
    "    padding-right: 10px;\n",
    "    box-shadow: 0px 8px 16px 0px rgba(0,0,0,0.2);\n",
    "    vertical-align: middle;\">\n",
    "    \n",
    "This may seem a little unusual - you might have expected to see <tt>randint(1,6)</tt> instead.\n",
    "    \n",
    "In Python when we specify ranges they always include the lower bound but not the upper bound. \n",
    "    \n",
    "A real world example would be if a sign at a ticket booth said \"junior ticket (children over 1 and under 7) £3\" - \n",
    "    <ul>\n",
    "    <li>a child on their first birthday needs the junior ticket\n",
    "    <li>a child of 6 years 364 days can buy the junior ticket \n",
    "    <li>a child on their 7th birthday cannot buy the junior ticket, \n",
    "    </ul>\n",
    "The range of ages for the £3 junior ticket is [1,7)\n",
    "\n",
    "</div>\n",
    "\n",
    "<br>\n",
    "Try running the code block several times - you should get a different number on your 'dice' each time\n",
    "\n",
    "\n",
    "Now we can ask <tt>numpy.random </tt> to give us lots of random integers (simulated dice rolls) as follows:\n",
    "    \n"
   ]
  },
  {
   "cell_type": "code",
   "execution_count": 3,
   "id": "148f021e",
   "metadata": {},
   "outputs": [
    {
     "data": {
      "text/plain": [
       "array([4, 6, 2, 3, 5, 2, 5, 4, 3, 2])"
      ]
     },
     "execution_count": 3,
     "metadata": {},
     "output_type": "execute_result"
    }
   ],
   "source": [
    "np.random.randint(1,7,10)"
   ]
  },
  {
   "cell_type": "markdown",
   "id": "225d159f",
   "metadata": {},
   "source": [
    "Now we got a numpy array with 10 random numbers in it.\n",
    "\n",
    "<ul>\n",
    "<li> Can you work out how to change the code to get 12 \"dice rolls\"?\n",
    "<li> Can you change the code to simulate rolling a 16-sided dice?\n",
    "</ul>\n",
    "\n",
    "<img src=\"images/polyhedral_dice.jpg\" width=30% alt=\"(display image of dice)\" >"
   ]
  },
  {
   "cell_type": "markdown",
   "id": "aab66cdb",
   "metadata": {},
   "source": [
    "## Simulation of rolling two dice\n",
    "\n",
    "In some games, players roll two dice and add the scores on both dice together.\n",
    "\n",
    "Let's simulate rolling two dice and adding the scores together:\n"
   ]
  },
  {
   "cell_type": "code",
   "execution_count": 4,
   "id": "7850b1a3",
   "metadata": {},
   "outputs": [
    {
     "name": "stdout",
     "output_type": "stream",
     "text": [
      "8\n"
     ]
    }
   ],
   "source": [
    "d1 = np.random.randint(1,7)\n",
    "d2 = np.random.randint(1,7)\n",
    "\n",
    "dSum = d1+d2\n",
    "\n",
    "print(dSum)"
   ]
  },
  {
   "cell_type": "markdown",
   "id": "b5c08871",
   "metadata": {},
   "source": [
    "What happened there? \n",
    "\n",
    "We simulated a dice roll by getting a random integer between 1 and 6 as before, but then we saved the outcome to a variable called d1 (short for \"dice 1\")\n",
    "Then we did the same thin again and saved the result to a variable called d2 (short for \"dice 2\")\n",
    "\n",
    "Then we added d1 and d2 together"
   ]
  },
  {
   "cell_type": "markdown",
   "id": "7e7c1068",
   "metadata": {},
   "source": [
    "You may have come across the idea that with two dice, some scores are more frequent than others as there are more ways of making them from the scores on the individual dice. There is only one way of getting a 12, but six ways of getting a 7:\n",
    "\n",
    "<img src=\"images/dice2x2.jpg\" width=30% alt=\"(display image of dice)\" >\n",
    "\n",
    "Let's simulate rolling two dice lots of times using a <tt>for</tt> loop and plot the frequency of different overall scores:"
   ]
  },
  {
   "cell_type": "code",
   "execution_count": 5,
   "id": "fa24ffe6",
   "metadata": {},
   "outputs": [
    {
     "name": "stdout",
     "output_type": "stream",
     "text": [
      "scores on individual trials: [ 5. 10.  9.  8.  6.  9.  4.  5.  9.  8.  5.  4.  8.  8.  2.  6.  4.  7.\n",
      "  7.  7.]\n",
      "possible scores: [ 2.  4.  5.  6.  7.  8.  9. 10.]\n",
      "frequency: [1 3 3 2 3 4 3 1]\n"
     ]
    }
   ],
   "source": [
    "dSum = np.empty(20)\n",
    "\n",
    "for i in range(20):\n",
    "    d1 = np.random.randint(1,7)\n",
    "    d2 = np.random.randint(1,7)\n",
    "    \n",
    "    dSum[i] = d1+d2\n",
    "\n",
    "# count up how many of each individual score there are\n",
    "scores, counts = np.unique(dSum, return_counts=True)\n",
    "\n",
    "print('scores on individual trials: ' + str(dSum))\n",
    "print('possible scores: ' + str(scores))\n",
    "print('frequency: ' + str(counts))"
   ]
  },
  {
   "cell_type": "markdown",
   "id": "6e19358a",
   "metadata": {},
   "source": [
    "OK, now let's simulate a really large number of trials and plot the frequency of getting each score on a bar plot"
   ]
  },
  {
   "cell_type": "code",
   "execution_count": 6,
   "id": "35349194",
   "metadata": {},
   "outputs": [
    {
     "data": {
      "image/png": "[encoded data removed]",
      "text/plain": [
       "<Figure size 640x480 with 1 Axes>"
      ]
     },
     "metadata": {
      "filenames": {
       "image/png": "/Users/joreilly/Desktop/JupyterNotebooks/StatsCourseBook/StatsCourseBook/_build/jupyter_execute/prepwork_diceroll_for_14_0.png"
      }
     },
     "output_type": "display_data"
    }
   ],
   "source": [
    "dSum = np.empty(60000)\n",
    "\n",
    "for i in range(60000):\n",
    "    d1 = np.random.randint(1,7)\n",
    "    d2 = np.random.randint(1,7)\n",
    "    \n",
    "    dSum[i] = d1+d2\n",
    "\n",
    "# count up how many of each individual score there are\n",
    "scores, counts = np.unique(dSum, return_counts=True)\n",
    "\n",
    "# plot them\n",
    "plt.bar(scores, height=counts)\n",
    "plt.xlabel('score')\n",
    "plt.ylabel('frequency')\n",
    "plt.show()"
   ]
  },
  {
   "cell_type": "markdown",
   "id": "e5219317",
   "metadata": {},
   "source": [
    "## Exercise: rolling 3 or more dice\n",
    "\n",
    "Can you edit the code block to simulate the scores for 3 dice? \n",
    "What about 10 dice?"
   ]
  },
  {
   "cell_type": "code",
   "execution_count": 7,
   "id": "c1af62fd",
   "metadata": {},
   "outputs": [
    {
     "ename": "SyntaxError",
     "evalue": "invalid syntax (1606035672.py, line 6)",
     "output_type": "error",
     "traceback": [
      "\u001b[0;36m  File \u001b[0;32m\"/var/folders/q4/twg1yll54y142rc02m5wwbt40000gr/T/ipykernel_51294/1606035672.py\"\u001b[0;36m, line \u001b[0;32m6\u001b[0m\n\u001b[0;31m    d3 = .....\u001b[0m\n\u001b[0m             ^\u001b[0m\n\u001b[0;31mSyntaxError\u001b[0m\u001b[0;31m:\u001b[0m invalid syntax\n"
     ]
    }
   ],
   "source": [
    "dSum = np.empty(60000)\n",
    "\n",
    "for i in range(60000):\n",
    "    d1 = np.random.randint(1,7)\n",
    "    d2 = np.random.randint(1,7)\n",
    "    d3 = .....\n",
    "    \n",
    "    dSum[i] = d1+d2+ ......\n",
    "\n",
    "# count up how many of each individual score there are\n",
    "scores, counts = np.unique(dSum, return_counts=True)\n",
    "\n",
    "# plot them\n",
    "plt.bar(scores, height=counts)\n",
    "plt.xlabel('score')\n",
    "plt.ylabel('frequency')\n",
    "plt.show()"
   ]
  }
 ],
 "metadata": {
  "kernelspec": {
   "display_name": "Python 3 (ipykernel)",
   "language": "python",
   "name": "python3"
  },
  "language_info": {
   "codemirror_mode": {
    "name": "ipython",
    "version": 3
   },
   "file_extension": ".py",
   "mimetype": "text/x-python",
   "name": "python",
   "nbconvert_exporter": "python",
   "pygments_lexer": "ipython3",
   "version": "3.9.13"
  }
 },
 "nbformat": 4,
 "nbformat_minor": 5
}