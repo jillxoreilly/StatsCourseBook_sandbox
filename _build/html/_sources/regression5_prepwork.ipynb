{
 "cells": [
  {
   "cell_type": "markdown",
   "id": "e5fb7a77",
   "metadata": {},
   "source": [
    "# Logistic Regression in Python\n",
    "\n",
    "<img src=\"https://raw.githubusercontent.com/jillxoreilly/StatsCourseBook/main/images/regression5_darwin.jpg\" width=30% >\n",
    "\n",
    "**Example:** The General Social Survey is a regular survey of the population of the United States that gathers information on people’s opinions since 1972. \n",
    "\n",
    "Here we use data from 2018, when the following question was put the respondents: “Human beings, as we know them today, developed from earlier species of animals. True or false?” \n",
    "\n",
    "In this analysis, $y$ = opinion about evolution (1 = true, 0 = false). \n",
    "\n",
    "We have three $x$ variables for the analysis: \n",
    "\n",
    "* age (measured in years), \n",
    "* political ideology (measured from 1 = extremely conservative to 7 = extremely liberal, which we treat as continuous here), and \n",
    "* whether the participant studied science at college (yes, no). \n",
    "\n",
    "Before we start, have a think about these *x* variables: which direction do you expect the relationship to go? E.g., will older or younger people be more likely to answer “true”?\n",
    "\n",
    "### Set up Python libraries\n",
    "\n",
    "As usual, run the code cell below to import the relevant Python libraries"
   ]
  },
  {
   "cell_type": "code",
   "execution_count": 1,
   "id": "af53334d",
   "metadata": {},
   "outputs": [],
   "source": [
    "# Set-up Python libraries - you need to run this but you don't need to change it\n",
    "import numpy as np\n",
    "import matplotlib.pyplot as plt\n",
    "import scipy.stats as stats\n",
    "import pandas \n",
    "import seaborn as sns\n",
    "import statsmodels.api as sm\n",
    "import statsmodels.formula.api as smf"
   ]
  },
  {
   "cell_type": "markdown",
   "id": "265d0f9b",
   "metadata": {},
   "source": [
    "### Import and view the data"
   ]
  },
  {
   "cell_type": "code",
   "execution_count": 2,
   "id": "f999d6c8",
   "metadata": {},
   "outputs": [
    {
     "data": {
      "text/html": [
       "<div>\n",
       "<style scoped>\n",
       "    .dataframe tbody tr th:only-of-type {\n",
       "        vertical-align: middle;\n",
       "    }\n",
       "\n",
       "    .dataframe tbody tr th {\n",
       "        vertical-align: top;\n",
       "    }\n",
       "\n",
       "    .dataframe thead th {\n",
       "        text-align: right;\n",
       "    }\n",
       "</style>\n",
       "<table border=\"1\" class=\"dataframe\">\n",
       "  <thead>\n",
       "    <tr style=\"text-align: right;\">\n",
       "      <th></th>\n",
       "      <th>age</th>\n",
       "      <th>colsci</th>\n",
       "      <th>evolved</th>\n",
       "      <th>polviews</th>\n",
       "    </tr>\n",
       "  </thead>\n",
       "  <tbody>\n",
       "    <tr>\n",
       "      <th>0</th>\n",
       "      <td>43</td>\n",
       "      <td>no</td>\n",
       "      <td>0</td>\n",
       "      <td>2</td>\n",
       "    </tr>\n",
       "    <tr>\n",
       "      <th>1</th>\n",
       "      <td>42</td>\n",
       "      <td>yes</td>\n",
       "      <td>1</td>\n",
       "      <td>3</td>\n",
       "    </tr>\n",
       "    <tr>\n",
       "      <th>2</th>\n",
       "      <td>30</td>\n",
       "      <td>yes</td>\n",
       "      <td>0</td>\n",
       "      <td>2</td>\n",
       "    </tr>\n",
       "    <tr>\n",
       "      <th>3</th>\n",
       "      <td>34</td>\n",
       "      <td>no</td>\n",
       "      <td>1</td>\n",
       "      <td>2</td>\n",
       "    </tr>\n",
       "    <tr>\n",
       "      <th>4</th>\n",
       "      <td>56</td>\n",
       "      <td>yes</td>\n",
       "      <td>0</td>\n",
       "      <td>2</td>\n",
       "    </tr>\n",
       "    <tr>\n",
       "      <th>...</th>\n",
       "      <td>...</td>\n",
       "      <td>...</td>\n",
       "      <td>...</td>\n",
       "      <td>...</td>\n",
       "    </tr>\n",
       "    <tr>\n",
       "      <th>498</th>\n",
       "      <td>38</td>\n",
       "      <td>no</td>\n",
       "      <td>1</td>\n",
       "      <td>6</td>\n",
       "    </tr>\n",
       "    <tr>\n",
       "      <th>499</th>\n",
       "      <td>57</td>\n",
       "      <td>yes</td>\n",
       "      <td>1</td>\n",
       "      <td>6</td>\n",
       "    </tr>\n",
       "    <tr>\n",
       "      <th>500</th>\n",
       "      <td>39</td>\n",
       "      <td>yes</td>\n",
       "      <td>1</td>\n",
       "      <td>6</td>\n",
       "    </tr>\n",
       "    <tr>\n",
       "      <th>501</th>\n",
       "      <td>75</td>\n",
       "      <td>no</td>\n",
       "      <td>0</td>\n",
       "      <td>3</td>\n",
       "    </tr>\n",
       "    <tr>\n",
       "      <th>502</th>\n",
       "      <td>72</td>\n",
       "      <td>yes</td>\n",
       "      <td>1</td>\n",
       "      <td>2</td>\n",
       "    </tr>\n",
       "  </tbody>\n",
       "</table>\n",
       "<p>503 rows × 4 columns</p>\n",
       "</div>"
      ],
      "text/plain": [
       "     age colsci  evolved  polviews\n",
       "0     43     no        0         2\n",
       "1     42    yes        1         3\n",
       "2     30    yes        0         2\n",
       "3     34     no        1         2\n",
       "4     56    yes        0         2\n",
       "..   ...    ...      ...       ...\n",
       "498   38     no        1         6\n",
       "499   57    yes        1         6\n",
       "500   39    yes        1         6\n",
       "501   75     no        0         3\n",
       "502   72    yes        1         2\n",
       "\n",
       "[503 rows x 4 columns]"
      ]
     },
     "execution_count": 2,
     "metadata": {},
     "output_type": "execute_result"
    }
   ],
   "source": [
    "evolution = pandas.read_csv('data/evolution.csv')\n",
    "evolution"
   ]
  },
  {
   "cell_type": "markdown",
   "id": "48930497",
   "metadata": {},
   "source": [
    "Which column is which variable, from the list above?\n",
    "\n",
    "## Logistic regression\n",
    "\n",
    "We ask Python to run a logistic regression, predicting people's view on evolutions (True or False) based on their age, political views and whether they studied science at college;"
   ]
  },
  {
   "cell_type": "code",
   "execution_count": 14,
   "id": "e692439b",
   "metadata": {},
   "outputs": [
    {
     "name": "stdout",
     "output_type": "stream",
     "text": [
      "Optimization terminated successfully.\n",
      "         Current function value: 0.629955\n",
      "         Iterations 5\n"
     ]
    },
    {
     "data": {
      "text/html": [
       "<table class=\"simpletable\">\n",
       "<caption>Logit Regression Results</caption>\n",
       "<tr>\n",
       "  <th>Dep. Variable:</th>        <td>evolved</td>     <th>  No. Observations:  </th>  <td>   503</td>  \n",
       "</tr>\n",
       "<tr>\n",
       "  <th>Model:</th>                 <td>Logit</td>      <th>  Df Residuals:      </th>  <td>   499</td>  \n",
       "</tr>\n",
       "<tr>\n",
       "  <th>Method:</th>                 <td>MLE</td>       <th>  Df Model:          </th>  <td>     3</td>  \n",
       "</tr>\n",
       "<tr>\n",
       "  <th>Date:</th>            <td>Wed, 29 Mar 2023</td> <th>  Pseudo R-squ.:     </th>  <td>0.08140</td> \n",
       "</tr>\n",
       "<tr>\n",
       "  <th>Time:</th>                <td>20:04:01</td>     <th>  Log-Likelihood:    </th> <td> -316.87</td> \n",
       "</tr>\n",
       "<tr>\n",
       "  <th>converged:</th>             <td>True</td>       <th>  LL-Null:           </th> <td> -344.95</td> \n",
       "</tr>\n",
       "<tr>\n",
       "  <th>Covariance Type:</th>     <td>nonrobust</td>    <th>  LLR p-value:       </th> <td>3.892e-12</td>\n",
       "</tr>\n",
       "</table>\n",
       "<table class=\"simpletable\">\n",
       "<tr>\n",
       "        <td></td>           <th>coef</th>     <th>std err</th>      <th>z</th>      <th>P>|z|</th>  <th>[0.025</th>    <th>0.975]</th>  \n",
       "</tr>\n",
       "<tr>\n",
       "  <th>Intercept</th>     <td>   -0.5169</td> <td>    0.383</td> <td>   -1.351</td> <td> 0.177</td> <td>   -1.267</td> <td>    0.233</td>\n",
       "</tr>\n",
       "<tr>\n",
       "  <th>colsci[T.yes]</th> <td>    0.2923</td> <td>    0.191</td> <td>    1.533</td> <td> 0.125</td> <td>   -0.081</td> <td>    0.666</td>\n",
       "</tr>\n",
       "<tr>\n",
       "  <th>age</th>           <td>   -0.0178</td> <td>    0.005</td> <td>   -3.471</td> <td> 0.001</td> <td>   -0.028</td> <td>   -0.008</td>\n",
       "</tr>\n",
       "<tr>\n",
       "  <th>polviews</th>      <td>    0.3837</td> <td>    0.068</td> <td>    5.670</td> <td> 0.000</td> <td>    0.251</td> <td>    0.516</td>\n",
       "</tr>\n",
       "</table>"
      ],
      "text/plain": [
       "<class 'statsmodels.iolib.summary.Summary'>\n",
       "\"\"\"\n",
       "                           Logit Regression Results                           \n",
       "==============================================================================\n",
       "Dep. Variable:                evolved   No. Observations:                  503\n",
       "Model:                          Logit   Df Residuals:                      499\n",
       "Method:                           MLE   Df Model:                            3\n",
       "Date:                Wed, 29 Mar 2023   Pseudo R-squ.:                 0.08140\n",
       "Time:                        20:04:01   Log-Likelihood:                -316.87\n",
       "converged:                       True   LL-Null:                       -344.95\n",
       "Covariance Type:            nonrobust   LLR p-value:                 3.892e-12\n",
       "=================================================================================\n",
       "                    coef    std err          z      P>|z|      [0.025      0.975]\n",
       "---------------------------------------------------------------------------------\n",
       "Intercept        -0.5169      0.383     -1.351      0.177      -1.267       0.233\n",
       "colsci[T.yes]     0.2923      0.191      1.533      0.125      -0.081       0.666\n",
       "age              -0.0178      0.005     -3.471      0.001      -0.028      -0.008\n",
       "polviews          0.3837      0.068      5.670      0.000       0.251       0.516\n",
       "=================================================================================\n",
       "\"\"\""
      ]
     },
     "execution_count": 14,
     "metadata": {},
     "output_type": "execute_result"
    }
   ],
   "source": [
    "# create the logistic regression model and fit it\n",
    "logistic_model = smf.logit('evolved ~ age + polviews + colsci', data=evolution).fit()\n",
    "\n",
    "# print out the summary table\n",
    "logistic_model.summary()"
   ]
  },
  {
   "cell_type": "markdown",
   "id": "a5e9ce39",
   "metadata": {},
   "source": [
    "The standard model output looks rather like the output table from linear regression. \n",
    "\n",
    "The coefficients in the column “coef” are in log odds. \n",
    "\n",
    "We can interpret these coefficients in the following way: \n",
    "\n",
    "* as people get older they are less likely to agree that humans evolved from earlier species (hence the negative coef)\n",
    "* as people’s political views get more liberal they are more likely to agree (hence the positive coef)\n",
    "* the log odds for studying science at college is also positive; however, it is not statistically significant\n",
    "\n",
    "Because logs odds are rather hard to interpret intuitively (for most of us anyway), we can convert them into odds ratios by exponentiating them, to help with interpretation. \n"
   ]
  },
  {
   "cell_type": "code",
   "execution_count": 15,
   "id": "3186849e",
   "metadata": {},
   "outputs": [
    {
     "data": {
      "text/plain": [
       "Intercept        0.596346\n",
       "colsci[T.yes]    1.339446\n",
       "age              0.982374\n",
       "polviews         1.467663\n",
       "dtype: float64"
      ]
     },
     "execution_count": 15,
     "metadata": {},
     "output_type": "execute_result"
    }
   ],
   "source": [
    "# logistic_model.params contains the beta coefficients for each explanatory variable\n",
    "\n",
    "# use numpy's exp function to exponentiate them:\n",
    "np.exp(logistic_model.params)"
   ]
  },
  {
   "cell_type": "markdown",
   "id": "a32ed917",
   "metadata": {},
   "source": [
    "### Interpreting the odds ratios\n",
    "\n",
    "Remember the practice session with logs above? The same principles apply here. \n",
    "\n",
    "Odds of 1 relate to a 50/50 probability, which we can interpret in a logistic regression model as no effect (i.e., the $x$ variable is not associated with a higher or lower probability of the outcome occurring). \n",
    "\n",
    "Positive log odds become odds ratios with a value greater than 1, and negative log odds become odds ratios with a value below 1. \n",
    "\n",
    "Here, we can interpret the model out as follows: \n",
    "\n",
    "* The odds ratio of 1.47 for political views suggests that for each additional point along the scale from conservative to liberal is associated with a 1.47 times greater likelihood of agreeing that humans evolved from earlier species. \n",
    "\n",
    "The output from python provides confidence intervals too. The 95% confidence intervals for the odds ratio are 1.29 – 1.68. \n",
    "\n",
    "* For age, the odds ratio tells us that for each additional year the odds of answering ‘true’ are 0.02 (or 2%) lower (using 1-0.98 for the effect size). (Here I will not interpret ‘colsci’ as it is not statistically significant. \n",
    "\n",
    "We know this from the p-value but also because the confidence intervals include 1. Note the contrast with the original model with log odds in this regard).\n",
    "\n",
    "### Making a prediction\n",
    "\n",
    "Python will compute a predicted probability for us. \n",
    "\n",
    "Let’s find out the predicted probability of believing in evolution for a 50-year-old with a score of 5 on the conservative scale, who did not study science at college.\n"
   ]
  },
  {
   "cell_type": "code",
   "execution_count": 16,
   "id": "1e12b7de",
   "metadata": {},
   "outputs": [
    {
     "ename": "TypeError",
     "evalue": "list indices must be integers or slices, not tuple",
     "output_type": "error",
     "traceback": [
      "\u001b[0;31m---------------------------------------------------------------------------\u001b[0m",
      "\u001b[0;31mTypeError\u001b[0m                                 Traceback (most recent call last)",
      "\u001b[0;32m/var/folders/q4/twg1yll54y142rc02m5wwbt40000gr/T/ipykernel_69584/163586980.py\u001b[0m in \u001b[0;36m<module>\u001b[0;34m\u001b[0m\n\u001b[0;32m----> 1\u001b[0;31m \u001b[0mdf\u001b[0m \u001b[0;34m=\u001b[0m \u001b[0mdf\u001b[0m\u001b[0;34m[\u001b[0m\u001b[0;34m[\u001b[0m\u001b[0;36m50\u001b[0m\u001b[0;34m]\u001b[0m\u001b[0;34m,\u001b[0m\u001b[0;34m[\u001b[0m\u001b[0;36m5\u001b[0m\u001b[0;34m]\u001b[0m\u001b[0;34m,\u001b[0m\u001b[0;34m[\u001b[0m\u001b[0;36m0\u001b[0m\u001b[0;34m]\u001b[0m\u001b[0;34m]\u001b[0m\u001b[0;34m\u001b[0m\u001b[0;34m\u001b[0m\u001b[0m\n\u001b[0m\u001b[1;32m      2\u001b[0m \u001b[0mdf\u001b[0m\u001b[0;34m\u001b[0m\u001b[0;34m\u001b[0m\u001b[0m\n\u001b[1;32m      3\u001b[0m \u001b[0;31m# Code for calculating predicted probability\u001b[0m\u001b[0;34m\u001b[0m\u001b[0;34m\u001b[0m\u001b[0m\n\u001b[1;32m      4\u001b[0m \u001b[0;31m#logistic_model.predict([[50,5,0]])\u001b[0m\u001b[0;34m\u001b[0m\u001b[0;34m\u001b[0m\u001b[0m\n",
      "\u001b[0;31mTypeError\u001b[0m: list indices must be integers or slices, not tuple"
     ]
    }
   ],
   "source": [
    "df = df[[50],[5],[0]]\n",
    "df\n",
    "# Code for calculating predicted probability\n",
    "#logistic_model.predict([[50,5,0]])\n"
   ]
  },
  {
   "cell_type": "markdown",
   "id": "9b7d2bbf",
   "metadata": {},
   "source": [
    "## Assessing the model\n",
    "\n",
    "Just as we did in linear regression, we can obtain predicted values for the model. \n",
    "\n",
    "The predicted values can help us to understand how well our model did. They take a value between 0 and 1 and can be treated as a predicted probability of each individual answering ‘true’ to the survey question, given the $x$ variables that we have modelled\n"
   ]
  },
  {
   "cell_type": "code",
   "execution_count": 17,
   "id": "fd604a0c",
   "metadata": {},
   "outputs": [
    {
     "data": {
      "text/plain": [
       "0      0.374196\n",
       "1      0.544744\n",
       "2      0.502294\n",
       "3      0.412362\n",
       "4      0.388606\n",
       "         ...   \n",
       "498    0.752007\n",
       "499    0.743402\n",
       "500    0.799603\n",
       "501    0.331893\n",
       "502    0.323507\n",
       "Length: 503, dtype: float64"
      ]
     },
     "execution_count": 17,
     "metadata": {},
     "output_type": "execute_result"
    }
   ],
   "source": [
    "# Get predicted values for each row of the dataframe\n",
    "logistic_model.predict(evolution[['age','polviews','colsci']])"
   ]
  },
  {
   "cell_type": "markdown",
   "id": "bc2c7f90",
   "metadata": {},
   "source": [
    "We can compare how well the model prediction matches the observed data in a classification table which classifies (using Pr(y=1)>0.5 as cut-off) which cases would be predicted as true or false, in a table by whether the observed value was true or false. \n"
   ]
  },
  {
   "cell_type": "code",
   "execution_count": 19,
   "id": "8f011c8d",
   "metadata": {},
   "outputs": [
    {
     "data": {
      "text/plain": [
       "0.6322067594433399"
      ]
     },
     "execution_count": 19,
     "metadata": {},
     "output_type": "execute_result"
    }
   ],
   "source": [
    "# Get predicted values for each row of the dataframe\n",
    "yhat = logistic_model.predict(evolution[['age','polviews','colsci']])\n",
    "\n",
    "# work out proportion correctly classified\n",
    "np.sum(yhat>0.5)/len(yhat)"
   ]
  },
  {
   "cell_type": "code",
   "execution_count": null,
   "id": "040eebd3",
   "metadata": {},
   "outputs": [],
   "source": []
  },
  {
   "cell_type": "markdown",
   "id": "0db1f04b",
   "metadata": {},
   "source": [
    "\n",
    "The classification table shows that for the y=1 cases (n=282), the model predicted 212 correctly, and 70 incorrectly. For the cases reporting ‘false’ (y=0, n = 221), 115 were correctly classified and 106 incorrectly. Overall, 65% of the cases were correctly classified by this model\n",
    "\n",
    "While a linear regression uses the method of Ordinary Least Squares (OLS) to fit the model, logistic regression uses the *Maximum Likelihood Estimation* method. This method uses the values of the model parameters that are most consistent with the observed data, so that with the intercept and slope values estimated in the model, the observed data have a greater chance of occurring than with any other estimated values (See Agresti, Chapter 5). \n",
    "\n",
    "The log-likelihood is based on summing the probabilities of the observed and actual outcomes and tells us how much unexplained information there is after the model has been fitted (thus analogous to residual sum of squares in linear regression). The model log likelihood can be found in the model summary table.\n",
    "\n",
    "Like in linear regression $R^2$, we use a ‘baseline’ model with no $x$ variables (predicting the outcome that occurs most often), and compare the log-likelihood after adding the $x$ variables. The likelihood-ratio test, (in python the LLR $p$-value) produces a $p$-value so that we can tell if our model is statistically significant. Low p-values (below 0.05) tell us that the model with the $x$s is significantly better at predicting the outcome than the baseline model. "
   ]
  },
  {
   "cell_type": "code",
   "execution_count": null,
   "id": "72f2e44e",
   "metadata": {},
   "outputs": [],
   "source": []
  }
 ],
 "metadata": {
  "kernelspec": {
   "display_name": "Python 3 (ipykernel)",
   "language": "python",
   "name": "python3"
  },
  "language_info": {
   "codemirror_mode": {
    "name": "ipython",
    "version": 3
   },
   "file_extension": ".py",
   "mimetype": "text/x-python",
   "name": "python",
   "nbconvert_exporter": "python",
   "pygments_lexer": "ipython3",
   "version": "3.9.13"
  }
 },
 "nbformat": 4,
 "nbformat_minor": 5
}
