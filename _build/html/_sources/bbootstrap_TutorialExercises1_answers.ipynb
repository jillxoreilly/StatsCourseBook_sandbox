{
 "cells": [
  {
   "cell_type": "markdown",
   "id": "47cc40fd",
   "metadata": {},
   "source": [
    "# Tutorial Exercises\n",
    "\n",
    "In these exercises we will create bootstrapped sampling distributions for all sorts of stuff!\n",
    "\n",
    "We will work with a (made up) dataset containing scores on a wellbeing survey before and after the Christmas vaacation for some Oxford University students"
   ]
  },
  {
   "cell_type": "markdown",
   "id": "a2220f99",
   "metadata": {},
   "source": [
    "### Set up Python libraries\n",
    "\n",
    "As usual, run the code cell below to import the relevant Python libraries"
   ]
  },
  {
   "cell_type": "code",
   "execution_count": 114,
   "id": "16e36766",
   "metadata": {},
   "outputs": [],
   "source": [
    "#Set-up Python libraries - you need to run this but you don't need to change it\n",
    "import numpy as np\n",
    "import matplotlib.pyplot as plt\n",
    "import scipy.stats as stats\n",
    "import pandas \n",
    "import seaborn as sns\n",
    "sns.set_theme()"
   ]
  },
  {
   "cell_type": "markdown",
   "id": "52a78088",
   "metadata": {},
   "source": [
    "### Import and view the data"
   ]
  },
  {
   "cell_type": "code",
   "execution_count": 115,
   "id": "882db7ed",
   "metadata": {},
   "outputs": [
    {
     "data": {
      "text/html": [
       "<div>\n",
       "<style scoped>\n",
       "    .dataframe tbody tr th:only-of-type {\n",
       "        vertical-align: middle;\n",
       "    }\n",
       "\n",
       "    .dataframe tbody tr th {\n",
       "        vertical-align: top;\n",
       "    }\n",
       "\n",
       "    .dataframe thead th {\n",
       "        text-align: right;\n",
       "    }\n",
       "</style>\n",
       "<table border=\"1\" class=\"dataframe\">\n",
       "  <thead>\n",
       "    <tr style=\"text-align: right;\">\n",
       "      <th></th>\n",
       "      <th>ID_code</th>\n",
       "      <th>College</th>\n",
       "      <th>Subject</th>\n",
       "      <th>Score_preVac</th>\n",
       "      <th>Score_postVac</th>\n",
       "    </tr>\n",
       "  </thead>\n",
       "  <tbody>\n",
       "    <tr>\n",
       "      <th>0</th>\n",
       "      <td>247610</td>\n",
       "      <td>Lonsdale</td>\n",
       "      <td>PPE</td>\n",
       "      <td>60</td>\n",
       "      <td>35</td>\n",
       "    </tr>\n",
       "    <tr>\n",
       "      <th>1</th>\n",
       "      <td>448590</td>\n",
       "      <td>Lonsdale</td>\n",
       "      <td>PPE</td>\n",
       "      <td>43</td>\n",
       "      <td>44</td>\n",
       "    </tr>\n",
       "    <tr>\n",
       "      <th>2</th>\n",
       "      <td>491100</td>\n",
       "      <td>Lonsdale</td>\n",
       "      <td>engineering</td>\n",
       "      <td>79</td>\n",
       "      <td>69</td>\n",
       "    </tr>\n",
       "    <tr>\n",
       "      <th>3</th>\n",
       "      <td>316150</td>\n",
       "      <td>Lonsdale</td>\n",
       "      <td>PPE</td>\n",
       "      <td>55</td>\n",
       "      <td>61</td>\n",
       "    </tr>\n",
       "    <tr>\n",
       "      <th>4</th>\n",
       "      <td>251870</td>\n",
       "      <td>Lonsdale</td>\n",
       "      <td>engineering</td>\n",
       "      <td>62</td>\n",
       "      <td>65</td>\n",
       "    </tr>\n",
       "    <tr>\n",
       "      <th>...</th>\n",
       "      <td>...</td>\n",
       "      <td>...</td>\n",
       "      <td>...</td>\n",
       "      <td>...</td>\n",
       "      <td>...</td>\n",
       "    </tr>\n",
       "    <tr>\n",
       "      <th>296</th>\n",
       "      <td>440570</td>\n",
       "      <td>Beaufort</td>\n",
       "      <td>history</td>\n",
       "      <td>75</td>\n",
       "      <td>70</td>\n",
       "    </tr>\n",
       "    <tr>\n",
       "      <th>297</th>\n",
       "      <td>826030</td>\n",
       "      <td>Beaufort</td>\n",
       "      <td>maths</td>\n",
       "      <td>52</td>\n",
       "      <td>49</td>\n",
       "    </tr>\n",
       "    <tr>\n",
       "      <th>298</th>\n",
       "      <td>856260</td>\n",
       "      <td>Beaufort</td>\n",
       "      <td>Biology</td>\n",
       "      <td>83</td>\n",
       "      <td>84</td>\n",
       "    </tr>\n",
       "    <tr>\n",
       "      <th>299</th>\n",
       "      <td>947060</td>\n",
       "      <td>Beaufort</td>\n",
       "      <td>engineering</td>\n",
       "      <td>62</td>\n",
       "      <td>65</td>\n",
       "    </tr>\n",
       "    <tr>\n",
       "      <th>300</th>\n",
       "      <td>165780</td>\n",
       "      <td>Beaufort</td>\n",
       "      <td>PPE</td>\n",
       "      <td>48</td>\n",
       "      <td>56</td>\n",
       "    </tr>\n",
       "  </tbody>\n",
       "</table>\n",
       "<p>301 rows × 5 columns</p>\n",
       "</div>"
      ],
      "text/plain": [
       "     ID_code   College      Subject  Score_preVac  Score_postVac\n",
       "0     247610  Lonsdale          PPE            60             35\n",
       "1     448590  Lonsdale          PPE            43             44\n",
       "2     491100  Lonsdale  engineering            79             69\n",
       "3     316150  Lonsdale          PPE            55             61\n",
       "4     251870  Lonsdale  engineering            62             65\n",
       "..       ...       ...          ...           ...            ...\n",
       "296   440570  Beaufort      history            75             70\n",
       "297   826030  Beaufort        maths            52             49\n",
       "298   856260  Beaufort      Biology            83             84\n",
       "299   947060  Beaufort  engineering            62             65\n",
       "300   165780  Beaufort          PPE            48             56\n",
       "\n",
       "[301 rows x 5 columns]"
      ]
     },
     "execution_count": 115,
     "metadata": {},
     "output_type": "execute_result"
    }
   ],
   "source": [
    "wb = pandas.read_csv('data/wellbeingSample.csv')\n",
    "wb"
   ]
  },
  {
   "cell_type": "markdown",
   "id": "539598ea",
   "metadata": {},
   "source": [
    "### Plot the distribution of wellbeing scores\n",
    "\n",
    "It's always a good idea to plot the data to familiarize yourself with them and spot any outliers!\n",
    "\n",
    "Below is a basic plot of the wellbeing scores before and after the vacation"
   ]
  },
  {
   "cell_type": "code",
   "execution_count": 162,
   "id": "222b5dac",
   "metadata": {},
   "outputs": [
    {
     "data": {
      "image/png": "[encoded data removed]",
      "text/plain": [
       "<Figure size 640x480 with 1 Axes>"
      ]
     },
     "metadata": {},
     "output_type": "display_data"
    }
   ],
   "source": [
    "sns.histplot(wb['Score_preVac'], bins=range(1,100,5), color='b', alpha=0.5)\n",
    "sns.histplot(wb['Score_postVac'], bins=range(1,100,5), color='r', alpha=0.5)\n",
    "plt.legend(['before vacation', 'after vacation'])\n",
    "plt.xlabel('wellbeing score')\n",
    "plt.show()"
   ]
  },
  {
   "cell_type": "markdown",
   "id": "e85e2f78",
   "metadata": {},
   "source": [
    "### Did wellbeing increase over the vacation?\n",
    "\n",
    "Say I am interested in the change in wellbeing score across the vacation for psychology students. \n",
    "\n",
    "We are going to calculate the mean change in wellbeing score from pre- to post-vacation measuremments and then obtain a bbootstrapped confidence interval for this difference\n",
    "\n",
    "If only a small percentage of simulated samples have a negative change in wellbeing over the vacation, we will conclude that we are confident mean wellbbeing increased over the vacation for psychology students\n",
    "\n",
    "Let's start by creating a column in our dataframe for the difference in wellbeing score between pre- and post-vacation measurements"
   ]
  },
  {
   "cell_type": "code",
   "execution_count": 126,
   "id": "ca3e7f28",
   "metadata": {},
   "outputs": [
    {
     "data": {
      "text/html": [
       "<div>\n",
       "<style scoped>\n",
       "    .dataframe tbody tr th:only-of-type {\n",
       "        vertical-align: middle;\n",
       "    }\n",
       "\n",
       "    .dataframe tbody tr th {\n",
       "        vertical-align: top;\n",
       "    }\n",
       "\n",
       "    .dataframe thead th {\n",
       "        text-align: right;\n",
       "    }\n",
       "</style>\n",
       "<table border=\"1\" class=\"dataframe\">\n",
       "  <thead>\n",
       "    <tr style=\"text-align: right;\">\n",
       "      <th></th>\n",
       "      <th>ID_code</th>\n",
       "      <th>Score_preVac</th>\n",
       "      <th>Score_postVac</th>\n",
       "      <th>Score_diff</th>\n",
       "    </tr>\n",
       "  </thead>\n",
       "  <tbody>\n",
       "    <tr>\n",
       "      <th>count</th>\n",
       "      <td>25.000000</td>\n",
       "      <td>25.000000</td>\n",
       "      <td>25.000000</td>\n",
       "      <td>25.000000</td>\n",
       "    </tr>\n",
       "    <tr>\n",
       "      <th>mean</th>\n",
       "      <td>488468.000000</td>\n",
       "      <td>72.200000</td>\n",
       "      <td>74.880000</td>\n",
       "      <td>2.680000</td>\n",
       "    </tr>\n",
       "    <tr>\n",
       "      <th>std</th>\n",
       "      <td>236656.922693</td>\n",
       "      <td>9.291573</td>\n",
       "      <td>12.370395</td>\n",
       "      <td>11.100751</td>\n",
       "    </tr>\n",
       "    <tr>\n",
       "      <th>min</th>\n",
       "      <td>174020.000000</td>\n",
       "      <td>54.000000</td>\n",
       "      <td>43.000000</td>\n",
       "      <td>-18.000000</td>\n",
       "    </tr>\n",
       "    <tr>\n",
       "      <th>25%</th>\n",
       "      <td>275570.000000</td>\n",
       "      <td>65.000000</td>\n",
       "      <td>69.000000</td>\n",
       "      <td>-3.000000</td>\n",
       "    </tr>\n",
       "    <tr>\n",
       "      <th>50%</th>\n",
       "      <td>444210.000000</td>\n",
       "      <td>73.000000</td>\n",
       "      <td>76.000000</td>\n",
       "      <td>6.000000</td>\n",
       "    </tr>\n",
       "    <tr>\n",
       "      <th>75%</th>\n",
       "      <td>671530.000000</td>\n",
       "      <td>80.000000</td>\n",
       "      <td>81.000000</td>\n",
       "      <td>11.000000</td>\n",
       "    </tr>\n",
       "    <tr>\n",
       "      <th>max</th>\n",
       "      <td>986330.000000</td>\n",
       "      <td>85.000000</td>\n",
       "      <td>93.000000</td>\n",
       "      <td>18.000000</td>\n",
       "    </tr>\n",
       "  </tbody>\n",
       "</table>\n",
       "</div>"
      ],
      "text/plain": [
       "             ID_code  Score_preVac  Score_postVac  Score_diff\n",
       "count      25.000000     25.000000      25.000000   25.000000\n",
       "mean   488468.000000     72.200000      74.880000    2.680000\n",
       "std    236656.922693      9.291573      12.370395   11.100751\n",
       "min    174020.000000     54.000000      43.000000  -18.000000\n",
       "25%    275570.000000     65.000000      69.000000   -3.000000\n",
       "50%    444210.000000     73.000000      76.000000    6.000000\n",
       "75%    671530.000000     80.000000      81.000000   11.000000\n",
       "max    986330.000000     85.000000      93.000000   18.000000"
      ]
     },
     "execution_count": 126,
     "metadata": {},
     "output_type": "execute_result"
    }
   ],
   "source": [
    "wb['Score_diff'] = wb['Score_postVac']-wb['Score_preVac']"
   ]
  },
  {
   "cell_type": "markdown",
   "id": "5439d7d4",
   "metadata": {},
   "source": [
    "Now let's \n",
    "<ul>\n",
    "    <li>get the mean change in wellbeing for psychology students\n",
    "<li>find out how many psychology students there are\n",
    "    </ul>"
   ]
  },
  {
   "cell_type": "code",
   "execution_count": 166,
   "id": "cbde588e",
   "metadata": {},
   "outputs": [
    {
     "name": "stdout",
     "output_type": "stream",
     "text": [
      "mean change = 2.68\n",
      "n = 25\n"
     ]
    }
   ],
   "source": [
    "print('mean change = ' + str(wb[wb['Subject']=='Psychology']['Score_diff'].mean()))\n",
    "print('n = ' + str(len(wb[wb['Subject']=='Psychology'])))"
   ]
  },
  {
   "cell_type": "markdown",
   "id": "6bfaea27",
   "metadata": {},
   "source": [
    "The mean increase in wellbeing score across the vacation for the 25 Psychology students is 2.68\n",
    "\n",
    "How confident can we be that wellbeing <i>really</i> increases across the vacation, though? If we surveyed a new sample of Psychology students, how close would the change in wellbeing be to 2.68? Would it still be greater than zero (ie would the vacation still increase wellbeing)?\n",
    "\n",
    "We need the sampling distribution of the mean! (the mean change in wellbeing across the vac, that is)\n",
    "\n",
    "Let's simulate it by bootstrapping!"
   ]
  },
  {
   "cell_type": "code",
   "execution_count": null,
   "id": "73e653bb",
   "metadata": {},
   "outputs": [],
   "source": [
    "nReps = # your code here\n",
    "m = # create an empty array to store the sample means\n",
    "n = # your code here\n",
    "\n",
    "for i in range(nReps):\n",
    "    sample = # your code here to draw a sample of size n with replacement fromthe dataframe wb\n",
    "    m[i] = # the mean change in wellbeing across the vacation for this sample\n",
    "\n",
    "sns.histplot(m) # plot the sample means"
   ]
  },
  {
   "cell_type": "code",
   "execution_count": 168,
   "id": "756f8ac3",
   "metadata": {},
   "outputs": [
    {
     "data": {
      "text/plain": [
       "<AxesSubplot:ylabel='Count'>"
      ]
     },
     "execution_count": 168,
     "metadata": {},
     "output_type": "execute_result"
    },
    {
     "data": {
      "image/png": "[encoded data removed]",
      "text/plain": [
       "<Figure size 640x480 with 1 Axes>"
      ]
     },
     "metadata": {},
     "output_type": "display_data"
    }
   ],
   "source": [
    "# ANSWER\n",
    "\n",
    "nReps = 10000\n",
    "m = np.empty(nReps)\n",
    "n = len(wb[wb['Subject']=='Psychology'])\n",
    "\n",
    "for i in range(nReps):\n",
    "    sample = wb.sample(n, replace=True)\n",
    "    m[i] = sample['Score_diff'].mean()\n",
    "    \n",
    "sns.histplot(m) # plot the sample means"
   ]
  },
  {
   "cell_type": "markdown",
   "id": "c7cc6a97",
   "metadata": {},
   "source": [
    "We can also work out exactly what percentage of the samples have a negative change in wellbeing"
   ]
  },
  {
   "cell_type": "code",
   "execution_count": 170,
   "id": "3baf42ae",
   "metadata": {},
   "outputs": [
    {
     "data": {
      "text/plain": [
       "8.71"
      ]
     },
     "execution_count": 170,
     "metadata": {},
     "output_type": "execute_result"
    }
   ],
   "source": [
    "100 * sum(m<0)/len(m)"
   ]
  },
  {
   "cell_type": "markdown",
   "id": "d267585e",
   "metadata": {},
   "source": [
    "I make it about 8.7% of random (re)samples in which the change in wellbeing is negative.\n",
    "\n",
    "This is some evidence that the change in wellbeing over the vacation is positive but would not be considered staatstically significant in general - more on statistical significance next term"
   ]
  },
  {
   "cell_type": "markdown",
   "id": "a2c1443e",
   "metadata": {},
   "source": [
    "#### 95% confidence interval\n",
    "\n",
    "We can define a 95% confidence interval for the change in wellbeing over the vacation in psychology students as the range in which 95% of (re)sample means fall:"
   ]
  },
  {
   "cell_type": "code",
   "execution_count": 176,
   "id": "a4edc2a6",
   "metadata": {},
   "outputs": [
    {
     "name": "stdout",
     "output_type": "stream",
     "text": [
      "lower bound = -1.24\n",
      "upper bound = 6.36\n"
     ]
    }
   ],
   "source": [
    "# The boundaries of the 95% confidence interval \n",
    "# exclude the lowest and highest 2.5% of sample means \n",
    "# (ie exclude 5% of sample means overall)\n",
    "\n",
    "print('lower bound = ' + str(np.quantile(m,0.025)))\n",
    "print('upper bound = ' + str(np.quantile(m,0.975)))"
   ]
  },
  {
   "cell_type": "markdown",
   "id": "a4b21952",
   "metadata": {},
   "source": [
    "The confidence interval includes ero, meaning no change in wellbeing (or a negative change) is a plausible value for the population change in wellbbeing over the vac"
   ]
  },
  {
   "cell_type": "markdown",
   "id": "928a6470",
   "metadata": {},
   "source": [
    "## Is wellbeing higher in Lonsdale than in Beaufort engineering students?\n",
    "\n",
    "Let's try bootstrapping something else!\n",
    "\n",
    "Say we want to know if wellbeing (as measured before the vacation) is higher in biology students at Lonsdale or Beaufort college.\n",
    "\n",
    "Let's have a look at the relevant data:"
   ]
  },
  {
   "cell_type": "code",
   "execution_count": 289,
   "id": "243a7d4b",
   "metadata": {},
   "outputs": [
    {
     "data": {
      "text/html": [
       "<div>\n",
       "<style scoped>\n",
       "    .dataframe tbody tr th:only-of-type {\n",
       "        vertical-align: middle;\n",
       "    }\n",
       "\n",
       "    .dataframe tbody tr th {\n",
       "        vertical-align: top;\n",
       "    }\n",
       "\n",
       "    .dataframe thead th {\n",
       "        text-align: right;\n",
       "    }\n",
       "</style>\n",
       "<table border=\"1\" class=\"dataframe\">\n",
       "  <thead>\n",
       "    <tr style=\"text-align: right;\">\n",
       "      <th></th>\n",
       "      <th>ID_code</th>\n",
       "      <th>College</th>\n",
       "      <th>Subject</th>\n",
       "      <th>Score_preVac</th>\n",
       "      <th>Score_postVac</th>\n",
       "      <th>Score_diff</th>\n",
       "    </tr>\n",
       "  </thead>\n",
       "  <tbody>\n",
       "    <tr>\n",
       "      <th>13</th>\n",
       "      <td>171910</td>\n",
       "      <td>Lonsdale</td>\n",
       "      <td>Biology</td>\n",
       "      <td>94</td>\n",
       "      <td>86</td>\n",
       "      <td>-8</td>\n",
       "    </tr>\n",
       "    <tr>\n",
       "      <th>14</th>\n",
       "      <td>714640</td>\n",
       "      <td>Lonsdale</td>\n",
       "      <td>Biology</td>\n",
       "      <td>85</td>\n",
       "      <td>80</td>\n",
       "      <td>-5</td>\n",
       "    </tr>\n",
       "    <tr>\n",
       "      <th>17</th>\n",
       "      <td>412830</td>\n",
       "      <td>Lonsdale</td>\n",
       "      <td>Biology</td>\n",
       "      <td>59</td>\n",
       "      <td>61</td>\n",
       "      <td>2</td>\n",
       "    </tr>\n",
       "    <tr>\n",
       "      <th>19</th>\n",
       "      <td>145410</td>\n",
       "      <td>Lonsdale</td>\n",
       "      <td>Biology</td>\n",
       "      <td>44</td>\n",
       "      <td>51</td>\n",
       "      <td>7</td>\n",
       "    </tr>\n",
       "    <tr>\n",
       "      <th>30</th>\n",
       "      <td>957870</td>\n",
       "      <td>Lonsdale</td>\n",
       "      <td>Biology</td>\n",
       "      <td>55</td>\n",
       "      <td>75</td>\n",
       "      <td>20</td>\n",
       "    </tr>\n",
       "    <tr>\n",
       "      <th>33</th>\n",
       "      <td>127470</td>\n",
       "      <td>Lonsdale</td>\n",
       "      <td>Biology</td>\n",
       "      <td>78</td>\n",
       "      <td>75</td>\n",
       "      <td>-3</td>\n",
       "    </tr>\n",
       "    <tr>\n",
       "      <th>37</th>\n",
       "      <td>342660</td>\n",
       "      <td>Lonsdale</td>\n",
       "      <td>Biology</td>\n",
       "      <td>44</td>\n",
       "      <td>66</td>\n",
       "      <td>22</td>\n",
       "    </tr>\n",
       "    <tr>\n",
       "      <th>43</th>\n",
       "      <td>466680</td>\n",
       "      <td>Lonsdale</td>\n",
       "      <td>Biology</td>\n",
       "      <td>57</td>\n",
       "      <td>69</td>\n",
       "      <td>12</td>\n",
       "    </tr>\n",
       "    <tr>\n",
       "      <th>53</th>\n",
       "      <td>222450</td>\n",
       "      <td>Lonsdale</td>\n",
       "      <td>Biology</td>\n",
       "      <td>80</td>\n",
       "      <td>93</td>\n",
       "      <td>13</td>\n",
       "    </tr>\n",
       "    <tr>\n",
       "      <th>64</th>\n",
       "      <td>402100</td>\n",
       "      <td>Lonsdale</td>\n",
       "      <td>Biology</td>\n",
       "      <td>81</td>\n",
       "      <td>100</td>\n",
       "      <td>19</td>\n",
       "    </tr>\n",
       "    <tr>\n",
       "      <th>66</th>\n",
       "      <td>795390</td>\n",
       "      <td>Lonsdale</td>\n",
       "      <td>Biology</td>\n",
       "      <td>56</td>\n",
       "      <td>47</td>\n",
       "      <td>-9</td>\n",
       "    </tr>\n",
       "    <tr>\n",
       "      <th>68</th>\n",
       "      <td>182190</td>\n",
       "      <td>Lonsdale</td>\n",
       "      <td>Biology</td>\n",
       "      <td>75</td>\n",
       "      <td>78</td>\n",
       "      <td>3</td>\n",
       "    </tr>\n",
       "    <tr>\n",
       "      <th>72</th>\n",
       "      <td>594080</td>\n",
       "      <td>Lonsdale</td>\n",
       "      <td>Biology</td>\n",
       "      <td>75</td>\n",
       "      <td>87</td>\n",
       "      <td>12</td>\n",
       "    </tr>\n",
       "    <tr>\n",
       "      <th>78</th>\n",
       "      <td>102430</td>\n",
       "      <td>Lonsdale</td>\n",
       "      <td>Biology</td>\n",
       "      <td>74</td>\n",
       "      <td>76</td>\n",
       "      <td>2</td>\n",
       "    </tr>\n",
       "    <tr>\n",
       "      <th>80</th>\n",
       "      <td>436580</td>\n",
       "      <td>Lonsdale</td>\n",
       "      <td>Biology</td>\n",
       "      <td>79</td>\n",
       "      <td>89</td>\n",
       "      <td>10</td>\n",
       "    </tr>\n",
       "    <tr>\n",
       "      <th>85</th>\n",
       "      <td>714290</td>\n",
       "      <td>Lonsdale</td>\n",
       "      <td>Biology</td>\n",
       "      <td>72</td>\n",
       "      <td>89</td>\n",
       "      <td>17</td>\n",
       "    </tr>\n",
       "    <tr>\n",
       "      <th>90</th>\n",
       "      <td>586290</td>\n",
       "      <td>Lonsdale</td>\n",
       "      <td>Biology</td>\n",
       "      <td>78</td>\n",
       "      <td>85</td>\n",
       "      <td>7</td>\n",
       "    </tr>\n",
       "    <tr>\n",
       "      <th>99</th>\n",
       "      <td>274650</td>\n",
       "      <td>Lonsdale</td>\n",
       "      <td>Biology</td>\n",
       "      <td>67</td>\n",
       "      <td>76</td>\n",
       "      <td>9</td>\n",
       "    </tr>\n",
       "    <tr>\n",
       "      <th>107</th>\n",
       "      <td>552200</td>\n",
       "      <td>Lonsdale</td>\n",
       "      <td>Biology</td>\n",
       "      <td>65</td>\n",
       "      <td>76</td>\n",
       "      <td>11</td>\n",
       "    </tr>\n",
       "    <tr>\n",
       "      <th>108</th>\n",
       "      <td>458220</td>\n",
       "      <td>Lonsdale</td>\n",
       "      <td>Biology</td>\n",
       "      <td>72</td>\n",
       "      <td>85</td>\n",
       "      <td>13</td>\n",
       "    </tr>\n",
       "    <tr>\n",
       "      <th>111</th>\n",
       "      <td>523680</td>\n",
       "      <td>Lonsdale</td>\n",
       "      <td>Biology</td>\n",
       "      <td>87</td>\n",
       "      <td>86</td>\n",
       "      <td>-1</td>\n",
       "    </tr>\n",
       "    <tr>\n",
       "      <th>113</th>\n",
       "      <td>156240</td>\n",
       "      <td>Lonsdale</td>\n",
       "      <td>Biology</td>\n",
       "      <td>66</td>\n",
       "      <td>58</td>\n",
       "      <td>-8</td>\n",
       "    </tr>\n",
       "    <tr>\n",
       "      <th>114</th>\n",
       "      <td>399610</td>\n",
       "      <td>Lonsdale</td>\n",
       "      <td>Biology</td>\n",
       "      <td>69</td>\n",
       "      <td>76</td>\n",
       "      <td>7</td>\n",
       "    </tr>\n",
       "    <tr>\n",
       "      <th>121</th>\n",
       "      <td>117530</td>\n",
       "      <td>Lonsdale</td>\n",
       "      <td>Biology</td>\n",
       "      <td>68</td>\n",
       "      <td>73</td>\n",
       "      <td>5</td>\n",
       "    </tr>\n",
       "    <tr>\n",
       "      <th>126</th>\n",
       "      <td>230750</td>\n",
       "      <td>Beaufort</td>\n",
       "      <td>Biology</td>\n",
       "      <td>84</td>\n",
       "      <td>81</td>\n",
       "      <td>-3</td>\n",
       "    </tr>\n",
       "    <tr>\n",
       "      <th>138</th>\n",
       "      <td>643120</td>\n",
       "      <td>Beaufort</td>\n",
       "      <td>Biology</td>\n",
       "      <td>55</td>\n",
       "      <td>59</td>\n",
       "      <td>4</td>\n",
       "    </tr>\n",
       "    <tr>\n",
       "      <th>156</th>\n",
       "      <td>136940</td>\n",
       "      <td>Beaufort</td>\n",
       "      <td>Biology</td>\n",
       "      <td>63</td>\n",
       "      <td>62</td>\n",
       "      <td>-1</td>\n",
       "    </tr>\n",
       "    <tr>\n",
       "      <th>165</th>\n",
       "      <td>128230</td>\n",
       "      <td>Beaufort</td>\n",
       "      <td>Biology</td>\n",
       "      <td>91</td>\n",
       "      <td>88</td>\n",
       "      <td>-3</td>\n",
       "    </tr>\n",
       "    <tr>\n",
       "      <th>166</th>\n",
       "      <td>166850</td>\n",
       "      <td>Beaufort</td>\n",
       "      <td>Biology</td>\n",
       "      <td>77</td>\n",
       "      <td>69</td>\n",
       "      <td>-8</td>\n",
       "    </tr>\n",
       "    <tr>\n",
       "      <th>175</th>\n",
       "      <td>282330</td>\n",
       "      <td>Beaufort</td>\n",
       "      <td>Biology</td>\n",
       "      <td>81</td>\n",
       "      <td>93</td>\n",
       "      <td>12</td>\n",
       "    </tr>\n",
       "    <tr>\n",
       "      <th>176</th>\n",
       "      <td>824130</td>\n",
       "      <td>Beaufort</td>\n",
       "      <td>Biology</td>\n",
       "      <td>63</td>\n",
       "      <td>70</td>\n",
       "      <td>7</td>\n",
       "    </tr>\n",
       "    <tr>\n",
       "      <th>183</th>\n",
       "      <td>898380</td>\n",
       "      <td>Beaufort</td>\n",
       "      <td>Biology</td>\n",
       "      <td>46</td>\n",
       "      <td>57</td>\n",
       "      <td>11</td>\n",
       "    </tr>\n",
       "    <tr>\n",
       "      <th>187</th>\n",
       "      <td>425700</td>\n",
       "      <td>Beaufort</td>\n",
       "      <td>Biology</td>\n",
       "      <td>80</td>\n",
       "      <td>94</td>\n",
       "      <td>14</td>\n",
       "    </tr>\n",
       "    <tr>\n",
       "      <th>198</th>\n",
       "      <td>401040</td>\n",
       "      <td>Beaufort</td>\n",
       "      <td>Biology</td>\n",
       "      <td>78</td>\n",
       "      <td>82</td>\n",
       "      <td>4</td>\n",
       "    </tr>\n",
       "    <tr>\n",
       "      <th>202</th>\n",
       "      <td>612960</td>\n",
       "      <td>Beaufort</td>\n",
       "      <td>Biology</td>\n",
       "      <td>63</td>\n",
       "      <td>73</td>\n",
       "      <td>10</td>\n",
       "    </tr>\n",
       "    <tr>\n",
       "      <th>203</th>\n",
       "      <td>272480</td>\n",
       "      <td>Beaufort</td>\n",
       "      <td>Biology</td>\n",
       "      <td>74</td>\n",
       "      <td>80</td>\n",
       "      <td>6</td>\n",
       "    </tr>\n",
       "    <tr>\n",
       "      <th>214</th>\n",
       "      <td>942840</td>\n",
       "      <td>Beaufort</td>\n",
       "      <td>Biology</td>\n",
       "      <td>81</td>\n",
       "      <td>79</td>\n",
       "      <td>-2</td>\n",
       "    </tr>\n",
       "    <tr>\n",
       "      <th>217</th>\n",
       "      <td>209410</td>\n",
       "      <td>Beaufort</td>\n",
       "      <td>Biology</td>\n",
       "      <td>69</td>\n",
       "      <td>90</td>\n",
       "      <td>21</td>\n",
       "    </tr>\n",
       "    <tr>\n",
       "      <th>221</th>\n",
       "      <td>902670</td>\n",
       "      <td>Beaufort</td>\n",
       "      <td>Biology</td>\n",
       "      <td>69</td>\n",
       "      <td>88</td>\n",
       "      <td>19</td>\n",
       "    </tr>\n",
       "    <tr>\n",
       "      <th>240</th>\n",
       "      <td>161690</td>\n",
       "      <td>Beaufort</td>\n",
       "      <td>Biology</td>\n",
       "      <td>76</td>\n",
       "      <td>75</td>\n",
       "      <td>-1</td>\n",
       "    </tr>\n",
       "    <tr>\n",
       "      <th>245</th>\n",
       "      <td>595320</td>\n",
       "      <td>Beaufort</td>\n",
       "      <td>Biology</td>\n",
       "      <td>77</td>\n",
       "      <td>66</td>\n",
       "      <td>-11</td>\n",
       "    </tr>\n",
       "    <tr>\n",
       "      <th>247</th>\n",
       "      <td>950790</td>\n",
       "      <td>Beaufort</td>\n",
       "      <td>Biology</td>\n",
       "      <td>75</td>\n",
       "      <td>73</td>\n",
       "      <td>-2</td>\n",
       "    </tr>\n",
       "    <tr>\n",
       "      <th>261</th>\n",
       "      <td>649410</td>\n",
       "      <td>Beaufort</td>\n",
       "      <td>Biology</td>\n",
       "      <td>77</td>\n",
       "      <td>83</td>\n",
       "      <td>6</td>\n",
       "    </tr>\n",
       "    <tr>\n",
       "      <th>264</th>\n",
       "      <td>145110</td>\n",
       "      <td>Beaufort</td>\n",
       "      <td>Biology</td>\n",
       "      <td>89</td>\n",
       "      <td>79</td>\n",
       "      <td>-10</td>\n",
       "    </tr>\n",
       "    <tr>\n",
       "      <th>265</th>\n",
       "      <td>300070</td>\n",
       "      <td>Beaufort</td>\n",
       "      <td>Biology</td>\n",
       "      <td>84</td>\n",
       "      <td>87</td>\n",
       "      <td>3</td>\n",
       "    </tr>\n",
       "    <tr>\n",
       "      <th>270</th>\n",
       "      <td>499130</td>\n",
       "      <td>Beaufort</td>\n",
       "      <td>Biology</td>\n",
       "      <td>80</td>\n",
       "      <td>87</td>\n",
       "      <td>7</td>\n",
       "    </tr>\n",
       "    <tr>\n",
       "      <th>272</th>\n",
       "      <td>964640</td>\n",
       "      <td>Beaufort</td>\n",
       "      <td>Biology</td>\n",
       "      <td>82</td>\n",
       "      <td>81</td>\n",
       "      <td>-1</td>\n",
       "    </tr>\n",
       "    <tr>\n",
       "      <th>279</th>\n",
       "      <td>735340</td>\n",
       "      <td>Beaufort</td>\n",
       "      <td>Biology</td>\n",
       "      <td>84</td>\n",
       "      <td>78</td>\n",
       "      <td>-6</td>\n",
       "    </tr>\n",
       "    <tr>\n",
       "      <th>292</th>\n",
       "      <td>320220</td>\n",
       "      <td>Beaufort</td>\n",
       "      <td>Biology</td>\n",
       "      <td>78</td>\n",
       "      <td>76</td>\n",
       "      <td>-2</td>\n",
       "    </tr>\n",
       "    <tr>\n",
       "      <th>293</th>\n",
       "      <td>467310</td>\n",
       "      <td>Beaufort</td>\n",
       "      <td>Biology</td>\n",
       "      <td>49</td>\n",
       "      <td>50</td>\n",
       "      <td>1</td>\n",
       "    </tr>\n",
       "    <tr>\n",
       "      <th>298</th>\n",
       "      <td>856260</td>\n",
       "      <td>Beaufort</td>\n",
       "      <td>Biology</td>\n",
       "      <td>83</td>\n",
       "      <td>84</td>\n",
       "      <td>1</td>\n",
       "    </tr>\n",
       "  </tbody>\n",
       "</table>\n",
       "</div>"
      ],
      "text/plain": [
       "     ID_code   College  Subject  Score_preVac  Score_postVac  Score_diff\n",
       "13    171910  Lonsdale  Biology            94             86          -8\n",
       "14    714640  Lonsdale  Biology            85             80          -5\n",
       "17    412830  Lonsdale  Biology            59             61           2\n",
       "19    145410  Lonsdale  Biology            44             51           7\n",
       "30    957870  Lonsdale  Biology            55             75          20\n",
       "33    127470  Lonsdale  Biology            78             75          -3\n",
       "37    342660  Lonsdale  Biology            44             66          22\n",
       "43    466680  Lonsdale  Biology            57             69          12\n",
       "53    222450  Lonsdale  Biology            80             93          13\n",
       "64    402100  Lonsdale  Biology            81            100          19\n",
       "66    795390  Lonsdale  Biology            56             47          -9\n",
       "68    182190  Lonsdale  Biology            75             78           3\n",
       "72    594080  Lonsdale  Biology            75             87          12\n",
       "78    102430  Lonsdale  Biology            74             76           2\n",
       "80    436580  Lonsdale  Biology            79             89          10\n",
       "85    714290  Lonsdale  Biology            72             89          17\n",
       "90    586290  Lonsdale  Biology            78             85           7\n",
       "99    274650  Lonsdale  Biology            67             76           9\n",
       "107   552200  Lonsdale  Biology            65             76          11\n",
       "108   458220  Lonsdale  Biology            72             85          13\n",
       "111   523680  Lonsdale  Biology            87             86          -1\n",
       "113   156240  Lonsdale  Biology            66             58          -8\n",
       "114   399610  Lonsdale  Biology            69             76           7\n",
       "121   117530  Lonsdale  Biology            68             73           5\n",
       "126   230750  Beaufort  Biology            84             81          -3\n",
       "138   643120  Beaufort  Biology            55             59           4\n",
       "156   136940  Beaufort  Biology            63             62          -1\n",
       "165   128230  Beaufort  Biology            91             88          -3\n",
       "166   166850  Beaufort  Biology            77             69          -8\n",
       "175   282330  Beaufort  Biology            81             93          12\n",
       "176   824130  Beaufort  Biology            63             70           7\n",
       "183   898380  Beaufort  Biology            46             57          11\n",
       "187   425700  Beaufort  Biology            80             94          14\n",
       "198   401040  Beaufort  Biology            78             82           4\n",
       "202   612960  Beaufort  Biology            63             73          10\n",
       "203   272480  Beaufort  Biology            74             80           6\n",
       "214   942840  Beaufort  Biology            81             79          -2\n",
       "217   209410  Beaufort  Biology            69             90          21\n",
       "221   902670  Beaufort  Biology            69             88          19\n",
       "240   161690  Beaufort  Biology            76             75          -1\n",
       "245   595320  Beaufort  Biology            77             66         -11\n",
       "247   950790  Beaufort  Biology            75             73          -2\n",
       "261   649410  Beaufort  Biology            77             83           6\n",
       "264   145110  Beaufort  Biology            89             79         -10\n",
       "265   300070  Beaufort  Biology            84             87           3\n",
       "270   499130  Beaufort  Biology            80             87           7\n",
       "272   964640  Beaufort  Biology            82             81          -1\n",
       "279   735340  Beaufort  Biology            84             78          -6\n",
       "292   320220  Beaufort  Biology            78             76          -2\n",
       "293   467310  Beaufort  Biology            49             50           1\n",
       "298   856260  Beaufort  Biology            83             84           1"
      ]
     },
     "execution_count": 289,
     "metadata": {},
     "output_type": "execute_result"
    }
   ],
   "source": [
    "# Get the biology students only from the dataframe\n",
    "wb[wb['Subject']=='Biology']"
   ]
  },
  {
   "cell_type": "code",
   "execution_count": null,
   "id": "fa074ae8",
   "metadata": {},
   "outputs": [],
   "source": [
    "# count how many bibology students in each college using df.value_counts()\n",
    "wb[wb['Subject']=='Biology']['College'].value_counts()"
   ]
  },
  {
   "cell_type": "markdown",
   "id": "b4ab0c88",
   "metadata": {},
   "source": [
    "PLot their wellbeing scores (before the vac) in a violin plot"
   ]
  },
  {
   "cell_type": "code",
   "execution_count": 187,
   "id": "f8496853",
   "metadata": {},
   "outputs": [
    {
     "data": {
      "text/plain": [
       "<AxesSubplot:xlabel='College', ylabel='Score_preVac'>"
      ]
     },
     "execution_count": 187,
     "metadata": {},
     "output_type": "execute_result"
    },
    {
     "data": {
      "image/png": "[encoded data removed]",
      "text/plain": [
       "<Figure size 640x480 with 1 Axes>"
      ]
     },
     "metadata": {},
     "output_type": "display_data"
    }
   ],
   "source": [
    "sns.violinplot(data=wb[wb['Subject']=='Biology'], y='Score_preVac', x='College')"
   ]
  },
  {
   "cell_type": "markdown",
   "id": "887a9bd7",
   "metadata": {},
   "source": [
    "It looks like Beaufort biologists had slightly higher wellbeing scores but how confident can we be in that difference?\n",
    "\n",
    "We need the sampling distribution for the difference of means for wellbeing score between colleges\n",
    "\n",
    "We can adapt our bootstrap code to do this!"
   ]
  },
  {
   "cell_type": "code",
   "execution_count": null,
   "id": "764a8fc3",
   "metadata": {},
   "outputs": [],
   "source": [
    "nReps = # your code here\n",
    "mDiff = # create an empty array to store the sample means\n",
    "nL = # number of biologists in Lonsdale college\n",
    "nB = # number of biologists in Beaufort college\n",
    "\n",
    "for i in range(nReps):\n",
    "    sample_Lonsdale = # \n",
    "    sample_Beaufort = \n",
    "    mDiff[i] = # mean wellbeing of Beaufort biologists minus mean wellbeing of Lonsdale biologists\n",
    "    \n",
    "\n",
    "sns.histplot(mDiff) # plot the sample means"
   ]
  },
  {
   "cell_type": "code",
   "execution_count": 199,
   "id": "0e73ed48",
   "metadata": {},
   "outputs": [
    {
     "data": {
      "text/plain": [
       "<AxesSubplot:ylabel='Count'>"
      ]
     },
     "execution_count": 199,
     "metadata": {},
     "output_type": "execute_result"
    },
    {
     "data": {
      "image/png": "[encoded data removed]",
      "text/plain": [
       "<Figure size 640x480 with 1 Axes>"
      ]
     },
     "metadata": {},
     "output_type": "display_data"
    }
   ],
   "source": [
    "#ANSWER\n",
    "\n",
    "LonsdaleBiol = wb[(wb['College']=='Lonsdale') & (wb['Subject']=='Biology')]\n",
    "BeaufortBiol = wb[(wb['College']=='Beaufort') & (wb['Subject']=='Biology')]\n",
    "\n",
    "nReps = 10000\n",
    "mDiff = np.empty(nReps)\n",
    "nL = len(LonsdaleBiol)\n",
    "nB = len(BeaufortBiol)\n",
    "\n",
    "for i in range(nReps):\n",
    "    sample_Lonsdale = LonsdaleBiol.sample(nL, replace=True)\n",
    "    sample_Beaufort = BeaufortBiol.sample(nB, replace=True)\n",
    "    mDiff[i] = sample_Beaufort['Score_preVac'].mean()-sample_Lonsdale['Score_preVac'].mean() # mean wellbeing of Beaufort biologists minus mean wellbeing of Lonsdale biologists\n",
    "    \n",
    "\n",
    "sns.histplot(mDiff) # plot the sample means"
   ]
  },
  {
   "cell_type": "markdown",
   "id": "d7b57a28",
   "metadata": {},
   "source": [
    "In what proportion of (re)samples do Lonsdale biologists actually have higher mean wellbeing?"
   ]
  },
  {
   "cell_type": "code",
   "execution_count": 200,
   "id": "db21af84",
   "metadata": {},
   "outputs": [
    {
     "data": {
      "text/plain": [
       "0.0932"
      ]
     },
     "execution_count": 200,
     "metadata": {},
     "output_type": "execute_result"
    }
   ],
   "source": [
    "sum(mDiff<0)/len(mDiff)"
   ]
  },
  {
   "cell_type": "markdown",
   "id": "e0f8cb39",
   "metadata": {},
   "source": [
    "### Bootstrapped correlation between wellbeing scores before and after the vacation\n",
    "\n",
    "Over the vacation, wellbeing went up overall - but are the students with higher wellbeing before the vacation generally also the ones with higher wellbeing after the vacation?\n",
    "\n",
    "Let's get an overview by plotting the data"
   ]
  },
  {
   "cell_type": "code",
   "execution_count": 212,
   "id": "347f4a8a",
   "metadata": {},
   "outputs": [
    {
     "data": {
      "text/plain": [
       "<AxesSubplot:xlabel='Score_preVac', ylabel='Score_postVac'>"
      ]
     },
     "execution_count": 212,
     "metadata": {},
     "output_type": "execute_result"
    },
    {
     "data": {
      "image/png": "[encoded data removed]",
      "text/plain": [
       "<Figure size 640x480 with 1 Axes>"
      ]
     },
     "metadata": {},
     "output_type": "display_data"
    }
   ],
   "source": [
    "sns.scatterplot(data=wb, x='Score_preVac', y='Score_postVac')"
   ]
  },
  {
   "cell_type": "markdown",
   "id": "c408733a",
   "metadata": {},
   "source": [
    "It looks like there is a fairly strong correlation between wellbeing scores before and after the vacation for the same individual.\n",
    "\n",
    "The correlation might be exaggerated by a few outliers with particularly low scores, so let's use Spearman's correlation coefficient:"
   ]
  },
  {
   "cell_type": "code",
   "execution_count": 213,
   "id": "cb1ae7df",
   "metadata": {},
   "outputs": [
    {
     "data": {
      "text/plain": [
       "0.683268050615877"
      ]
     },
     "execution_count": 213,
     "metadata": {},
     "output_type": "execute_result"
    }
   ],
   "source": [
    "wb['Score_preVac'].corr(wb['Score_postVac'], method='spearman')"
   ]
  },
  {
   "cell_type": "markdown",
   "id": "b5b8b34d",
   "metadata": {},
   "source": [
    "I want to know how confident I can be that wellbeing before and after the vacation are correlated\n",
    "\n",
    "I need a sampling distriubtion for the correlation coefficient $r$\n",
    "\n",
    "I can obtain this using bootstrapping:"
   ]
  },
  {
   "cell_type": "code",
   "execution_count": 291,
   "id": "cb2ffc11",
   "metadata": {},
   "outputs": [
    {
     "data": {
      "image/png": "[encoded data removed]",
      "text/plain": [
       "<Figure size 640x480 with 1 Axes>"
      ]
     },
     "metadata": {},
     "output_type": "display_data"
    }
   ],
   "source": [
    "nReps=10000\n",
    "r=np.empty(nReps)\n",
    "n=len(wb)\n",
    "\n",
    "for i in range(nReps):\n",
    "    sample = wb.sample(n, replace=True)\n",
    "    r[i] = sample['Score_preVac'].corr(sample['Score_postVac'], method='spearman')\n",
    "\n",
    "sns.histplot(r)\n",
    "plt.xlabel('sample correlation, $r_s$')\n",
    "plt.show()"
   ]
  },
  {
   "cell_type": "markdown",
   "id": "b3050b22",
   "metadata": {},
   "source": [
    "We can see that all the (re)samples have a strong positive correlation between wellbeing before and after the vacation\n",
    "\n",
    "Can you obtain a 95% confidence interval for the correlation coefficient $r_s$?"
   ]
  },
  {
   "cell_type": "code",
   "execution_count": 292,
   "id": "921a182e",
   "metadata": {},
   "outputs": [
    {
     "name": "stdout",
     "output_type": "stream",
     "text": [
      "0.6093127139772399,0.7456487747511137\n"
     ]
    }
   ],
   "source": [
    "# your code here\n",
    "print(str(np.quantile(r,0.025)) + ',' + str(np.quantile(r,0.975)))"
   ]
  },
  {
   "cell_type": "markdown",
   "id": "d4b1452f",
   "metadata": {},
   "source": [
    "# Further exercises\n",
    "\n",
    "#### Bootstrapped correlation in a smaller sample\n",
    "\n",
    "The sample correlation between wellbeing before and after the vacation was very reliably positive, partly because the correlation coefficient was high (in other words, we ca see there *is* a strong correlation in the scatterplot) and partly because $n$ is large\n",
    "\n",
    "Let's look at the same correlation- wellbeing before and after the vac- in a smaller sample- just the Psychology students:"
   ]
  },
  {
   "cell_type": "code",
   "execution_count": 220,
   "id": "9793b2f7",
   "metadata": {},
   "outputs": [
    {
     "data": {
      "text/plain": [
       "<AxesSubplot:xlabel='Score_preVac', ylabel='Score_postVac'>"
      ]
     },
     "execution_count": 220,
     "metadata": {},
     "output_type": "execute_result"
    },
    {
     "data": {
      "image/png": "[encoded data removed]",
      "text/plain": [
       "<Figure size 640x480 with 1 Axes>"
      ]
     },
     "metadata": {},
     "output_type": "display_data"
    }
   ],
   "source": [
    "psy=wb[wb['Subject']=='Psychology']\n",
    "sns.scatterplot(data=psy, x='Score_preVac', y='Score_postVac')"
   ]
  },
  {
   "cell_type": "markdown",
   "id": "ada6451d",
   "metadata": {},
   "source": [
    "Let's get the correlation coefficient:"
   ]
  },
  {
   "cell_type": "code",
   "execution_count": 221,
   "id": "4ff10fec",
   "metadata": {},
   "outputs": [
    {
     "data": {
      "text/plain": [
       "0.3935596127608406"
      ]
     },
     "execution_count": 221,
     "metadata": {},
     "output_type": "execute_result"
    }
   ],
   "source": [
    "psy['Score_preVac'].corr(psy['Score_postVac'], method='spearman')"
   ]
  },
  {
   "cell_type": "markdown",
   "id": "9a10508c",
   "metadata": {},
   "source": [
    "There is a positive correlation,although it is weaker than the correlation in the whole dataset of 300 students.\n",
    "\n",
    "Intuitively, just from looking at the scatterplot, it feels that if we drew random samples from just the psychology students, we would find some random samples with a zero or even negative correlation between wellbeing before and after the vacation - much more likely that when we were working with the full dataset of 300 students.\n",
    "\n",
    "<ul>\n",
    "    <li> Obtain a bootstrapped sampling distriubtion for the correlation coefficient $r_s$\n",
    "    <li> What proportion of the (re)samples have $r_s<0$?\n",
    "    <li> Obtain at 95% confidence interval for $r_s$\n",
    "</ul>"
   ]
  },
  {
   "cell_type": "code",
   "execution_count": 222,
   "id": "fbd31206",
   "metadata": {},
   "outputs": [
    {
     "data": {
      "image/png": "[encoded data removed]",
      "text/plain": [
       "<Figure size 640x480 with 1 Axes>"
      ]
     },
     "metadata": {},
     "output_type": "display_data"
    }
   ],
   "source": [
    "nReps=10000\n",
    "r=np.empty(nReps)\n",
    "n=len(psy)\n",
    "\n",
    "for i in range(nReps):\n",
    "    sample = psy.sample(n, replace=True)\n",
    "    r[i] = sample['Score_preVac'].corr(sample['Score_postVac'], method='spearman')\n",
    "\n",
    "sns.histplot(r)\n",
    "plt.xlabel('sample correlation, $r_s$')\n",
    "plt.show()"
   ]
  },
  {
   "cell_type": "code",
   "execution_count": 278,
   "id": "46e783df",
   "metadata": {},
   "outputs": [
    {
     "data": {
      "text/plain": [
       "51.0"
      ]
     },
     "execution_count": 278,
     "metadata": {},
     "output_type": "execute_result"
    }
   ],
   "source": [
    "sum(r<0)/len(r)\n",
    "\n",
    "wb['Score_preVac'].quantile(0.06)"
   ]
  },
  {
   "cell_type": "markdown",
   "id": "ba9477b7",
   "metadata": {},
   "source": [
    "### Further exercises\n",
    "\n",
    "Let's investigate some more questions using bootstrapping!\n",
    "\n",
    "<ol>\n",
    "    <li> Do PPE students have higher wellbeing (before the vacation) than Psychology students? \n",
    "        <ul><li>What percentage of random resamples is the mean wellbeing higher for PPE students?</ul>\n",
    "    <li> The 5th centile of the wellbeing distriubtion is the score below which the students with the lowest 5% of wellbeing scores fall. The 5th centile of wellbeing is exactly the same pre- and post vacation (49). \n",
    "        <ul><li>Obtain a sampling distribution for the difference in the 5th centile pre- and post vacation</ul>\n",
    "</ol>"
   ]
  },
  {
   "cell_type": "code",
   "execution_count": 282,
   "id": "ee1f59eb",
   "metadata": {},
   "outputs": [
    {
     "name": "stdout",
     "output_type": "stream",
     "text": [
      "proportion of resamples in whihc PPE wellbeing is higher: 0.1197\n"
     ]
    },
    {
     "data": {
      "image/png": "[encoded data removed]",
      "text/plain": [
       "<Figure size 640x480 with 1 Axes>"
      ]
     },
     "metadata": {},
     "output_type": "display_data"
    }
   ],
   "source": [
    "# Exercise 1 solution\n",
    "\n",
    "PPE=wb[wb['Subject']=='PPE']\n",
    "psy=wb[wb['Subject']=='Psychology']\n",
    "\n",
    "nReps = 10000\n",
    "mDiff = np.empty(nReps)\n",
    "nPPE = len(PPE)\n",
    "nPsy = len(psy)\n",
    "\n",
    "for i in range(nReps):\n",
    "    sample_PPE = PPE.sample(nPPE, replace=True)\n",
    "    sample_psy = psy.sample(nPsy, replace=True)\n",
    "    mDiff[i] = sample_PPE['Score_preVac'].mean()-sample_psy['Score_preVac'].mean() # mean wellbeing of Beaufort biologists minus mean wellbeing of Lonsdale biologists\n",
    "    \n",
    "\n",
    "sns.histplot(mDiff) # plot the sample means\n",
    "print('proportion of resamples in which PPE wellbeing is higher: ' + str(sum(mDiff>0)/len(mDiff)))"
   ]
  },
  {
   "cell_type": "code",
   "execution_count": 288,
   "id": "da2cb6fa",
   "metadata": {},
   "outputs": [
    {
     "name": "stdout",
     "output_type": "stream",
     "text": [
      "-4.0,3.0\n"
     ]
    },
    {
     "data": {
      "image/png": "[encoded data removed]",
      "text/plain": [
       "<Figure size 640x480 with 1 Axes>"
      ]
     },
     "metadata": {},
     "output_type": "display_data"
    }
   ],
   "source": [
    "# Exercise 2 solution\n",
    "\n",
    "nReps = 10000\n",
    "diff_q05 = np.empty(nReps)\n",
    "n = len(wb)\n",
    "\n",
    "for i in range(nReps):\n",
    "    sample = wb.sample(n, replace=True)\n",
    "    diff_q05[i] = sample['Score_postVac'].quantile(0.05)-sample['Score_preVac'].quantile(0.05)\n",
    "\n",
    "sns.histplot(diff_q05) # plot the sample means\n",
    "\n",
    "# CI - note the irritatingly different syntax to get quantile of an np array vs pandas df\n",
    "print(str(np.quantile(diff_q05,0.025)) + ',' + str(np.quantile(diff_q05,0.975)))"
   ]
  },
  {
   "cell_type": "markdown",
   "id": "65191650",
   "metadata": {},
   "source": [
    "Note the discrete distribution as there are only a small number of dataapoints that can reasonablbe end up being the 5th centile in either college in any given resample"
   ]
  },
  {
   "cell_type": "code",
   "execution_count": null,
   "id": "bd385bcf",
   "metadata": {},
   "outputs": [],
   "source": []
  }
 ],
 "metadata": {
  "kernelspec": {
   "display_name": "Python 3 (ipykernel)",
   "language": "python",
   "name": "python3"
  },
  "language_info": {
   "codemirror_mode": {
    "name": "ipython",
    "version": 3
   },
   "file_extension": ".py",
   "mimetype": "text/x-python",
   "name": "python",
   "nbconvert_exporter": "python",
   "pygments_lexer": "ipython3",
   "version": "3.9.13"
  }
 },
 "nbformat": 4,
 "nbformat_minor": 5
}
