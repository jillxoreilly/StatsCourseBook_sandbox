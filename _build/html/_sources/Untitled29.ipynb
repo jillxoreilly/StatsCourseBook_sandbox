{
 "cells": [
  {
   "cell_type": "code",
   "execution_count": null,
   "id": "422191e7",
   "metadata": {},
   "outputs": [],
   "source": [
    "# Bootstrapping the $t$ distribution"
   ]
  },
  {
   "cell_type": "markdown",
   "id": "f93f496c",
   "metadata": {},
   "source": [
    "We learned last week that for large samples, the sampling distribution of the mean as normalized by the standard error:\n",
    "\n",
    "$$ Z = \\frac{\\bar{x}-\\mu}{\\frac{\\sigma}{\\sqrt{n}}} $$\n",
    "\n",
    "...  is the standard normal distribution $Z \\sim \\mathcal{N}(0,1)$\n",
    "\n",
    "We also learned that if the data themselves are drawn from a normal distribution (such as height data), the above sampling distribution is a $t$ distribution (this is true for all sample sizes, including small samples - for large $n$ the $t$ distribution is very similar to the normal distribution)\n",
    "\n",
    "$$ t = \\frac{\\bar{x}-\\mu}{\\frac{s}{\\sqrt{n}}} $$"
   ]
  },
  {
   "cell_type": "code",
   "execution_count": null,
   "id": "cc604b40",
   "metadata": {},
   "outputs": [],
   "source": [
    "Now we know how to obtain bbootstrapped sampling distributions, we shall see if the sampling distribution of the "
   ]
  },
  {
   "cell_type": "code",
   "execution_count": null,
   "id": "034d8984",
   "metadata": {},
   "outputs": [],
   "source": []
  },
  {
   "cell_type": "code",
   "execution_count": null,
   "id": "d6f1cd9b",
   "metadata": {},
   "outputs": [],
   "source": []
  },
  {
   "cell_type": "code",
   "execution_count": null,
   "id": "c1f15481",
   "metadata": {},
   "outputs": [],
   "source": [
    "n=20\n",
    "data= np.random.normal(10,2,n)\n",
    "m=data.mean()\n",
    "\n",
    "nReps=10000\n",
    "t=np.empty(nReps)\n",
    "\n",
    "\n",
    "for i in range(nReps):\n",
    "    sample=np.random.choice(data,n,replace=True)\n",
    "    t[i]=(sample.mean()-m)/(sample.std()/(n**0.5))\n",
    "\n",
    "sns.histplot(t, bins=np.arange(-4,4,0.1))\n",
    "\n",
    "binwidth=0.1\n",
    "x=np.arange(-4.05,4.05,binwidth)\n",
    "p=stats.t.pdf(x,n-1)\n",
    "frq=p*nReps*binwidth\n",
    "plt.plot(x,frq,'k')"
   ]
  },
  {
   "cell_type": "code",
   "execution_count": null,
   "id": "2b2f6271",
   "metadata": {},
   "outputs": [],
   "source": []
  },
  {
   "cell_type": "code",
   "execution_count": null,
   "id": "6e646809",
   "metadata": {},
   "outputs": [],
   "source": []
  },
  {
   "cell_type": "code",
   "execution_count": null,
   "id": "baf8cd8b",
   "metadata": {},
   "outputs": [],
   "source": []
  },
  {
   "cell_type": "code",
   "execution_count": null,
   "id": "02b981c4",
   "metadata": {},
   "outputs": [],
   "source": []
  }
 ],
 "metadata": {
  "kernelspec": {
   "display_name": "Python 3 (ipykernel)",
   "language": "python",
   "name": "python3"
  },
  "language_info": {
   "codemirror_mode": {
    "name": "ipython",
    "version": 3
   },
   "file_extension": ".py",
   "mimetype": "text/x-python",
   "name": "python",
   "nbconvert_exporter": "python",
   "pygments_lexer": "ipython3",
   "version": "3.9.13"
  }
 },
 "nbformat": 4,
 "nbformat_minor": 5
}
