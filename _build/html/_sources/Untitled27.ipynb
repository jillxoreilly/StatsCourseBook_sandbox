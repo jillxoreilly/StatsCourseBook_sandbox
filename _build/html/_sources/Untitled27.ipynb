{
 "cells": [
  {
   "cell_type": "markdown",
   "id": "94363faa",
   "metadata": {},
   "source": [
    "# Sampling with and without replacement\n",
    "\n",
    "### Set up Python libraries\n",
    "\n",
    "As usual, run the code cell below to import the relevant Python libraries\n"
   ]
  },
  {
   "cell_type": "code",
   "execution_count": 1,
   "id": "01a62341",
   "metadata": {},
   "outputs": [],
   "source": [
    "#Set-up Python libraries - you need to run this but you don't need to change it\n",
    "import numpy as np\n",
    "import matplotlib.pyplot as plt\n",
    "import scipy.stats as stats\n",
    "import pandas \n",
    "import seaborn as sns\n",
    "sns.set_theme()"
   ]
  },
  {
   "cell_type": "markdown",
   "id": "9a2d06c1",
   "metadata": {},
   "source": [
    "### Toy example\n",
    "\n",
    "Let's explore the idea of sampling with and without replacement using a very simple example (a simple example designed just to illustrate a point is sometimes called a <i>toy example</i>)\n",
    "\n",
    "Say I have a dataset listing four children's pets:\n",
    "\n",
    "[cat, dog, cat, rabbit]\n",
    "\n",
    "If I sample from this dataset, I get a new list of pets. Say I draw a sample of size $𝑛=2$, my sample might be [cat, cat] (if I'm lucky- I love cats!)\n",
    "\n",
    "\n",
    "#### Without replacement\n",
    "\n",
    "If I sample without replacement, after I have 'drawn' my first sample pet fromt the original dataset, I cannot draw it again - my next sample pet will be drawn from the remaining three. The consequence of this is that all samples of size 𝑛=4 contain all of the original 4 pets, albeit in a different order\n",
    "\n",
    "[cat, cat, dog, rabbit]\n",
    "\n",
    "[rabbit, cat, dog, cat]\n",
    "\n",
    "[cat, dog, rabbit, cat]\n",
    "\n",
    "etc\n",
    "\n",
    "#### With replacement\n",
    "\n",
    "If I sample with replacement, each 'draw' can be any of the four animals (think of it like pulling a card from a deck, checking which animal is on it, and then replacing the card in the deck before the next sample is drawn).\n",
    "\n",
    "So I could get:\n",
    "\n",
    "[cat, cat, cat, cat]\n",
    "\n",
    "if I'm really lucky!\n",
    "\n",
    "or more likely:\n",
    "\n",
    "[cat, dog, cat, cat]\n",
    "\n",
    "[rabbit, dog, cat, rabbit]\n",
    "\n",
    "... etc\n",
    "\n",
    "Let's try it, replacing the animals with numbers: dog = 1, cat = 2, rabbit = 3"
   ]
  },
  {
   "cell_type": "code",
   "execution_count": 2,
   "id": "3984d010",
   "metadata": {},
   "outputs": [
    {
     "name": "stdout",
     "output_type": "stream",
     "text": [
      "sample 0 = [2 3 1 2]\n",
      "sample 1 = [2 2 1 3]\n",
      "sample 2 = [3 2 2 1]\n",
      "sample 3 = [2 3 1 2]\n",
      "sample 4 = [2 1 2 3]\n",
      "sample 5 = [3 2 1 2]\n",
      "sample 6 = [2 1 3 2]\n",
      "sample 7 = [3 2 1 2]\n",
      "sample 8 = [1 2 2 3]\n",
      "sample 9 = [2 2 3 1]\n"
     ]
    }
   ],
   "source": [
    "# Sampling without replacement\n",
    "data = [2,1,3,2]\n",
    "nReps= 10\n",
    "\n",
    "for i in range(nReps):\n",
    "    sample = np.random.choice(data,4,replace=False)\n",
    "    print('sample ' + str(i) + ' = ' + str(sample))"
   ]
  },
  {
   "cell_type": "markdown",
   "id": "ed36c0d0",
   "metadata": {},
   "source": [
    "When sampling without replacement each sample should be identical in contents (albeit in a random order) - this is clearer if I sort the sample values in ascending order:"
   ]
  },
  {
   "cell_type": "code",
   "execution_count": 6,
   "id": "19472eae",
   "metadata": {},
   "outputs": [
    {
     "name": "stdout",
     "output_type": "stream",
     "text": [
      "sample 0 = [1 2 2 3]\n",
      "sample 1 = [1 2 2 3]\n",
      "sample 2 = [1 2 2 3]\n",
      "sample 3 = [1 2 2 3]\n",
      "sample 4 = [1 2 2 3]\n",
      "sample 5 = [1 2 2 3]\n",
      "sample 6 = [1 2 2 3]\n",
      "sample 7 = [1 2 2 3]\n",
      "sample 8 = [1 2 2 3]\n",
      "sample 9 = [1 2 2 3]\n"
     ]
    }
   ],
   "source": [
    "# Sampling without replacement\n",
    "data = [2,1,3,2]\n",
    "nReps= 10\n",
    "\n",
    "for i in range(nReps):\n",
    "    sample = np.random.choice(data,4,replace=False)\n",
    "    print('sample ' + str(i) + ' = ' + str(np.sort(sample)))"
   ]
  },
  {
   "cell_type": "markdown",
   "id": "39f0d3b1",
   "metadata": {},
   "source": [
    "<ul>\n",
    "    <li>Can you change the code above to sample <i>with</i> replacement?\n",
    "    <li>In your samples drawn with replacement, look for those which are not simply permutations of the original four datapoints (animals) but contain more or fewer cats/dogs/rabbits than expected\n",
    "</ul>"
   ]
  },
  {
   "cell_type": "markdown",
   "id": "8757ef8f",
   "metadata": {},
   "source": [
    "### Real world examples\n",
    "\n",
    "A real world example of sampling without replacement would be if we give 100 students a wellbeing questionairre - each student in our sample is a member of the parent distribution (all students/ allstudents in the college we were sampling from etc). We will only want to survey each student once.\n",
    "\n",
    "A real world of example of sampling with replacement is rolling a dice. Each diceroll yeilds an outcome (1-6) that is a sample from an infinite selection of possible outcomes (think of it as drawing a card from an "
   ]
  }
 ],
 "metadata": {
  "kernelspec": {
   "display_name": "Python 3 (ipykernel)",
   "language": "python",
   "name": "python3"
  },
  "language_info": {
   "codemirror_mode": {
    "name": "ipython",
    "version": 3
   },
   "file_extension": ".py",
   "mimetype": "text/x-python",
   "name": "python",
   "nbconvert_exporter": "python",
   "pygments_lexer": "ipython3",
   "version": "3.9.13"
  }
 },
 "nbformat": 4,
 "nbformat_minor": 5
}
