{
 "cells": [
  {
   "cell_type": "markdown",
   "id": "f4e47f5f",
   "metadata": {},
   "source": [
    "# Boxplot\n",
    "\n",
    "Sometimes less is more!\n",
    "\n",
    "We saw in the lecture that if we want to compare several data distributions, it can be useful to have a plot that highlights key features (the median and quartiles) whilst eliminating unnecessary detail\n",
    "\n",
    "The boxplot can do this job\n",
    "\n",
    "## Oxford Weather example\n",
    "\n",
    "We will work with historical data from the Oxford weather centre\n",
    "\n",
    "<img src= \"https://raw.githubusercontent.com/jillxoreilly/StatsCourseBook/main/images/OxfordSnow.jpg\" width=\"50%\"  />"
   ]
  },
  {
   "cell_type": "markdown",
   "id": "c368db3e",
   "metadata": {},
   "source": [
    "### Set up Python libraries\n",
    "\n",
    "As usual, run the code cell below to import the relevant Python libraries"
   ]
  },
  {
   "cell_type": "code",
   "execution_count": 2,
   "id": "159964a1",
   "metadata": {},
   "outputs": [],
   "source": [
    "# Set-up Python libraries - you need to run this but you don't need to change it\n",
    "import numpy as np\n",
    "import matplotlib.pyplot as plt\n",
    "import scipy.stats as stats\n",
    "import pandas \n",
    "import seaborn as sns\n",
    "sns.set_theme()"
   ]
  },
  {
   "cell_type": "markdown",
   "id": "d9ce162e",
   "metadata": {},
   "source": [
    "### Load and inspect the data\n",
    "\n",
    "Let's load some historical data about the weather in Oxford, from the file \"OxfordWeather.csv\""
   ]
  },
  {
   "cell_type": "code",
   "execution_count": 8,
   "id": "0691586e",
   "metadata": {},
   "outputs": [
    {
     "name": "stderr",
     "output_type": "stream",
     "text": [
      "/var/folders/q4/twg1yll54y142rc02m5wwbt40000gr/T/ipykernel_17637/3980356552.py:1: DtypeWarning: Columns (6,7) have mixed types. Specify dtype option on import or set low_memory=False.\n",
      "  weather = pandas.read_csv(\"https://raw.githubusercontent.com/jillxoreilly/StatsCourseBook/main/data/OxfordWeather.csv\")\n"
     ]
    },
    {
     "data": {
      "text/html": [
       "<div>\n",
       "<style scoped>\n",
       "    .dataframe tbody tr th:only-of-type {\n",
       "        vertical-align: middle;\n",
       "    }\n",
       "\n",
       "    .dataframe tbody tr th {\n",
       "        vertical-align: top;\n",
       "    }\n",
       "\n",
       "    .dataframe thead th {\n",
       "        text-align: right;\n",
       "    }\n",
       "</style>\n",
       "<table border=\"1\" class=\"dataframe\">\n",
       "  <thead>\n",
       "    <tr style=\"text-align: right;\">\n",
       "      <th></th>\n",
       "      <th>YYYY</th>\n",
       "      <th>MM</th>\n",
       "      <th>DD</th>\n",
       "      <th>Tmax</th>\n",
       "      <th>Tmin</th>\n",
       "      <th>Tmean</th>\n",
       "      <th>Trange</th>\n",
       "      <th>Rainfall_mm</th>\n",
       "    </tr>\n",
       "  </thead>\n",
       "  <tbody>\n",
       "    <tr>\n",
       "      <th>0</th>\n",
       "      <td>1827</td>\n",
       "      <td>1</td>\n",
       "      <td>1</td>\n",
       "      <td>8.3</td>\n",
       "      <td>5.6</td>\n",
       "      <td>7.0</td>\n",
       "      <td>2.7</td>\n",
       "      <td>0.0</td>\n",
       "    </tr>\n",
       "    <tr>\n",
       "      <th>1</th>\n",
       "      <td>1827</td>\n",
       "      <td>1</td>\n",
       "      <td>2</td>\n",
       "      <td>2.2</td>\n",
       "      <td>0.0</td>\n",
       "      <td>1.1</td>\n",
       "      <td>2.2</td>\n",
       "      <td>0.0</td>\n",
       "    </tr>\n",
       "    <tr>\n",
       "      <th>2</th>\n",
       "      <td>1827</td>\n",
       "      <td>1</td>\n",
       "      <td>3</td>\n",
       "      <td>-2.2</td>\n",
       "      <td>-8.3</td>\n",
       "      <td>-5.3</td>\n",
       "      <td>6.1</td>\n",
       "      <td>9.7</td>\n",
       "    </tr>\n",
       "    <tr>\n",
       "      <th>3</th>\n",
       "      <td>1827</td>\n",
       "      <td>1</td>\n",
       "      <td>4</td>\n",
       "      <td>-1.7</td>\n",
       "      <td>-7.8</td>\n",
       "      <td>-4.8</td>\n",
       "      <td>6.1</td>\n",
       "      <td>0.0</td>\n",
       "    </tr>\n",
       "    <tr>\n",
       "      <th>4</th>\n",
       "      <td>1827</td>\n",
       "      <td>1</td>\n",
       "      <td>5</td>\n",
       "      <td>0.0</td>\n",
       "      <td>-10.6</td>\n",
       "      <td>-5.3</td>\n",
       "      <td>10.6</td>\n",
       "      <td>0.0</td>\n",
       "    </tr>\n",
       "    <tr>\n",
       "      <th>...</th>\n",
       "      <td>...</td>\n",
       "      <td>...</td>\n",
       "      <td>...</td>\n",
       "      <td>...</td>\n",
       "      <td>...</td>\n",
       "      <td>...</td>\n",
       "      <td>...</td>\n",
       "      <td>...</td>\n",
       "    </tr>\n",
       "    <tr>\n",
       "      <th>71338</th>\n",
       "      <td>2022</td>\n",
       "      <td>4</td>\n",
       "      <td>26</td>\n",
       "      <td>15.2</td>\n",
       "      <td>4.1</td>\n",
       "      <td>9.7</td>\n",
       "      <td>11.1</td>\n",
       "      <td>0</td>\n",
       "    </tr>\n",
       "    <tr>\n",
       "      <th>71339</th>\n",
       "      <td>2022</td>\n",
       "      <td>4</td>\n",
       "      <td>27</td>\n",
       "      <td>10.7</td>\n",
       "      <td>2.6</td>\n",
       "      <td>6.7</td>\n",
       "      <td>8.1</td>\n",
       "      <td>0</td>\n",
       "    </tr>\n",
       "    <tr>\n",
       "      <th>71340</th>\n",
       "      <td>2022</td>\n",
       "      <td>4</td>\n",
       "      <td>28</td>\n",
       "      <td>12.7</td>\n",
       "      <td>3.9</td>\n",
       "      <td>8.3</td>\n",
       "      <td>8.8</td>\n",
       "      <td>0</td>\n",
       "    </tr>\n",
       "    <tr>\n",
       "      <th>71341</th>\n",
       "      <td>2022</td>\n",
       "      <td>4</td>\n",
       "      <td>29</td>\n",
       "      <td>11.7</td>\n",
       "      <td>6.7</td>\n",
       "      <td>9.2</td>\n",
       "      <td>5</td>\n",
       "      <td>0</td>\n",
       "    </tr>\n",
       "    <tr>\n",
       "      <th>71342</th>\n",
       "      <td>2022</td>\n",
       "      <td>4</td>\n",
       "      <td>30</td>\n",
       "      <td>17.6</td>\n",
       "      <td>1.0</td>\n",
       "      <td>9.3</td>\n",
       "      <td>16.6</td>\n",
       "      <td>0</td>\n",
       "    </tr>\n",
       "  </tbody>\n",
       "</table>\n",
       "<p>71343 rows × 8 columns</p>\n",
       "</div>"
      ],
      "text/plain": [
       "       YYYY  MM  DD  Tmax  Tmin  Tmean Trange Rainfall_mm \n",
       "0      1827   1   1   8.3   5.6    7.0    2.7          0.0\n",
       "1      1827   1   2   2.2   0.0    1.1    2.2          0.0\n",
       "2      1827   1   3  -2.2  -8.3   -5.3    6.1          9.7\n",
       "3      1827   1   4  -1.7  -7.8   -4.8    6.1          0.0\n",
       "4      1827   1   5   0.0 -10.6   -5.3   10.6          0.0\n",
       "...     ...  ..  ..   ...   ...    ...    ...          ...\n",
       "71338  2022   4  26  15.2   4.1    9.7   11.1            0\n",
       "71339  2022   4  27  10.7   2.6    6.7    8.1            0\n",
       "71340  2022   4  28  12.7   3.9    8.3    8.8            0\n",
       "71341  2022   4  29  11.7   6.7    9.2      5            0\n",
       "71342  2022   4  30  17.6   1.0    9.3   16.6            0\n",
       "\n",
       "[71343 rows x 8 columns]"
      ]
     },
     "metadata": {},
     "output_type": "display_data"
    }
   ],
   "source": [
    "weather = pandas.read_csv(\"https://raw.githubusercontent.com/jillxoreilly/StatsCourseBook/main/data/OxfordWeather.csv\")\n",
    "display(weather)"
   ]
  },
  {
   "cell_type": "markdown",
   "id": "7a8c3adf",
   "metadata": {},
   "source": [
    "Have a look at the dataframe. \n",
    "\n",
    "What do you think is contained in each column? \n",
    "\n",
    "<ul>\n",
    "<li>Each row is a single day from 1827 to 2022. The columns YYYY,MM,DD give the date.\n",
    "<li>The columns Tmax, Tmin and Tmean give information about the temperature\n",
    "<li>We also have a record of the rainfall each day\n",
    "</ul>\n",
    "\n",
    "### Plot the temperature\n",
    "\n",
    "Say we want to plot the mean temperature in each month of the year. We have almost 200 datapoints for every date (and 30ish dates within each month, so 6000 measurements per month!)\n",
    "\n",
    "We can summarise the distribution of temperatures in each month using a boxplot:"
   ]
  },
  {
   "cell_type": "code",
   "execution_count": 5,
   "id": "a3b7b19e",
   "metadata": {},
   "outputs": [
    {
     "data": {
      "text/plain": [
       "<AxesSubplot:xlabel='MM', ylabel='Tmax'>"
      ]
     },
     "execution_count": 5,
     "metadata": {},
     "output_type": "execute_result"
    },
    {
     "data": {
      "image/png": "[encoded data removed]",
      "text/plain": [
       "<Figure size 640x480 with 1 Axes>"
      ]
     },
     "metadata": {},
     "output_type": "display_data"
    }
   ],
   "source": [
    "sns.boxplot(data=weather, x=\"MM\", y=\"Tmax\")"
   ]
  },
  {
   "cell_type": "markdown",
   "id": "b23d10be",
   "metadata": {},
   "source": [
    "Using a simple boxplot for each month, we can easily see the trend across months for warmer weather in the summer and cooler weather in the winter.\n",
    "\n",
    "Within each month we can also see some information about the distribution - for example:\n",
    "\n",
    "<ul>\n",
    "    <li> Temperatures are more variable in winter and summer, than in autumn and spring\n",
    "    <li> In winter, the distribution of temperatures has negative skew (there are some unusually cold years) but in summer the converse is true - this is evident from the position of the median within each box but is clearer in a violinplot (see below)\n",
    "</ul>"
   ]
  },
  {
   "cell_type": "markdown",
   "id": "98466ee9",
   "metadata": {},
   "source": [
    "### Comparing patterns\n",
    "\n",
    "Has the pattern of temperatures changed over the years?\n",
    "\n",
    "Let's compare temperatures in the 19th, 20th and 21st century. \n",
    "\n",
    "To do so we add a 'century' column to our dataframe. We use the <a href=\"https://pandas.pydata.org/docs/reference/api/pandas.cut.html\"><tt>pandas.cut</tt></a> function to categorise the values of year into 19thC, 20thC and 21stC"
   ]
  },
  {
   "cell_type": "code",
   "execution_count": 6,
   "id": "c6ce8480",
   "metadata": {},
   "outputs": [
    {
     "data": {
      "text/html": [
       "<div>\n",
       "<style scoped>\n",
       "    .dataframe tbody tr th:only-of-type {\n",
       "        vertical-align: middle;\n",
       "    }\n",
       "\n",
       "    .dataframe tbody tr th {\n",
       "        vertical-align: top;\n",
       "    }\n",
       "\n",
       "    .dataframe thead th {\n",
       "        text-align: right;\n",
       "    }\n",
       "</style>\n",
       "<table border=\"1\" class=\"dataframe\">\n",
       "  <thead>\n",
       "    <tr style=\"text-align: right;\">\n",
       "      <th></th>\n",
       "      <th>YYYY</th>\n",
       "      <th>MM</th>\n",
       "      <th>DD</th>\n",
       "      <th>Tmax</th>\n",
       "      <th>Tmin</th>\n",
       "      <th>Tmean</th>\n",
       "      <th>Trange</th>\n",
       "      <th>Rainfall_mm</th>\n",
       "      <th>CCCC</th>\n",
       "    </tr>\n",
       "  </thead>\n",
       "  <tbody>\n",
       "    <tr>\n",
       "      <th>0</th>\n",
       "      <td>1827</td>\n",
       "      <td>1</td>\n",
       "      <td>1</td>\n",
       "      <td>8.3</td>\n",
       "      <td>5.6</td>\n",
       "      <td>7.0</td>\n",
       "      <td>2.7</td>\n",
       "      <td>0.0</td>\n",
       "      <td>18thC</td>\n",
       "    </tr>\n",
       "    <tr>\n",
       "      <th>1</th>\n",
       "      <td>1827</td>\n",
       "      <td>1</td>\n",
       "      <td>2</td>\n",
       "      <td>2.2</td>\n",
       "      <td>0.0</td>\n",
       "      <td>1.1</td>\n",
       "      <td>2.2</td>\n",
       "      <td>0.0</td>\n",
       "      <td>18thC</td>\n",
       "    </tr>\n",
       "    <tr>\n",
       "      <th>2</th>\n",
       "      <td>1827</td>\n",
       "      <td>1</td>\n",
       "      <td>3</td>\n",
       "      <td>-2.2</td>\n",
       "      <td>-8.3</td>\n",
       "      <td>-5.3</td>\n",
       "      <td>6.1</td>\n",
       "      <td>9.7</td>\n",
       "      <td>18thC</td>\n",
       "    </tr>\n",
       "    <tr>\n",
       "      <th>3</th>\n",
       "      <td>1827</td>\n",
       "      <td>1</td>\n",
       "      <td>4</td>\n",
       "      <td>-1.7</td>\n",
       "      <td>-7.8</td>\n",
       "      <td>-4.8</td>\n",
       "      <td>6.1</td>\n",
       "      <td>0.0</td>\n",
       "      <td>18thC</td>\n",
       "    </tr>\n",
       "    <tr>\n",
       "      <th>4</th>\n",
       "      <td>1827</td>\n",
       "      <td>1</td>\n",
       "      <td>5</td>\n",
       "      <td>0.0</td>\n",
       "      <td>-10.6</td>\n",
       "      <td>-5.3</td>\n",
       "      <td>10.6</td>\n",
       "      <td>0.0</td>\n",
       "      <td>18thC</td>\n",
       "    </tr>\n",
       "    <tr>\n",
       "      <th>...</th>\n",
       "      <td>...</td>\n",
       "      <td>...</td>\n",
       "      <td>...</td>\n",
       "      <td>...</td>\n",
       "      <td>...</td>\n",
       "      <td>...</td>\n",
       "      <td>...</td>\n",
       "      <td>...</td>\n",
       "      <td>...</td>\n",
       "    </tr>\n",
       "    <tr>\n",
       "      <th>71338</th>\n",
       "      <td>2022</td>\n",
       "      <td>4</td>\n",
       "      <td>26</td>\n",
       "      <td>15.2</td>\n",
       "      <td>4.1</td>\n",
       "      <td>9.7</td>\n",
       "      <td>11.1</td>\n",
       "      <td>0</td>\n",
       "      <td>20thC</td>\n",
       "    </tr>\n",
       "    <tr>\n",
       "      <th>71339</th>\n",
       "      <td>2022</td>\n",
       "      <td>4</td>\n",
       "      <td>27</td>\n",
       "      <td>10.7</td>\n",
       "      <td>2.6</td>\n",
       "      <td>6.7</td>\n",
       "      <td>8.1</td>\n",
       "      <td>0</td>\n",
       "      <td>20thC</td>\n",
       "    </tr>\n",
       "    <tr>\n",
       "      <th>71340</th>\n",
       "      <td>2022</td>\n",
       "      <td>4</td>\n",
       "      <td>28</td>\n",
       "      <td>12.7</td>\n",
       "      <td>3.9</td>\n",
       "      <td>8.3</td>\n",
       "      <td>8.8</td>\n",
       "      <td>0</td>\n",
       "      <td>20thC</td>\n",
       "    </tr>\n",
       "    <tr>\n",
       "      <th>71341</th>\n",
       "      <td>2022</td>\n",
       "      <td>4</td>\n",
       "      <td>29</td>\n",
       "      <td>11.7</td>\n",
       "      <td>6.7</td>\n",
       "      <td>9.2</td>\n",
       "      <td>5</td>\n",
       "      <td>0</td>\n",
       "      <td>20thC</td>\n",
       "    </tr>\n",
       "    <tr>\n",
       "      <th>71342</th>\n",
       "      <td>2022</td>\n",
       "      <td>4</td>\n",
       "      <td>30</td>\n",
       "      <td>17.6</td>\n",
       "      <td>1.0</td>\n",
       "      <td>9.3</td>\n",
       "      <td>16.6</td>\n",
       "      <td>0</td>\n",
       "      <td>20thC</td>\n",
       "    </tr>\n",
       "  </tbody>\n",
       "</table>\n",
       "<p>71343 rows × 9 columns</p>\n",
       "</div>"
      ],
      "text/plain": [
       "       YYYY  MM  DD  Tmax  Tmin  Tmean Trange Rainfall_mm    CCCC\n",
       "0      1827   1   1   8.3   5.6    7.0    2.7          0.0  18thC\n",
       "1      1827   1   2   2.2   0.0    1.1    2.2          0.0  18thC\n",
       "2      1827   1   3  -2.2  -8.3   -5.3    6.1          9.7  18thC\n",
       "3      1827   1   4  -1.7  -7.8   -4.8    6.1          0.0  18thC\n",
       "4      1827   1   5   0.0 -10.6   -5.3   10.6          0.0  18thC\n",
       "...     ...  ..  ..   ...   ...    ...    ...          ...    ...\n",
       "71338  2022   4  26  15.2   4.1    9.7   11.1            0  20thC\n",
       "71339  2022   4  27  10.7   2.6    6.7    8.1            0  20thC\n",
       "71340  2022   4  28  12.7   3.9    8.3    8.8            0  20thC\n",
       "71341  2022   4  29  11.7   6.7    9.2      5            0  20thC\n",
       "71342  2022   4  30  17.6   1.0    9.3   16.6            0  20thC\n",
       "\n",
       "[71343 rows x 9 columns]"
      ]
     },
     "metadata": {},
     "output_type": "display_data"
    }
   ],
   "source": [
    "weather['CCCC'] = pandas.cut(x=weather['YYYY'], bins=[1800,1900,2000,2100], labels=[\"19thC\",\"20thC\",\"21stC\"])\n",
    "display(weather)"
   ]
  },
  {
   "cell_type": "markdown",
   "id": "8dca89df",
   "metadata": {},
   "source": [
    "Now we can use the argument <tt>hue</tt> in <a href=\"https://seaborn.pydata.org/generated/seaborn.boxplot.html\"><tt>seaborn.boxplot</tt></a> to produce parallel box plots."
   ]
  },
  {
   "cell_type": "code",
   "execution_count": 7,
   "id": "d0fdeff7",
   "metadata": {},
   "outputs": [
    {
     "data": {
      "text/plain": [
       "<AxesSubplot:xlabel='MM', ylabel='Tmean'>"
      ]
     },
     "execution_count": 7,
     "metadata": {},
     "output_type": "execute_result"
    },
    {
     "data": {
      "image/png": "[encoded data removed]",
      "text/plain": [
       "<Figure size 640x480 with 1 Axes>"
      ]
     },
     "metadata": {},
     "output_type": "display_data"
    }
   ],
   "source": [
    "sns.boxplot(data=weather, x=\"MM\", y=\"Tmean\", hue=\"CCCC\")"
   ]
  },
  {
   "cell_type": "markdown",
   "id": "b6f206ae",
   "metadata": {},
   "source": [
    "It looks like Oxford has been getting a bit warmer over the centuries."
   ]
  },
  {
   "cell_type": "markdown",
   "id": "7f32c45f",
   "metadata": {},
   "source": [
    "## Violinplot\n",
    "\n",
    "Using Python, you can make a slighly fancier version of the boxplot called a violinplot. \n",
    "\n",
    "The violinplot shows the full distribution of data rather than the summary captured in a boxplot - the violin body is basically a KDE plot.\n",
    "\n",
    "Let's give it a try using the function <a href=\"https://seaborn.pydata.org/generated/seaborn.violinplot.html\"><tt>sns.violinplot</tt></a>"
   ]
  },
  {
   "cell_type": "code",
   "execution_count": 63,
   "id": "c5843dab",
   "metadata": {},
   "outputs": [
    {
     "data": {
      "text/plain": [
       "<AxesSubplot:xlabel='MM', ylabel='Tmax'>"
      ]
     },
     "execution_count": 63,
     "metadata": {},
     "output_type": "execute_result"
    },
    {
     "data": {
      "image/png": "[encoded data removed]",
      "text/plain": [
       "<Figure size 432x288 with 1 Axes>"
      ]
     },
     "metadata": {},
     "output_type": "display_data"
    }
   ],
   "source": [
    "sns.violinplot(data=weather, x=\"MM\", y=\"Tmax\")"
   ]
  },
  {
   "cell_type": "markdown",
   "id": "68544006",
   "metadata": {},
   "source": [
    "This is a nice compromise - still easy to \"eyeball\" the pattern across categories (in this case, across months) but giving plenty of detail within each category also\n",
    "\n",
    "Note for example that the trend for:\n",
    "<ul>\n",
    "    <li>negative skew in temperature in winter (outliers are cold days)\n",
    "    <li>positive skew in summer (outliers are hot days)\n",
    "</ul>\n",
    "...is much more clearly visible in the violin plot than in a box plot."
   ]
  },
  {
   "cell_type": "code",
   "execution_count": null,
   "id": "fe44802f",
   "metadata": {},
   "outputs": [],
   "source": []
  }
 ],
 "metadata": {
  "kernelspec": {
   "display_name": "Python 3 (ipykernel)",
   "language": "python",
   "name": "python3"
  },
  "language_info": {
   "codemirror_mode": {
    "name": "ipython",
    "version": 3
   },
   "file_extension": ".py",
   "mimetype": "text/x-python",
   "name": "python",
   "nbconvert_exporter": "python",
   "pygments_lexer": "ipython3",
   "version": "3.9.13"
  }
 },
 "nbformat": 4,
 "nbformat_minor": 5
}
