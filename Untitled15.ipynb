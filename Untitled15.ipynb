{
 "cells": [
  {
   "cell_type": "markdown",
   "id": "1f250f87",
   "metadata": {},
   "source": [
    "# Regression models in Python\n",
    "\n",
    "We will be using the `statsmodels` package in Python, so we will need to import this along with the other Python packages we have been using. \n",
    "\n",
    "### Set up Python libraries\n",
    "\n",
    "As usual, run the code cell below to import the relevant Python libraries"
   ]
  },
  {
   "cell_type": "code",
   "execution_count": 1,
   "id": "77253118",
   "metadata": {},
   "outputs": [],
   "source": [
    "# Set-up Python libraries - you need to run this but you don't need to change it\n",
    "import numpy as np\n",
    "import matplotlib.pyplot as plt\n",
    "import scipy.stats as stats\n",
    "import pandas \n",
    "import seaborn as sns\n",
    "import statsmodels.formula.api as smf"
   ]
  },
  {
   "cell_type": "markdown",
   "id": "0f27f3d7",
   "metadata": {},
   "source": [
    "If that threw an error, you may need to install `statsmodels` before you can import it.\n",
    "\n",
    "Try this code block:"
   ]
  },
  {
   "cell_type": "code",
   "execution_count": null,
   "id": "50088ee0",
   "metadata": {},
   "outputs": [],
   "source": [
    "!pip3 install statsmodels"
   ]
  },
  {
   "cell_type": "markdown",
   "id": "461f8168",
   "metadata": {},
   "source": [
    "... and then rerun the importing block above"
   ]
  },
  {
   "cell_type": "markdown",
   "id": "4a956c87",
   "metadata": {},
   "source": [
    "## Happiness toy example\n",
    "\n",
    "The python code, once you get the hang of it, is pretty straightforward. The output that Python gives is a whole table of statistics, some of which are important to us in this class, and some will be important later, and some we won’t need in the course at all. \n",
    "\n",
    "So, when looking at the Python output, the key objective for the moment is to know where to find the key things, e.g., the intercept and slope coefficients.\n",
    "\n",
    "Let’s run a regression model in Python for the ‘toy’ country happiness data. "
   ]
  },
  {
   "cell_type": "code",
   "execution_count": null,
   "id": "21227df4",
   "metadata": {},
   "outputs": [],
   "source": [
    "# import and view data\n",
    "happiness=pandas.read_csv('data/happiness10.csv')\n",
    "happiness"
   ]
  },
  {
   "cell_type": "code",
   "execution_count": null,
   "id": "fb92d808",
   "metadata": {},
   "outputs": [],
   "source": [
    "# run the regression model"
   ]
  },
  {
   "cell_type": "markdown",
   "id": "bf699517",
   "metadata": {},
   "source": [
    "* Find the intercept and the slope. How does Python label these?\n",
    "\n",
    "Python will also help us out with the predicted values and residuals. \n",
    "\n",
    "* Run the following code which will store $\\hat{y}$ and the residual for each row of the data. Display the result. \n"
   ]
  },
  {
   "cell_type": "code",
   "execution_count": null,
   "id": "a80208ec",
   "metadata": {},
   "outputs": [],
   "source": [
    "# code for storing y-hat and residuals"
   ]
  },
  {
   "cell_type": "markdown",
   "id": "0c168c8d",
   "metadata": {},
   "source": [
    "This should look familiar! We had the same table back in concepts section. (There may be small differences due to rounding). Do you think there are any outliers in the data? As we noted earlier, there was one very high and one very low value among the residuals. \n",
    "\n",
    "Let’s try re-running the regression model without these two potential outliers: Finland and Ukraine. Let’s change the happiness measure to ‘NaN’ for these two countries and re-run the regression command.\n"
   ]
  },
  {
   "cell_type": "code",
   "execution_count": 4,
   "id": "693a96d9",
   "metadata": {},
   "outputs": [],
   "source": [
    "# Code for changing Sweden to NaN, and new regression model"
   ]
  },
  {
   "cell_type": "markdown",
   "id": "352b2fac",
   "metadata": {},
   "source": [
    "What’s changed in the model? \n",
    "\n",
    "* Has the slope value become bigger and smaller? \n",
    "\n",
    "* Has the conclusion changed?"
   ]
  },
  {
   "cell_type": "markdown",
   "id": "62a4983f",
   "metadata": {},
   "source": [
    "# The calculation for the slope and intercept \n",
    "\n",
    "Back in Week 4 when you were learning about correlation and covariance, you saw the formula for calculating b, the slope coefficient. \n",
    "\n",
    "Remember the Height/ Finger length example?\n",
    "\n",
    "The equation for finding $b$ is\n",
    "\n",
    "$$ b = \\frac{s_{xy}}{s^2_x} $$"
   ]
  },
  {
   "cell_type": "code",
   "execution_count": 6,
   "id": "8fb899f5",
   "metadata": {},
   "outputs": [
    {
     "data": {
      "text/html": [
       "<div>\n",
       "<style scoped>\n",
       "    .dataframe tbody tr th:only-of-type {\n",
       "        vertical-align: middle;\n",
       "    }\n",
       "\n",
       "    .dataframe tbody tr th {\n",
       "        vertical-align: top;\n",
       "    }\n",
       "\n",
       "    .dataframe thead th {\n",
       "        text-align: right;\n",
       "    }\n",
       "</style>\n",
       "<table border=\"1\" class=\"dataframe\">\n",
       "  <thead>\n",
       "    <tr style=\"text-align: right;\">\n",
       "      <th></th>\n",
       "      <th>Height</th>\n",
       "      <th>FingerLength</th>\n",
       "    </tr>\n",
       "  </thead>\n",
       "  <tbody>\n",
       "    <tr>\n",
       "      <th>0</th>\n",
       "      <td>56</td>\n",
       "      <td>3.875</td>\n",
       "    </tr>\n",
       "    <tr>\n",
       "      <th>1</th>\n",
       "      <td>57</td>\n",
       "      <td>4.000</td>\n",
       "    </tr>\n",
       "    <tr>\n",
       "      <th>2</th>\n",
       "      <td>58</td>\n",
       "      <td>3.875</td>\n",
       "    </tr>\n",
       "    <tr>\n",
       "      <th>3</th>\n",
       "      <td>58</td>\n",
       "      <td>4.000</td>\n",
       "    </tr>\n",
       "    <tr>\n",
       "      <th>4</th>\n",
       "      <td>58</td>\n",
       "      <td>4.000</td>\n",
       "    </tr>\n",
       "    <tr>\n",
       "      <th>...</th>\n",
       "      <td>...</td>\n",
       "      <td>...</td>\n",
       "    </tr>\n",
       "    <tr>\n",
       "      <th>2995</th>\n",
       "      <td>74</td>\n",
       "      <td>4.875</td>\n",
       "    </tr>\n",
       "    <tr>\n",
       "      <th>2996</th>\n",
       "      <td>74</td>\n",
       "      <td>5.000</td>\n",
       "    </tr>\n",
       "    <tr>\n",
       "      <th>2997</th>\n",
       "      <td>74</td>\n",
       "      <td>5.000</td>\n",
       "    </tr>\n",
       "    <tr>\n",
       "      <th>2998</th>\n",
       "      <td>74</td>\n",
       "      <td>5.250</td>\n",
       "    </tr>\n",
       "    <tr>\n",
       "      <th>2999</th>\n",
       "      <td>77</td>\n",
       "      <td>4.375</td>\n",
       "    </tr>\n",
       "  </tbody>\n",
       "</table>\n",
       "<p>3000 rows × 2 columns</p>\n",
       "</div>"
      ],
      "text/plain": [
       "      Height  FingerLength\n",
       "0         56         3.875\n",
       "1         57         4.000\n",
       "2         58         3.875\n",
       "3         58         4.000\n",
       "4         58         4.000\n",
       "...      ...           ...\n",
       "2995      74         4.875\n",
       "2996      74         5.000\n",
       "2997      74         5.000\n",
       "2998      74         5.250\n",
       "2999      77         4.375\n",
       "\n",
       "[3000 rows x 2 columns]"
      ]
     },
     "metadata": {},
     "output_type": "display_data"
    }
   ],
   "source": [
    "# load and view the data\n",
    "heightFinger = pandas.read_csv('https://raw.githubusercontent.com/jillxoreilly/StatsCourseBook/main/data/HeightFingerInches.csv')\n",
    "display(heightFinger)"
   ]
  },
  {
   "cell_type": "markdown",
   "id": "1372f533",
   "metadata": {},
   "source": [
    "The equation for finding $b$ is\n",
    "\n",
    "$$ b = \\frac{s_{xy}}{s^2_x} $$\n",
    "\n",
    "Let's apply that in Python"
   ]
  },
  {
   "cell_type": "code",
   "execution_count": 9,
   "id": "5154628f",
   "metadata": {},
   "outputs": [
    {
     "data": {
      "text/plain": [
       "0.0550010848727285"
      ]
     },
     "execution_count": 9,
     "metadata": {},
     "output_type": "execute_result"
    }
   ],
   "source": [
    "s_x = heightFinger['Height'].std()\n",
    "s_y = heightFinger['FingerLength'].std()\n",
    "s_xy = heightFinger['Height'].cov(heightFinger['FingerLength'])\n",
    "\n",
    "b = s_xy/(s_x**2)\n",
    "print('b = ' + str(b))"
   ]
  },
  {
   "cell_type": "markdown",
   "id": "3dfc859f",
   "metadata": {},
   "source": [
    "What is the value of the intercept? The equation for finding the intercept is as follows:\n",
    "\n",
    "$$ a = \\bar{y} - b\\bar{x} $$\n",
    "\n",
    "$\\bar{x}$ and $\\bar{y}$ are the means of $x$ and $y$ for the 10 data points. \n",
    "\n",
    "Use Python to find the mean of $y$ and $x$. "
   ]
  },
  {
   "cell_type": "code",
   "execution_count": 15,
   "id": "2582ec4d",
   "metadata": {},
   "outputs": [],
   "source": [
    "x_bar = heightFinger.Height.mean()\n",
    "y_bar = heightFinger.FingerLength.mean()"
   ]
  },
  {
   "cell_type": "markdown",
   "id": "ae2de8b9",
   "metadata": {},
   "source": [
    "Can you calculate $a$? "
   ]
  },
  {
   "cell_type": "code",
   "execution_count": 13,
   "id": "fdbda465",
   "metadata": {},
   "outputs": [
    {
     "data": {
      "text/plain": [
       "9.417"
      ]
     },
     "execution_count": 13,
     "metadata": {},
     "output_type": "execute_result"
    }
   ],
   "source": [
    "a = 6.7 + (49.4*0.055) \n",
    "a"
   ]
  },
  {
   "cell_type": "code",
   "execution_count": 16,
   "id": "f862f2f3",
   "metadata": {},
   "outputs": [
    {
     "data": {
      "text/plain": [
       "0.9465806367945135"
      ]
     },
     "execution_count": 16,
     "metadata": {},
     "output_type": "execute_result"
    }
   ],
   "source": [
    "a = y_bar - b*x_bar\n",
    "a"
   ]
  },
  {
   "cell_type": "markdown",
   "id": "579cd77e",
   "metadata": {},
   "source": [
    "Let’s run a regression model in Python for the finger length data, to check our results. "
   ]
  },
  {
   "cell_type": "code",
   "execution_count": 17,
   "id": "505e370b",
   "metadata": {},
   "outputs": [
    {
     "ename": "SyntaxError",
     "evalue": "invalid syntax (2647922360.py, line 1)",
     "output_type": "error",
     "traceback": [
      "\u001b[0;36m  File \u001b[0;32m\"/var/folders/q4/twg1yll54y142rc02m5wwbt40000gr/T/ipykernel_47436/2647922360.py\"\u001b[0;36m, line \u001b[0;32m1\u001b[0m\n\u001b[0;31m    Code for importing finger length data, and regression model.\u001b[0m\n\u001b[0m         ^\u001b[0m\n\u001b[0;31mSyntaxError\u001b[0m\u001b[0;31m:\u001b[0m invalid syntax\n"
     ]
    }
   ],
   "source": [
    "# Code for importing finger length data, and regression model. "
   ]
  },
  {
   "cell_type": "markdown",
   "id": "eb8972f3",
   "metadata": {},
   "source": [
    "Great! Our calculations based on the equations are confirmed by Python’s regression table. "
   ]
  },
  {
   "cell_type": "markdown",
   "id": "afc55182",
   "metadata": {},
   "source": [
    "### Quick extra questions\n",
    "\n",
    "Here are some extra questions on the Regression output table, to see if you can begin to pick out all the important information. \n",
    "\n",
    "1. In the top left, it gives the method as ‘Least Squares’. Above, it gives the model type as ‘OLS’. Do you know what OLS stand for?\n",
    "    * Ordinary Least Squares\n",
    "1. How many observations are in this model according to the regression output table?\n",
    "    * 71,341\n",
    "1. What do you think ‘std err’ might stand for, in the column after ‘coef’?\n",
    "    * Standard Error. You learned about this important concept in Week 6, and we’ll come back to it again in a couple of weeks. \n"
   ]
  },
  {
   "cell_type": "code",
   "execution_count": null,
   "id": "9f616dcd",
   "metadata": {},
   "outputs": [],
   "source": []
  }
 ],
 "metadata": {
  "kernelspec": {
   "display_name": "Python 3 (ipykernel)",
   "language": "python",
   "name": "python3"
  },
  "language_info": {
   "codemirror_mode": {
    "name": "ipython",
    "version": 3
   },
   "file_extension": ".py",
   "mimetype": "text/x-python",
   "name": "python",
   "nbconvert_exporter": "python",
   "pygments_lexer": "ipython3",
   "version": "3.9.13"
  }
 },
 "nbformat": 4,
 "nbformat_minor": 5
}
