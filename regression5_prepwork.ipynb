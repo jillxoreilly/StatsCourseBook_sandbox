{
 "cells": [
  {
   "cell_type": "markdown",
   "id": "e5fb7a77",
   "metadata": {},
   "source": [
    "# Logistic Regression in Python\n",
    "\n",
    "<img src=\"https://raw.githubusercontent.com/jillxoreilly/StatsCourseBook/main/images/regression5_darwin.jpg\" width=30% >\n",
    "\n",
    "**Example:** The General Social Survey is a regular survey of the population of the United States that gathers information on people’s opinions since 1972. \n",
    "\n",
    "Here we use data from 2018, when the following question was put the respondents: “Human beings, as we know them today, developed from earlier species of animals. True or false?” \n",
    "\n",
    "In this analysis, $y$ = opinion about evolution (1 = true, 0 = false). \n",
    "\n",
    "We have three $x$ variables for the analysis: \n",
    "\n",
    "* age (measured in years), \n",
    "* political ideology (measured from 1 = extremely conservative to 7 = extremely liberal, which we treat as continuous here), and \n",
    "* whether the participant studied science at college (yes, no). \n",
    "\n",
    "Before we start, have a think about these $x$ variables: which direction do you expect the relationship to go? E.g., will older or younger people be more likely to answer “true”?\n",
    "\n",
    "### Set up Python libraries\n",
    "\n",
    "As usual, run the code cell below to import the relevant Python libraries"
   ]
  },
  {
   "cell_type": "code",
   "execution_count": 2,
   "id": "af53334d",
   "metadata": {},
   "outputs": [],
   "source": [
    "# Set-up Python libraries - you need to run this but you don't need to change it\n",
    "import numpy as np\n",
    "import matplotlib.pyplot as plt\n",
    "import scipy.stats as stats\n",
    "import pandas \n",
    "import seaborn as sns\n",
    "import statsmodels.api as sm\n",
    "import statsmodels.formula.api as smf"
   ]
  },
  {
   "cell_type": "markdown",
   "id": "265d0f9b",
   "metadata": {},
   "source": [
    "### Import and view the data"
   ]
  },
  {
   "cell_type": "code",
   "execution_count": 3,
   "id": "f999d6c8",
   "metadata": {},
   "outputs": [
    {
     "data": {
      "text/html": [
       "<div>\n",
       "<style scoped>\n",
       "    .dataframe tbody tr th:only-of-type {\n",
       "        vertical-align: middle;\n",
       "    }\n",
       "\n",
       "    .dataframe tbody tr th {\n",
       "        vertical-align: top;\n",
       "    }\n",
       "\n",
       "    .dataframe thead th {\n",
       "        text-align: right;\n",
       "    }\n",
       "</style>\n",
       "<table border=\"1\" class=\"dataframe\">\n",
       "  <thead>\n",
       "    <tr style=\"text-align: right;\">\n",
       "      <th></th>\n",
       "      <th>age</th>\n",
       "      <th>colsci</th>\n",
       "      <th>evolved</th>\n",
       "      <th>polviews</th>\n",
       "    </tr>\n",
       "  </thead>\n",
       "  <tbody>\n",
       "    <tr>\n",
       "      <th>0</th>\n",
       "      <td>43</td>\n",
       "      <td>no</td>\n",
       "      <td>0</td>\n",
       "      <td>2</td>\n",
       "    </tr>\n",
       "    <tr>\n",
       "      <th>1</th>\n",
       "      <td>42</td>\n",
       "      <td>yes</td>\n",
       "      <td>1</td>\n",
       "      <td>3</td>\n",
       "    </tr>\n",
       "    <tr>\n",
       "      <th>2</th>\n",
       "      <td>30</td>\n",
       "      <td>yes</td>\n",
       "      <td>0</td>\n",
       "      <td>2</td>\n",
       "    </tr>\n",
       "    <tr>\n",
       "      <th>3</th>\n",
       "      <td>34</td>\n",
       "      <td>no</td>\n",
       "      <td>1</td>\n",
       "      <td>2</td>\n",
       "    </tr>\n",
       "    <tr>\n",
       "      <th>4</th>\n",
       "      <td>56</td>\n",
       "      <td>yes</td>\n",
       "      <td>0</td>\n",
       "      <td>2</td>\n",
       "    </tr>\n",
       "    <tr>\n",
       "      <th>...</th>\n",
       "      <td>...</td>\n",
       "      <td>...</td>\n",
       "      <td>...</td>\n",
       "      <td>...</td>\n",
       "    </tr>\n",
       "    <tr>\n",
       "      <th>498</th>\n",
       "      <td>38</td>\n",
       "      <td>no</td>\n",
       "      <td>1</td>\n",
       "      <td>6</td>\n",
       "    </tr>\n",
       "    <tr>\n",
       "      <th>499</th>\n",
       "      <td>57</td>\n",
       "      <td>yes</td>\n",
       "      <td>1</td>\n",
       "      <td>6</td>\n",
       "    </tr>\n",
       "    <tr>\n",
       "      <th>500</th>\n",
       "      <td>39</td>\n",
       "      <td>yes</td>\n",
       "      <td>1</td>\n",
       "      <td>6</td>\n",
       "    </tr>\n",
       "    <tr>\n",
       "      <th>501</th>\n",
       "      <td>75</td>\n",
       "      <td>no</td>\n",
       "      <td>0</td>\n",
       "      <td>3</td>\n",
       "    </tr>\n",
       "    <tr>\n",
       "      <th>502</th>\n",
       "      <td>72</td>\n",
       "      <td>yes</td>\n",
       "      <td>1</td>\n",
       "      <td>2</td>\n",
       "    </tr>\n",
       "  </tbody>\n",
       "</table>\n",
       "<p>503 rows × 4 columns</p>\n",
       "</div>"
      ],
      "text/plain": [
       "     age colsci  evolved  polviews\n",
       "0     43     no        0         2\n",
       "1     42    yes        1         3\n",
       "2     30    yes        0         2\n",
       "3     34     no        1         2\n",
       "4     56    yes        0         2\n",
       "..   ...    ...      ...       ...\n",
       "498   38     no        1         6\n",
       "499   57    yes        1         6\n",
       "500   39    yes        1         6\n",
       "501   75     no        0         3\n",
       "502   72    yes        1         2\n",
       "\n",
       "[503 rows x 4 columns]"
      ]
     },
     "execution_count": 3,
     "metadata": {},
     "output_type": "execute_result"
    }
   ],
   "source": [
    "evolution = pandas.read_csv('https://raw.githubusercontent.com/jillxoreilly/StatsCourseBook/main/data/evolution.csv')\n",
    "evolution"
   ]
  },
  {
   "cell_type": "markdown",
   "id": "48930497",
   "metadata": {},
   "source": [
    "Which column is which variable, from the list above?\n",
    "\n",
    "## Logistic regression\n",
    "\n",
    "We ask Python to run a logistic regression, predicting people's view on evolutions (True or False) based on their age, political views and whether they studied science at college;"
   ]
  },
  {
   "cell_type": "code",
   "execution_count": null,
   "id": "e692439b",
   "metadata": {},
   "outputs": [],
   "source": [
    "# create the logistic regression model and fit it\n",
    "logistic_model = smf.logit('evolved ~ age + polviews + colsci', data=evolution).fit()\n",
    "\n",
    "# print out the summary table\n",
    "logistic_model.summary()"
   ]
  },
  {
   "cell_type": "markdown",
   "id": "a5e9ce39",
   "metadata": {},
   "source": [
    "The standard model output looks rather like the output table from linear regression. \n",
    "\n",
    "The coefficients in the column “coef” are in log odds. \n",
    "\n",
    "We can interpret these coefficients in the following way: \n",
    "\n",
    "* as people get older they are less likely to agree that humans evolved from earlier species (hence the negative coef)\n",
    "* as people’s political views get more liberal they are more likely to agree (hence the positive coef)\n",
    "* the log odds for studying science at college is also positive; however, it is not statistically significant\n",
    "\n",
    "Because logs odds are rather hard to interpret intuitively (for most of us anyway), we can convert them into odds ratios by exponentiating them, to help with interpretation. \n"
   ]
  },
  {
   "cell_type": "code",
   "execution_count": null,
   "id": "3186849e",
   "metadata": {},
   "outputs": [],
   "source": [
    "# logistic_model.params contains the beta coefficients for each explanatory variable\n",
    "\n",
    "# use numpy's exp function to exponentiate them:\n",
    "np.exp(logistic_model.params)"
   ]
  },
  {
   "cell_type": "markdown",
   "id": "a32ed917",
   "metadata": {},
   "source": [
    "### Interpreting the odds ratios\n",
    "\n",
    "Remember the practice session with logs above? The same principles apply here. \n",
    "\n",
    "Odds of 1 relate to a 50/50 probability, which we can interpret in a logistic regression model as no effect (i.e., the $x$ variable is not associated with a higher or lower probability of the outcome occurring). \n",
    "\n",
    "Positive log odds become odds ratios with a value greater than 1, and negative log odds become odds ratios with a value below 1. \n",
    "\n",
    "Here, we can interpret the model output as follows: \n",
    "\n",
    "* The odds ratio of 1.47 for political views suggests that for each additional point along the scale from conservative to liberal is associated with a 1.47 times greater likelihood of agreeing that humans evolved from earlier species. \n",
    "\n",
    "The output from python provides confidence intervals too. The 95% confidence intervals for the odds ratio are 1.29 – 1.68. \n",
    "\n",
    "* For age, the odds ratio tells us that for each additional year the odds of answering ‘true’ are 0.02 (or 2%) lower (using 1-0.98 for the effect size). Here I will not interpret ‘colsci’ as it is not statistically significant. \n",
    "\n",
    "We know this from the p-value but also because the confidence intervals include 1. Note the contrast with the original model with log odds in this regard).\n",
    "\n",
    "### Making a prediction\n",
    "\n",
    "Python will compute a predicted probability for us. \n",
    "\n",
    "Let’s find out the predicted probability of believing in evolution for a 50-year-old with a score of 5 on the conservative scale, who did not study science at college.\n"
   ]
  },
  {
   "cell_type": "code",
   "execution_count": null,
   "id": "1e12b7de",
   "metadata": {},
   "outputs": [],
   "source": [
    "df = pandas.DataFrame([[50,5,0]])\n",
    "df\n",
    "# Code for calculating predicted probability\n",
    "# logistic_model.predict(exog=[50,5,0])\n"
   ]
  },
  {
   "cell_type": "markdown",
   "id": "9b7d2bbf",
   "metadata": {},
   "source": [
    "## Assessing the model\n",
    "\n",
    "Just as we did in linear regression, we can obtain predicted values for the model. \n",
    "\n",
    "The predicted values can help us to understand how well our model did. They take a value between 0 and 1 and can be treated as a predicted probability of each individual answering ‘true’ to the survey question, given the $x$ variables that we have modelled\n"
   ]
  },
  {
   "cell_type": "code",
   "execution_count": null,
   "id": "fd604a0c",
   "metadata": {},
   "outputs": [],
   "source": [
    "# Get predicted values for each row of the dataframe\n",
    "logistic_model.predict(evolution[['age','polviews','colsci']])"
   ]
  },
  {
   "cell_type": "markdown",
   "id": "bc2c7f90",
   "metadata": {},
   "source": [
    "We can compare how well the model prediction matches the observed data in a classification table which classifies (using Pr(y=1)>0.5 as cut-off) which cases would be predicted as true or false, in a table by whether the observed value was true or false. \n"
   ]
  },
  {
   "cell_type": "code",
   "execution_count": null,
   "id": "8f011c8d",
   "metadata": {},
   "outputs": [],
   "source": [
    "# Get predicted values for each row of the dataframe\n",
    "yhat = logistic_model.predict(evolution[['age','polviews','colsci']])\n",
    "\n",
    "# work out proportion correctly classified\n",
    "np.sum(yhat>0.5)/len(yhat)"
   ]
  },
  {
   "cell_type": "code",
   "execution_count": null,
   "id": "040eebd3",
   "metadata": {},
   "outputs": [],
   "source": []
  },
  {
   "cell_type": "markdown",
   "id": "0db1f04b",
   "metadata": {},
   "source": [
    "\n",
    "The classification table shows that for the y=1 cases (n=282), the model predicted 212 correctly, and 70 incorrectly. For the cases reporting ‘false’ (y=0, n = 221), 115 were correctly classified and 106 incorrectly. Overall, 65% of the cases were correctly classified by this model\n",
    "\n",
    "While a linear regression uses the method of Ordinary Least Squares (OLS) to fit the model, logistic regression uses the *Maximum Likelihood Estimation* method. This method uses the values of the model parameters that are most consistent with the observed data, so that with the intercept and slope values estimated in the model, the observed data have a greater chance of occurring than with any other estimated values (See Agresti, Chapter 5). \n",
    "\n",
    "The log-likelihood is based on summing the probabilities of the observed and actual outcomes and tells us how much unexplained information there is after the model has been fitted (thus analogous to residual sum of squares in linear regression). The model log likelihood can be found in the model summary table.\n",
    "\n",
    "Like in linear regression $R^2$, we use a ‘baseline’ model with no $x$ variables (predicting the outcome that occurs most often), and compare the log-likelihood after adding the $x$ variables. The likelihood-ratio test, (in python the LLR $p$-value) produces a $p$-value so that we can tell if our model is statistically significant. Low p-values (below 0.05) tell us that the model with the $x$s is significantly better at predicting the outcome than the baseline model. "
   ]
  },
  {
   "cell_type": "code",
   "execution_count": null,
   "id": "72f2e44e",
   "metadata": {},
   "outputs": [],
   "source": []
  }
 ],
 "metadata": {
  "kernelspec": {
   "display_name": "Python 3 (ipykernel)",
   "language": "python",
   "name": "python3"
  },
  "language_info": {
   "codemirror_mode": {
    "name": "ipython",
    "version": 3
   },
   "file_extension": ".py",
   "mimetype": "text/x-python",
   "name": "python",
   "nbconvert_exporter": "python",
   "pygments_lexer": "ipython3",
   "version": "3.9.13"
  }
 },
 "nbformat": 4,
 "nbformat_minor": 5
}
