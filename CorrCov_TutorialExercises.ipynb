{
 "cells": [
  {
   "cell_type": "markdown",
   "id": "ef0a89e0",
   "metadata": {},
   "source": [
    "# Tutorial Exercises\n",
    "\n",
    "## Heart attack data\n",
    "\n",
    "In this example we will use data from 12,843 patients admitted to hospital in New York City with a heart attack.\n",
    "The data were collected via the Medicare system and are modified from a dataset at <a href=\"https://dasl.datadescription.com/\">DASL</a>\n",
    "\n",
    "These exercises will review some of the skills learned over the last three weeks. They will also prepare you for the first hand-in exercise: to produce a report for the Chair or Medicare, describing the main factors affecting cost and length of hospital stay for heart attack patients."
   ]
  },
  {
   "cell_type": "markdown",
   "id": "554bd33b",
   "metadata": {},
   "source": [
    "### Set up Python libraries\n",
    "\n",
    "As usual, run the code cell below to import the relevant Python libraries"
   ]
  },
  {
   "cell_type": "code",
   "execution_count": null,
   "id": "6e215164",
   "metadata": {},
   "outputs": [],
   "source": [
    "# Set-up Python libraries - you need to run this but you don't need to change it\n",
    "import numpy as np\n",
    "import matplotlib.pyplot as plt\n",
    "import scipy.stats as stats\n",
    "import pandas \n",
    "import seaborn as sns\n",
    "sns.set_theme()"
   ]
  },
  {
   "cell_type": "markdown",
   "id": "77e481a2",
   "metadata": {},
   "source": [
    "### Load and inspect the data"
   ]
  },
  {
   "cell_type": "code",
   "execution_count": null,
   "id": "181072c8",
   "metadata": {},
   "outputs": [],
   "source": [
    "heartAttack=pandas.read_csv('https://raw.githubusercontent.com/jillxoreilly/StatsCourseBook/main/data/heartAttack.csv')\n",
    "display(heartAttack)"
   ]
  },
  {
   "cell_type": "markdown",
   "id": "c7d3a5e9",
   "metadata": {},
   "source": [
    "What data do we have for each patient?\n",
    "<ul>\n",
    "    <li> CHARGES is the dollar cost of the hospital stay\n",
    "    <li> LOS is Length of Stay (in hospital) in days\n",
    "    <li> DIED is coded as 1 if the person died, 0 if they left hospital alive\n",
    "    <li> DRG is a discharge code\n",
    "</ul>\n",
    "\n",
    "### Evaluate missing and bad data values\n",
    "\n",
    "How many missing values (NaNs) are there for each variale (column) in the dataset?"
   ]
  },
  {
   "cell_type": "code",
   "execution_count": 1,
   "id": "267dec38",
   "metadata": {},
   "outputs": [],
   "source": [
    "# your code here!"
   ]
  },
  {
   "cell_type": "markdown",
   "id": "b0d5c2f1",
   "metadata": {},
   "source": [
    "Can you find any data points that look like outliers or misrecorded values?\n",
    "\n",
    "You could try the following techniques:\n",
    "<ul>\n",
    "    <li> plot the data to see if outliers are obvious\n",
    "    <li> sort the data using <tt>pandas.df.sort_values()</tt> to bring extreme values to the top (or bottom) of the dataframe, then display the sorted dataframe\n",
    "    <li> obtain descriptive statistics and check the max an min value for each column of the dataframe\n",
    "</ul>\n",
    "\n",
    "For patients with outlier values, you should decide whether to:\n",
    "\n",
    "<ol>\n",
    "    <li>replace individual datapoints with NaNs\n",
    "    <li>replace the entire patient record with NaNs\n",
    "    <li>remove the entire record from the dataset with <tt>pandas.df.drop()</tt>\n",
    "    <li>retain the data as is, at least for now\n",
    "</ol>\n",
    "Think how you would justify your choice to a reader\n"
   ]
  },
  {
   "cell_type": "code",
   "execution_count": 2,
   "id": "6b9cc770",
   "metadata": {},
   "outputs": [],
   "source": [
    "# your code here!"
   ]
  },
  {
   "cell_type": "markdown",
   "id": "7d4e0d69",
   "metadata": {},
   "source": [
    "### Cost of hospital stay\n",
    "\n",
    "The column <tt>CHARGES</tt> tells us how much the hospital stay cost in $.\n",
    "\n",
    "Plot the distribution of charges using a suitable plot type. "
   ]
  },
  {
   "cell_type": "code",
   "execution_count": 3,
   "id": "1d4885ee",
   "metadata": {},
   "outputs": [],
   "source": [
    "# Your code here"
   ]
  },
  {
   "cell_type": "markdown",
   "id": "72b04a0b",
   "metadata": {},
   "source": [
    "Describe the distribution of charges in words, including some descriptive statistics. \n",
    "\n",
    "Part of the task here is to decide which descriptives are useful to give the reader a summary fo the distribution of charges. \n",
    "\n",
    "Try to make a choice yourself, and then discuss with your tutor if unsure."
   ]
  },
  {
   "cell_type": "code",
   "execution_count": 4,
   "id": "a7afbf97",
   "metadata": {},
   "outputs": [],
   "source": [
    "# Your code here"
   ]
  },
  {
   "cell_type": "markdown",
   "id": "738d44f0",
   "metadata": {},
   "source": [
    "### Length of hospital stay\n",
    "\n",
    "The column <tt>LOS</tt> tells us how long each patient stayed in hospital.\n",
    "\n",
    "Plot the distribution of length of stay using a suitable plot type. "
   ]
  },
  {
   "cell_type": "code",
   "execution_count": 5,
   "id": "d7c3e7c6",
   "metadata": {},
   "outputs": [],
   "source": [
    "# Your code here"
   ]
  },
  {
   "cell_type": "markdown",
   "id": "9fb612c8",
   "metadata": {},
   "source": [
    "Hm, there is an interesting feature in that data distribution - what is it?\n",
    "\n",
    "Can you think what the origin of this feature is (what caused it?)\n",
    "\n",
    "HINT: it may help to plot data separately for the different values of one of the categorical variables, using the argument <tt>hue</tt> in the plotting function. You will get a clearer result with a KDE plot than a histogram (try both and see why)."
   ]
  },
  {
   "cell_type": "code",
   "execution_count": 6,
   "id": "f0e17f4e",
   "metadata": {},
   "outputs": [],
   "source": [
    "# Your code here"
   ]
  },
  {
   "cell_type": "markdown",
   "id": "bfd1d131",
   "metadata": {},
   "source": [
    ".......Your comment here......... double click to edit this text box!"
   ]
  },
  {
   "cell_type": "markdown",
   "id": "5af06185",
   "metadata": {},
   "source": [
    "### Association between cost and length of stay\n",
    "\n",
    "Probably the biggest factor affecting the cost of the stay is the length of the stay.\n",
    "\n",
    "Produce an appropriate plot and descriptive statisitics to demonstrate the relationship between cost and length of stay."
   ]
  },
  {
   "cell_type": "code",
   "execution_count": 7,
   "id": "334d7fb6",
   "metadata": {},
   "outputs": [],
   "source": [
    "# Your code here"
   ]
  },
  {
   "cell_type": "markdown",
   "id": "5a465818",
   "metadata": {},
   "source": [
    ".......Your comment here......... double click to edit this text box!"
   ]
  },
  {
   "cell_type": "markdown",
   "id": "f311f9fb",
   "metadata": {},
   "source": [
    "You may remember from the exercises on covariance that change in $y$ for one unit in $x$ is given by the regression slope:\n",
    "\n",
    "$$ b = \\frac{s_{xy}}{s^2_x} $$\n",
    "\n",
    "Apply the equation in Python to find out how much, on average, one extra day in hospital costs."
   ]
  },
  {
   "cell_type": "code",
   "execution_count": 8,
   "id": "7ce20464",
   "metadata": {},
   "outputs": [],
   "source": [
    "# Your code here"
   ]
  },
  {
   "cell_type": "markdown",
   "id": "882a3744",
   "metadata": {},
   "source": [
    "## Association between length of stay and age\n",
    "\n",
    "Older people tend to stay longer in hospital - produce an appropriate plot and descriptive statisitics to demonstrate the relationship between cost and length of stay."
   ]
  },
  {
   "cell_type": "code",
   "execution_count": 9,
   "id": "137e262d",
   "metadata": {},
   "outputs": [],
   "source": [
    "# Your code here"
   ]
  },
  {
   "cell_type": "markdown",
   "id": "e4057023",
   "metadata": {},
   "source": [
    ".......Your comment here......... double click to edit this text box!"
   ]
  },
  {
   "cell_type": "markdown",
   "id": "6446bffc",
   "metadata": {},
   "source": [
    "### Sex difference in mortality\n",
    "\n",
    "A greater proportion of the women died than men.\n",
    "\n",
    "Illustrate this assocation between sex and mortality using <tt>sns.countplot()</tt>"
   ]
  },
  {
   "cell_type": "code",
   "execution_count": 10,
   "id": "523c4f3c",
   "metadata": {},
   "outputs": [],
   "source": [
    "# Your code here"
   ]
  },
  {
   "cell_type": "markdown",
   "id": "2436a396",
   "metadata": {},
   "source": [
    "### Age difference between sexes\n",
    "\n",
    "Could the higher death rate for women be explained by their age?\n",
    "\n",
    "Explore with appropriate plots and summarize your observations in words including descriptive statstics."
   ]
  },
  {
   "cell_type": "code",
   "execution_count": 11,
   "id": "02ae4fa9",
   "metadata": {},
   "outputs": [],
   "source": [
    "# Your code here"
   ]
  },
  {
   "cell_type": "markdown",
   "id": "3e7592b6",
   "metadata": {},
   "source": [
    ".......Your comment here......... double click to edit this text box!"
   ]
  },
  {
   "cell_type": "markdown",
   "id": "4385b49f",
   "metadata": {},
   "source": [
    "### What is DRG?\n",
    "\n",
    "The column DRG is a discharge code, which tells ou something about the patient's destination after the hospital. \n",
    "\n",
    "I do not know what the different codes mean, ut you could try to find out by plotting some of the other variables broken down by DRG (eg using the <tt>hue</tt> property of <tt>sns</tt> plotting functions</tt>). You should at least eb ablbe to work out what code 123 means."
   ]
  },
  {
   "cell_type": "code",
   "execution_count": 12,
   "id": "982eeddb",
   "metadata": {},
   "outputs": [],
   "source": [
    "# Your code here"
   ]
  },
  {
   "cell_type": "markdown",
   "id": "065e5475",
   "metadata": {},
   "source": [
    ".......Your comment here......... double click to edit this text box!"
   ]
  },
  {
   "cell_type": "code",
   "execution_count": null,
   "id": "1ef897a0",
   "metadata": {},
   "outputs": [],
   "source": []
  }
 ],
 "metadata": {
  "kernelspec": {
   "display_name": "Python 3 (ipykernel)",
   "language": "python",
   "name": "python3"
  },
  "language_info": {
   "codemirror_mode": {
    "name": "ipython",
    "version": 3
   },
   "file_extension": ".py",
   "mimetype": "text/x-python",
   "name": "python",
   "nbconvert_exporter": "python",
   "pygments_lexer": "ipython3",
   "version": "3.9.13"
  }
 },
 "nbformat": 4,
 "nbformat_minor": 5
}
